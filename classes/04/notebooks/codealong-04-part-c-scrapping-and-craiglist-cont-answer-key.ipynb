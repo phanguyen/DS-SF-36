{
 "cells": [
  {
   "cell_type": "markdown",
   "metadata": {},
   "source": [
    "# DS-SF-36 | 04 | Databases and Scrapping | Codealong | Answer Key"
   ]
  },
  {
   "cell_type": "markdown",
   "metadata": {},
   "source": [
    "## Part C | Scrapping and Amazon Product Reviews (cont.)"
   ]
  },
  {
   "cell_type": "markdown",
   "metadata": {},
   "source": [
    "> ## We are now ready to extract the reviews offline and no longer need to query the Amazon website."
   ]
  },
  {
   "cell_type": "code",
   "execution_count": 8,
   "metadata": {
    "collapsed": true
   },
   "outputs": [],
   "source": [
    "import os\n",
    "import gzip\n",
    "import json\n",
    "import lxml.html\n",
    "import dateutil\n",
    "\n",
    "import pandas as pd\n",
    "pd.set_option('display.max_rows', 10)\n",
    "pd.set_option('display.notebook_repr_html', True)\n",
    "pd.set_option('display.max_columns', 10)"
   ]
  },
  {
   "cell_type": "markdown",
   "metadata": {},
   "source": [
    "> ## Input"
   ]
  },
  {
   "cell_type": "code",
   "execution_count": 3,
   "metadata": {
    "collapsed": true
   },
   "outputs": [],
   "source": [
    "with gzip.open(os.path.join('..', 'datasets', 'final-project-craigslist.json.gz'), 'rb') as f:\n",
    "    pages = json.loads(f.read())"
   ]
  },
  {
   "cell_type": "code",
   "execution_count": 4,
   "metadata": {},
   "outputs": [
    {
     "data": {
      "text/plain": [
       "120"
      ]
     },
     "execution_count": 4,
     "metadata": {},
     "output_type": "execute_result"
    }
   ],
   "source": [
    "len(pages)"
   ]
  },
  {
   "cell_type": "markdown",
   "metadata": {},
   "source": [
    "## First page"
   ]
  },
  {
   "cell_type": "code",
   "execution_count": 5,
   "metadata": {
    "collapsed": true
   },
   "outputs": [],
   "source": [
    "page = pages['120']['content']"
   ]
  },
  {
   "cell_type": "code",
   "execution_count": 6,
   "metadata": {},
   "outputs": [
    {
     "data": {
      "text/plain": [
       "u'\\ufeff<!DOCTYPE html>\\n\\n<html class=\"no-js\"><head>\\n    <title>SF bay area business/mgmt &quot;project&quot; - craigslist</title>\\n\\n    <meta name=\"description\" content=\"SF bay area business/mgmt &quot;project&quot; - craigslist\">\\n    <meta http-equiv=\"X-UA-Compatible\" content=\"IE=Edge\"/>\\n    <link rel=\"canonical\" href=\"https://sfbay.craigslist.org/search/bus?s=120\">\\n    <link rel=\"alternate\" type=\"application/rss+xml\" href=\"https://sfbay.craigslist.org/search/bus?format=rss&amp;query=project&amp;s=120\" title=\"RSS feed for craigslist | SF bay area business/mgmt &quot;project&quot; - craigslist \">\\n    <link rel=\"prev\" href=\"https://sfbay.craigslist.org/search/bus?query=project\">\\n    \\n    <meta name=\"viewport\" content=\"width=device-width,initial-scale=1\">\\n    <link type=\"text/css\" rel=\"stylesheet\" media=\"all\" href=\"//www.craigslist.org/styles/cl.css?v=d76fe4376346bd1b2503fb10181051a7\">\\n    <link type=\"text/css\" rel=\"stylesheet\" media=\"all\" href=\"//www.craigslist.org/styles/search.css?v=27e1d4246df60da5ffd1146d59a8107e\">\\n    <link type=\"text/css\" rel=\"stylesheet\" media=\"all\" href=\"//www.craigslist.org/styles/jquery-ui-clcustom.css?v=3b05ddffb7c7f5b62066deff2dda9339\">\\n    <link rel=\"prefetch\" href=\"//www.craigslist.org/js/postings-concat.min.js?v=5fba2d5d8f63b179eb3603dbc3d6504c\">\\n    <link type=\"text/css\" rel=\"stylesheet\" media=\"all\" href=\"//www.craigslist.org/styles/leaflet.css?v=a3659216b188171f9645f20cd0b4e60e\">\\n<link type=\"text/css\" rel=\"stylesheet\" media=\"all\" href=\"//www.craigslist.org/styles/MarkerCluster.css?v=9bea97021e746649c6837e95dd9723e8\">\\n<link type=\"text/css\" rel=\"stylesheet\" media=\"all\" href=\"//www.craigslist.org/styles/tocsmaps.css?v=0643bce4a898776e6e10a86823bab509\">\\n<!--[if IE]>\\n    <link type=\"text/css\" rel=\"stylesheet\" media=\"all\" href=\"//www.craigslist.org/styles/tocsmaps-ie.css?v=b21742b2ebe243963373e956ea115db0\">\\n<![endif]-->\\n    \\n        <script type=\"text/javascript\"><!--\\nvar areaCountry = \"US\";\\nvar areaID = \"1\";\\nvar areaRegion = \"CA\";\\nvar catAbb = \"bus\";\\nvar countOfTotalText = \"image {count} of {total}\";\\nvar currencySymbol = \"\";\\nvar defaultView = \"list\";\\nvar expiredFavIDs = null;\\nvar imageConfig = {\"1\":{\"hostname\":\"https://images.craigslist.org\",\"sizes\":[\"50x50c\",\"300x300\",\"600x450\",\"1200x900\"]},\"0\":{\"hostname\":\"https://images.craigslist.org\",\"sizes\":[\"50x50c\",\"300x300\",\"600x450\"]},\"2\":{\"hostname\":\"https://images.craigslist.org\",\"sizes\":[\"50x50c\",\"300x300\",\"600x450\",\"1200x900\"]}};\\nvar lessInfoText = \"less info\";\\nvar maptileBaseUrl = \"//map{s}.craigslist.org/t09/{z}/{x}/{y}.png\";\\nvar maxResults = 2500;\\nvar noImageText = \"no image\";\\nvar pID = null;\\nvar postalLat = null;\\nvar postalLon = null;\\nvar purveyorCategories = null;\\nvar searchDistance = null;\\nvar sectionAbb = \"jjj\";\\nvar sectionBase = \"jjj\";\\nvar showInfoText = \"show info\";\\nvar showMapTabs = 1;\\nvar showingBanished = 0;\\nvar showingFavorites = 0;\\nvar starHint = \"save this post in your favorites list\";\\nvar subarea = null;\\nvar zoomToPosting = null;\\n--></script>\\n    \\n    <!--[if lt IE 9]>\\n<script src=\"//www.craigslist.org/js/html5shiv.min.js?v=c0739b14a84b052680cdee44fea07435\" type=\"text/javascript\" ></script>\\n\\n<script src=\"//www.craigslist.org/js/respond-fork.min.js?v=247e877d69233f6f77bff30aca7b5473\" type=\"text/javascript\" ></script>\\n\\n<![endif]-->\\n<!--[if lte IE 7]>\\n<script src=\"//www.craigslist.org/js/json2.min.js?v=6e47a4bb061d538548771024390aa00b\" type=\"text/javascript\" ></script>\\n\\n<![endif]-->\\n</head>\\n<body class=\"search has-map en\">\\n    <script type=\"text/javascript\"><!--\\n    function C(k){return(document.cookie.match(\\'(^|; )\\'+k+\\'=([^;]*)\\')||0)[2]}\\n    var pagetype, pagemode;\\n    (function(){\\n        var h = document.documentElement;\\n        h.className = h.className.replace(\\'no-js\\', \\'js\\');\\n        var b = document.body;\\n        var bodyClassList = b.className.split(/\\\\s+/);;\\n        pagetype = bodyClassList[0]; // dangerous assumption\\n        var fmt = C(\\'cl_fmt\\');\\n        if ( fmt === \\'regular\\' || fmt === \\'mobile\\' ) {\\n            pagemode = fmt;\\n        } else if (screen.width <= 480) {\\n            pagemode = \\'mobile\\';\\n        } else {\\n            pagemode = \\'regular\\';\\n        }\\n        pagemode = pagemode === \\'mobile\\' ? \\'mobile\\' : \\'desktop\\';\\n        bodyClassList.push(pagemode);\\n        if (C(\\'hidesearch\\') === \\'1\\' && pagemode !== \\'mobile\\') {\\n            bodyClassList.push(\\'hide-search\\');\\n        }\\n        var width = window.innerWidth || document.documentElement.clientWidth;\\n        if (width > 1000) { bodyClassList.push(\\'w1024\\'); }\\n        if (typeof window.sectionBase !== \\'undefined\\') {\\n            var mode = (decodeURIComponent(C(\\'cl_tocmode\\') || \\'\\').match(new RegExp(window.sectionBase + \\':([^,]+)\\', \\'i\\')) || {})[1] || window.defaultView;\\n            if (mode) {\\n                bodyClassList.push(mode);\\n            }\\n        }\\n        b.className = bodyClassList.join(\\' \\');\\n    }());\\n--></script>\\n\\n\\n    <section class=\"page-container\" id=\"page-top\">\\n        <div class=\"bglogo\"></div>\\n        <header class=\"global-header wide\">\\n   <a class=\"header-logo\" name=\"logoLink\" href=\"/\">CL</a>\\n\\n    <nav class=\"breadcrumbs-container\">\\n<form id=\"breadcrumbform\" class=\"breadcrumbs-form\" method=\"get\" action=\"/search/bus\" data-action=\"/search/###/bus\">\\n    <input type=\"hidden\" name=\"query\" value=\"project\">\\n    <ul class=\"breadcrumbs \">\\n        <li class=\"crumb area\">\\n            \\n            <span class=\"no-js\">\\n                <a href=\"/\">SF bay area</a>\\n            </span>\\n                <select name=\"areaAbb\" id=\"areaAbb\" class=\"js-only\">\\n                    <option value=\"sfbay\">SF bay area</option>\\n                        <option value=\"bakersfield\">bakersfield</option>\\n                        <option value=\"chico\">chico</option>\\n                        <option value=\"fresno\">fresno</option>\\n                        <option value=\"goldcountry\">gold country</option>\\n                        <option value=\"hanford\">hanford</option>\\n                        <option value=\"mendocino\">mendocino co</option>\\n                        <option value=\"merced\">merced</option>\\n                        <option value=\"modesto\">modesto</option>\\n                        <option value=\"monterey\">monterey</option>\\n                        <option value=\"redding\">redding</option>\\n                        <option value=\"reno\">reno</option>\\n                        <option value=\"sacramento\">sacramento</option>\\n                        <option value=\"slo\">san luis obispo</option>\\n                        <option value=\"santamaria\">santa maria</option>\\n                        <option value=\"stockton\">stockton</option>\\n                        <option value=\"susanville\">susanville</option>\\n                        <option value=\"visalia\">visalia-tulare</option>\\n                        <option value=\"yubasutter\">yuba-sutter</option>\\n                </select>\\n            <span class=\"breadcrumb-arrow\">&gt;</span>\\n        </li>\\n        <li class=\"crumb subarea\">\\n            <select id=\"subArea\" name=\"subArea\">\\n                <option value=\"\" selected>all SF bay area</option>\\n                <option value=\"eby\">east bay</option>\\n                <option value=\"nby\">north bay</option>\\n                <option value=\"pen\">peninsula</option>\\n                <option value=\"sfc\">san francisco</option>\\n                <option value=\"scz\">santa cruz</option>\\n                <option value=\"sby\">south bay</option>\\n            </select>\\n            <span class=\"breadcrumb-arrow\">&gt;</span>\\n        </li>\\n        <li class=\"crumb section\">\\n                    <select name=\"catAbb\" id=\"catAbb\">\\n                        <option value=\"ccc\">community</option>\\n                        <option value=\"eee\">events</option>\\n                        <option value=\"sss\">for sale</option>\\n                        <option value=\"ggg\">gigs</option>\\n                        <option value=\"hhh\">housing</option>\\n                        <option value=\"jjj\" selected>jobs</option>\\n                        <option value=\"ppp\">personals</option>\\n                        <option value=\"rrr\">resumes</option>\\n                        <option value=\"bbb\">services</option>\\n                    </select>\\n                <span class=\"breadcrumb-arrow\">&gt;</span>\\n        </li>\\n        <li class=\"crumb category\">\\n            <select id=\"subcatAbb\" class=\"js-only\">\\n                <option value=\"jjj\">all</option>\\n                    <option value=\"ofc\">admin/office</option>\\n                    <option value=\"bus\" selected>business</option>\\n                    <option value=\"csr\">customer service</option>\\n                    <option value=\"edu\">education</option>\\n                    <option value=\"egr\">engineering</option>\\n                    <option value=\"etc\">etcetera</option>\\n                    <option value=\"acc\">finance</option>\\n                    <option value=\"fbh\">food/bev/hosp</option>\\n                    <option value=\"lab\">general labor</option>\\n                    <option value=\"gov\">government</option>\\n                    <option value=\"hea\">healthcare</option>\\n                    <option value=\"hum\">human resource</option>\\n                    <option value=\"eng\">internet engineering</option>\\n                    <option value=\"lgl\">legal</option>\\n                    <option value=\"mnu\">manufacturing</option>\\n                    <option value=\"mar\">marketing</option>\\n                    <option value=\"med\">media</option>\\n                    <option value=\"npo\">nonprofit</option>\\n                    <option value=\"rej\">real estate</option>\\n                    <option value=\"ret\">retail/wholesale</option>\\n                    <option value=\"sls\">sales</option>\\n                    <option value=\"spa\">salon/spa/fitness</option>\\n                    <option value=\"sci\">science</option>\\n                    <option value=\"sec\">security</option>\\n                    <option value=\"trd\">skilled trades</option>\\n                    <option value=\"sof\">software</option>\\n                    <option value=\"sad\">systems/networking</option>\\n                    <option value=\"tch\">tech support</option>\\n                    <option value=\"trp\">transport</option>\\n                    <option value=\"tfr\">tv video radio</option>\\n                    <option value=\"web\">web design</option>\\n                    <option value=\"wri\">writing</option>\\n            </select><span class=\"no-js\">business</span>\\n            <span class=\"breadcrumb-arrow\">&gt;</span>\\n        </li>\\n        <li class=\"crumb no-js\">\\n            <input type=\"submit\" value=\"go\">\\n        </li>\\n    </ul>\\n</form>\\n    </nav>\\n\\n<div class=\"userlinks\">\\n    <ul class=\"user-actions\">\\n        <li class=\"user post\">\\n            <a href=\"https://post.craigslist.org/c/sfo\">post</a>\\n        </li>\\n        <li class=\"user account\">\\n            <a href=\"https://accounts.craigslist.org/login/home\">account</a>\\n        </li>\\n    </ul>\\n    <ul class=\"user-favs-discards\">\\n        <li class=\"user\">\\n            <div class=\"favorites\">\\n                <a href=\"#\" class=\"favlink\"><span class=\"icon icon-star fav\" aria-hidden=\"true\"></span><span class=\"fav-number\">0</span><span class=\"fav-label\"> favorites</span></a>\\n            </div>\\n        </li>\\n        <li class=\"user discards\">\\n          <form class=\"unfavform js-only\" method=\"POST\" action=\"/favorites\">\\n            <div class=\"to-banish-page\">\\n              <input type=\"hidden\" class=\"lastLink\" name=\"lastLink\" value=\"//sfbay.craigslist.org/search/bus?query=project&amp;s=120\">\\n              <input type=\"hidden\" class=\"lastTitle\" name=\"lastTitle\" value=\"SF bay area business/mgmt &quot;project&quot; - craigslist\">\\n              <input type=\"hidden\" class=\"unfaves\" name=\"fl\">\\n              <input type=\"hidden\" name=\"uf\" value=\"1\">\\n              <a href=\"#\" class=\"to-banish-page-link\">\\n                <span class=\"icon icon-trash red\" aria-hidden=\"true\"></span>\\n                <span class=\"banished_count\">0</span>\\n                <span class=\"discards-label\"> hidden</span>\\n              </a>\\n            </div>\\n          </form>\\n        </li>\\n    </ul>\\n</div>\\n\\n</header>\\n<header class=\"global-header narrow\">\\n   <a class=\"header-logo\" href=\"/\">CL</a>\\n    <nav class=\"breadcrumbs-container\">\\n\\n<ul class=\"breadcrumbs\">\\n\\n\\nSF bay area            &gt;\\n\\nbusiness/mgmt\\n\\n</ul>\\n\\n\\n    </nav>\\n    <span class=\"linklike show-wide-header\">...</span>\\n</header>\\n\\n\\n        <form id=\"searchform\" class=\"search-form\" action=\"/search/bus\"  >\\n           \\n            <div class=\"querybox\">\\n                \\n                <div class=\"form-tab js-only\"><span class=\"search-open\" title=\"hide search\">&laquo;</span><span class=\"search-closed\" title=\"show search\">&raquo;</span></div>\\n                \\n                <input type=\"text\" placeholder=\"search business/mgmt\" name=\"query\"\\n                    id=\"query\" value=\"project\" autocorrect=\"off\"\\n                    autocapitalize=\"off\" autocomplete=\"off\" data-autocomplete=\"search\" \\n                    class=\"flatinput ui-autocomplete-input\">\\n\\n                <button type=\"submit\" class=\"searchbtn\">\\n                    <span class=\"icon icon-search\" aria-hidden=\"true\"></span>\\n                    <span class=\"screen-reader-text\">press to search craigslist</span>\\n                </button>\\n                <div class=\"savealert\">\\n                            <a class=\"saveme\" data-action=\"save\"  href=\"https://accounts.craigslist.org/login?rt=L&amp;rp=%2Fsavesearch%2Fsave%3FURL%3Dhttps%253A%252F%252Fsfbay%252Ecraigslist%252Eorg%252Fsearch%252Fbus%253Fquery%253Dproject\"  title=\"save this search\" >save search</a>\\n                        </div>\\n            </div>\\n\\n            <div class=\"search-options-container\">\\n    <h2 class=\"search-options-header linklike\">\\n        <div class=\"icon icon-toggle-gear\" aria-hidden=\"true\"></div>\\n        options<span class=\"options-close\">close</span>\\n    </h2>\\n    <input id=\"excats\" type=\"hidden\" name=\"excats\">\\n    <div class=\"search-options\">\\n        <div class=\"searchgroup categories\">\\n            <div class=\"cattitle\">\\n                  <a href=\"/search/bus\" title=\"clear all search parameters\" class=\"reset\">business/mgmt</a>\\n            </div>\\n\\n        </div>\\n        <input type=\"hidden\" name=\"userid\" value=\"\" />\\n\\n\\n\\n\\n\\n        <div class=\"searchgroup\">\\n            <ul><li><label class=\"srchType\"><input type=\"checkbox\" name=\"srchType\"  value=\"T\" >search titles only</label></li><li><label class=\"hasPic\"><input type=\"checkbox\" name=\"hasPic\" class=\"autosubmit\" value=\"1\" >has image</label></li><li><label class=\"postedToday\"><input type=\"checkbox\" name=\"postedToday\" class=\"autosubmit\" value=\"1\" >posted today</label></li><li><label class=\"bundleDuplicates\"><input type=\"checkbox\" name=\"bundleDuplicates\" class=\"autosubmit\" value=\"1\" >bundle duplicates</label></li><li><label class=\"searchNearby\"><input type=\"checkbox\" name=\"searchNearby\" class=\"autosubmit\" value=\"1\" >include nearby areas</label></li></ul>\\n\\n                <ul class=\"js-only nearbyAreas \">\\n                        <li class=\"nearbyZone nearbyZone_2\">\\n                        <label class=\"nearby\">\\n                            <input\\n                            type=\"checkbox\"\\n                            class=\"use-id nearbyArea\"\\n                            name=\"nearbyArea\"\\n                            id=\"nearbyArea_17\"\\n                            value=\"63\"\\n                            \\n                            disabled=\"disabled\"\\n                            />\\n                            bakersfield, CA <small>(bak)</small>\\n                        </label>\\n                        </li>\\n                        <li class=\"nearbyZone nearbyZone_1\">\\n                        <label class=\"nearby\">\\n                            <input\\n                            type=\"checkbox\"\\n                            class=\"use-id nearbyArea\"\\n                            name=\"nearbyArea\"\\n                            id=\"nearbyArea_9\"\\n                            value=\"187\"\\n                            \\n                            disabled=\"disabled\"\\n                            />\\n                            chico, CA <small>(chc)</small>\\n                        </label>\\n                        </li>\\n                        <li class=\"nearbyZone nearbyZone_1\">\\n                        <label class=\"nearby\">\\n                            <input\\n                            type=\"checkbox\"\\n                            class=\"use-id nearbyArea\"\\n                            name=\"nearbyArea\"\\n                            id=\"nearbyArea_8\"\\n                            value=\"43\"\\n                            \\n                            disabled=\"disabled\"\\n                            />\\n                            fresno / madera <small>(fre)</small>\\n                        </label>\\n                        </li>\\n                        <li class=\"\">\\n                        <label class=\"nearby\">\\n                            <input\\n                            type=\"checkbox\"\\n                            class=\"use-id nearbyArea\"\\n                            name=\"nearbyArea\"\\n                            id=\"nearbyArea_5\"\\n                            value=\"373\"\\n                            \\n                            disabled=\"disabled\"\\n                            />\\n                            gold country <small>(gld)</small>\\n                        </label>\\n                        </li>\\n                        <li class=\"nearbyZone nearbyZone_1\">\\n                        <label class=\"nearby\">\\n                            <input\\n                            type=\"checkbox\"\\n                            class=\"use-id nearbyArea\"\\n                            name=\"nearbyArea\"\\n                            id=\"nearbyArea_10\"\\n                            value=\"709\"\\n                            \\n                            disabled=\"disabled\"\\n                            />\\n                            hanford-corcoran <small>(hnf)</small>\\n                        </label>\\n                        </li>\\n                        <li class=\"nearbyZone nearbyZone_3\">\\n                        <label class=\"nearby\">\\n                            <input\\n                            type=\"checkbox\"\\n                            class=\"use-id nearbyArea\"\\n                            name=\"nearbyArea\"\\n                            id=\"nearbyArea_18\"\\n                            value=\"189\"\\n                            \\n                            disabled=\"disabled\"\\n                            />\\n                            humboldt county <small>(hmb)</small>\\n                        </label>\\n                        </li>\\n                        <li class=\"nearbyZone nearbyZone_1\">\\n                        <label class=\"nearby\">\\n                            <input\\n                            type=\"checkbox\"\\n                            class=\"use-id nearbyArea\"\\n                            name=\"nearbyArea\"\\n                            id=\"nearbyArea_7\"\\n                            value=\"454\"\\n                            \\n                            disabled=\"disabled\"\\n                            />\\n                            mendocino county <small>(mdo)</small>\\n                        </label>\\n                        </li>\\n                        <li class=\"\">\\n                        <label class=\"nearby\">\\n                            <input\\n                            type=\"checkbox\"\\n                            class=\"use-id nearbyArea\"\\n                            name=\"nearbyArea\"\\n                            id=\"nearbyArea_4\"\\n                            value=\"285\"\\n                            \\n                            disabled=\"disabled\"\\n                            />\\n                            merced, CA <small>(mer)</small>\\n                        </label>\\n                        </li>\\n                        <li class=\"\">\\n                        <label class=\"nearby\">\\n                            <input\\n                            type=\"checkbox\"\\n                            class=\"use-id nearbyArea\"\\n                            name=\"nearbyArea\"\\n                            id=\"nearbyArea_2\"\\n                            value=\"96\"\\n                            \\n                            disabled=\"disabled\"\\n                            />\\n                            modesto, CA <small>(mod)</small>\\n                        </label>\\n                        </li>\\n                        <li class=\"\">\\n                        <label class=\"nearby\">\\n                            <input\\n                            type=\"checkbox\"\\n                            class=\"use-id nearbyArea\"\\n                            name=\"nearbyArea\"\\n                            id=\"nearbyArea_1\"\\n                            value=\"102\"\\n                            \\n                            disabled=\"disabled\"\\n                            />\\n                            monterey bay <small>(mtb)</small>\\n                        </label>\\n                        </li>\\n                        <li class=\"nearbyZone nearbyZone_2\">\\n                        <label class=\"nearby\">\\n                            <input\\n                            type=\"checkbox\"\\n                            class=\"use-id nearbyArea\"\\n                            name=\"nearbyArea\"\\n                            id=\"nearbyArea_15\"\\n                            value=\"188\"\\n                            \\n                            disabled=\"disabled\"\\n                            />\\n                            redding, CA <small>(rdd)</small>\\n                        </label>\\n                        </li>\\n                        <li class=\"nearbyZone nearbyZone_2\">\\n                        <label class=\"nearby\">\\n                            <input\\n                            type=\"checkbox\"\\n                            class=\"use-id nearbyArea\"\\n                            name=\"nearbyArea\"\\n                            id=\"nearbyArea_13\"\\n                            value=\"92\"\\n                            \\n                            disabled=\"disabled\"\\n                            />\\n                            reno / tahoe <small>(rno)</small>\\n                        </label>\\n                        </li>\\n                        <li class=\"\">\\n                        <label class=\"nearby\">\\n                            <input\\n                            type=\"checkbox\"\\n                            class=\"use-id nearbyArea\"\\n                            name=\"nearbyArea\"\\n                            id=\"nearbyArea_3\"\\n                            value=\"12\"\\n                            \\n                            disabled=\"disabled\"\\n                            />\\n                            sacramento <small>(sac)</small>\\n                        </label>\\n                        </li>\\n                        <li class=\"nearbyZone nearbyZone_1\">\\n                        <label class=\"nearby\">\\n                            <input\\n                            type=\"checkbox\"\\n                            class=\"use-id nearbyArea\"\\n                            name=\"nearbyArea\"\\n                            id=\"nearbyArea_11\"\\n                            value=\"191\"\\n                            \\n                            disabled=\"disabled\"\\n                            />\\n                            san luis obispo <small>(slo)</small>\\n                        </label>\\n                        </li>\\n                        <li class=\"nearbyZone nearbyZone_3\">\\n                        <label class=\"nearby\">\\n                            <input\\n                            type=\"checkbox\"\\n                            class=\"use-id nearbyArea\"\\n                            name=\"nearbyArea\"\\n                            id=\"nearbyArea_19\"\\n                            value=\"62\"\\n                            \\n                            disabled=\"disabled\"\\n                            />\\n                            santa barbara <small>(sba)</small>\\n                        </label>\\n                        </li>\\n                        <li class=\"nearbyZone nearbyZone_2\">\\n                        <label class=\"nearby\">\\n                            <input\\n                            type=\"checkbox\"\\n                            class=\"use-id nearbyArea\"\\n                            name=\"nearbyArea\"\\n                            id=\"nearbyArea_14\"\\n                            value=\"710\"\\n                            \\n                            disabled=\"disabled\"\\n                            />\\n                            santa maria, CA <small>(smx)</small>\\n                        </label>\\n                        </li>\\n                        <li class=\"nearbyZone nearbyZone_3\">\\n                        <label class=\"nearby\">\\n                            <input\\n                            type=\"checkbox\"\\n                            class=\"use-id nearbyArea\"\\n                            name=\"nearbyArea\"\\n                            id=\"nearbyArea_20\"\\n                            value=\"708\"\\n                            \\n                            disabled=\"disabled\"\\n                            />\\n                            siskiyou county <small>(ssk)</small>\\n                        </label>\\n                        </li>\\n                        <li class=\"\">\\n                        <label class=\"nearby\">\\n                            <input\\n                            type=\"checkbox\"\\n                            class=\"use-id nearbyArea\"\\n                            name=\"nearbyArea\"\\n                            id=\"nearbyArea_0\"\\n                            value=\"97\"\\n                            \\n                            disabled=\"disabled\"\\n                            />\\n                            stockton, CA <small>(stk)</small>\\n                        </label>\\n                        </li>\\n                        <li class=\"nearbyZone nearbyZone_2\">\\n                        <label class=\"nearby\">\\n                            <input\\n                            type=\"checkbox\"\\n                            class=\"use-id nearbyArea\"\\n                            name=\"nearbyArea\"\\n                            id=\"nearbyArea_16\"\\n                            value=\"707\"\\n                            \\n                            disabled=\"disabled\"\\n                            />\\n                            susanville, CA <small>(ssn)</small>\\n                        </label>\\n                        </li>\\n                        <li class=\"nearbyZone nearbyZone_3\">\\n                        <label class=\"nearby\">\\n                            <input\\n                            type=\"checkbox\"\\n                            class=\"use-id nearbyArea\"\\n                            name=\"nearbyArea\"\\n                            id=\"nearbyArea_21\"\\n                            value=\"208\"\\n                            \\n                            disabled=\"disabled\"\\n                            />\\n                            ventura county <small>(oxr)</small>\\n                        </label>\\n                        </li>\\n                        <li class=\"nearbyZone nearbyZone_2\">\\n                        <label class=\"nearby\">\\n                            <input\\n                            type=\"checkbox\"\\n                            class=\"use-id nearbyArea\"\\n                            name=\"nearbyArea\"\\n                            id=\"nearbyArea_12\"\\n                            value=\"346\"\\n                            \\n                            disabled=\"disabled\"\\n                            />\\n                            visalia-tulare <small>(vis)</small>\\n                        </label>\\n                        </li>\\n                        <li class=\"nearbyZone nearbyZone_1\">\\n                        <label class=\"nearby\">\\n                            <input\\n                            type=\"checkbox\"\\n                            class=\"use-id nearbyArea\"\\n                            name=\"nearbyArea\"\\n                            id=\"nearbyArea_6\"\\n                            value=\"456\"\\n                            \\n                            disabled=\"disabled\"\\n                            />\\n                            yuba-sutter, CA <small>(ybs)</small>\\n                        </label>\\n                        </li>\\n\\n                        <li>\\n                        <span class=\"nextNearbyZone linklike\" data-zone=\"1\">\\n                            + show <span id=\"nearbyNumber\">22</span> more...\\n                        </span>\\n                        </li>\\n                </ul>\\n        </div>\\n\\n            <div class=\"searchgroup\">\\n                <span class=\"searchfieldlabel\">miles from zip</span>\\n                <input type=\"number\" max=\"200\" min=\"0\" size=\"3\" inputmode=\"numeric\"\\n                    class=\"flatinput searchInput search_distance\" placeholder=\"miles\"\\n                    name=\"search_distance\"\\n                    value=\"\"\\n                />\\n                <input type=\"text\" class=\"flatinput searchInput postal\" placeholder=\"from zip\"\\n                    size=\"7\" name=\"postal\" value=\"\">\\n            </div>\\n\\n        \\n\\n\\n\\n        <div class=\"searchgroup\"><label class=\"is_internship\">\\n        <input type=\"checkbox\" name=\"is_internship\" value=\"1\" class=\"autosubmit\" />\\n    internship\\n</label><br />\\n<label class=\"is_nonprofit\">\\n        <input type=\"checkbox\" name=\"is_nonprofit\" value=\"1\" class=\"autosubmit\" />\\n    non-profit\\n</label><br />\\n<label class=\"is_telecommuting\">\\n        <input type=\"checkbox\" name=\"is_telecommuting\" value=\"1\" class=\"autosubmit\" />\\n    telecommute\\n</label><br />\\n</div><div class=\"searchgroup\"><div class=\"search-attribute \" data-attr=\"employment_type\">\\n    <div class=\"title linklike \">\\n        <span class=\"plus\">&#9656;</span><span class=\"minus\">&#9662;</span> employment type\\n    </div>\\n\\n        <ul class=\"list\">\\n\\n            <li class=\"checkbox \">\\n                <label>\\n                    <input id=\"employment_type_1\" name=\"employment_type\" class=\"multi_checkbox\" value=\"1\" type=\"checkbox\"\\n                     />\\n                    full-time\\n                </label>\\n            </li>\\n            <li class=\"checkbox \">\\n                <label>\\n                    <input id=\"employment_type_2\" name=\"employment_type\" class=\"multi_checkbox\" value=\"2\" type=\"checkbox\"\\n                     />\\n                    part-time\\n                </label>\\n            </li>\\n            <li class=\"checkbox \">\\n                <label>\\n                    <input id=\"employment_type_3\" name=\"employment_type\" class=\"multi_checkbox\" value=\"3\" type=\"checkbox\"\\n                     />\\n                    contract\\n                </label>\\n            </li>\\n            <li class=\"checkbox \">\\n                <label>\\n                    <input id=\"employment_type_4\" name=\"employment_type\" class=\"multi_checkbox\" value=\"4\" type=\"checkbox\"\\n                     />\\n                    employee\\'s choice\\n                </label>\\n            </li>\\n\\n\\n\\n    </ul>\\n</div>\\n</div>\\n\\n\\n        <div class=\"searchgroup resetsearch\">\\n            <a href=\"/search/bus\" title=\"clear all search parameters\" class=\"reset linklike\">reset</a>\\n            <button type=\"submit\" class=\"searchlink linklike\">update search</button>\\n        </div>\\n\\n        \\n    </div>\\n</div>\\n\\n\\n            <div class=\"search-legend\">\\n                <div class=\"search-view js-only\">\\n    <div class=\"dropdown dropdown-icons dropdown-arrows dropdown-view\" role=\"toolbar\" aria-label=\"view options\" aria-expanded=\"false\">\\n        <ul class=\"dropdown-list\">\\n            <li class=\"dropdown-item mode sel\">\\n                <button title=\"show results in a list\" data-selection=\"list\" id=\"listview\">\\n                    <span class=\"view-list icon\"></span>list\\n                </button>\\n                <span class=\"toggle-arrow\"></span>\\n            </li>\\n            <li class=\"dropdown-item mode\">\\n                <button title=\"show results in a list with thumbnail pictures\"  data-selection=\"pic\"  id=\"picview\" >\\n                    <span class=\"view-thumb icon\"></span>thumb\\n                </button>\\n                <span class=\"toggle-arrow\"></span>\\n            </li>\\n            <li class=\"dropdown-item mode\">\\n                <button title=\"show results side-by-side with larger pictures\" data-selection=\"grid\" id=\"gridview\">\\n                    <span class=\"view-gallery icon\"></span>gallery\\n                </button>\\n                <span class=\"toggle-arrow\"></span>\\n            </li>\\n                <li class=\"dropdown-item mode\">\\n                    <button title=\"show results on a map\"  data-selection=\"map\"  id=\"mapview\" >\\n                        <span class=\"view-map icon\"></span>map\\n                    </button>\\n                    <span class=\"toggle-arrow\"></span>\\n                </li>\\n        </ul>\\n    </div>\\n</div>\\n<div class=\"search-sort\" >\\n    <div class=\"dropdown dropdown-sort dropdown-arrows\" data-default-sort=\"rel\" role=\"toolbar\" aria-label=\"sort options\" aria-expanded=\"false\">\\n        <ul class=\"dropdown-list\">\\n\\n            <li class=\"dropdown-item mode \" aria-selected=\"false\">\\n                <a data-selection=\"date\" title=\"show newest matches first\" href=\"/search/bus?sort=date&amp;query=project\">newest <span class=\"toggle-arrow\"></span></a>\\n            </li>\\n            <li class=\"dropdown-item mode sel\" aria-selected=\"true\">\\n                <a data-selection=\"rel\" title=\"show most relevant matches first\" href=\"/search/bus?sort=rel&amp;query=project\">relevant <span class=\"toggle-arrow\"></span></a>\\n            </li>\\n\\n        </ul>\\n    </div>\\n</div>\\n<div class=\"paginator buttongroup lastpage\">\\n    <span class=\"resulttotal\">\\n        <span class=\"for-map\">\\n        displaying <span class=\"displaycountShow\">...</span> postings\\n        </span>\\n    </span>\\n    <span class=\"buttons\">\\n        <a href=\"/search/bus?query=project\" class=\"button first\" title=\"first page\">&lt;&lt;</a>\\n        <span class=\"button first\" title=\"first page\">&lt;&lt;</span>\\n        <a href=\"/search/bus?query=project\" class=\"button prev\" title=\"previous page\">&lt; prev</a>\\n        <span class=\"button prev\" title=\"previous page\">&lt; prev</span>\\n\\n        <span class=\"button pagenum\">\\n            <span class=\"range\">\\n                <span class=\"rangeFrom\">121</span>\\n                -\\n                <span class=\"rangeTo\">171</span>\\n            </span>\\n            /\\n            <span class=\"totalcount\">171</span>\\n        </span>\\n\\n        <a href=\"/search/bus?s=171&amp;query=project\" class=\"button next\" title=\"next page\">next &gt; </a>\\n        <span class=\"button next\" title=\"next page\"> next &gt; </span>\\n    </span>\\n</div>\\n\\n                \\n            </div>\\n            \\n            <div class=\"content\" id=\"sortable-results\" >\\n                <section class=\"favlistsection\">\\n                    <section class=\"favlistinfo\">\\n                        \\n                        \\n                    </section>\\n                    <section class=\"banishlistinfo\">\\n                    </section>\\n                </section>\\n\\n                \\n\\n                \\n\\n                <div class=\"open-map-view-button\">\\n    <span>see in map view</span>\\n</div>\\n<div id=\"mapcontainer\" data-arealat=\"37.500000\" data-arealon=\"-122.250000\">\\n    <div id=\"noresult-overlay\"></div>\\n    <div id=\"noresult-text\">\\n        <span class=\"message\">No mappable items found</span>\\n    </div>\\n    <div id=\"map\" class=\"loading\">\\n        <div class=\"close-full-screen-map-mode-button\">close fullscreen</div>\\n        <div class=\"close-map-view-button\">close map</div>\\n    </div>\\n</div>\\n\\n\\n                <ul class=\"rows\">\\n                    \\n                    \\n                    \\n         <li class=\"result-row\" data-pid=\"6237087295\" data-repost-of=\"4847334693\">\\n\\n        <a href=\"/nby/bus/d/collections-officer-needed-at/6237087295.html\" class=\"result-image gallery\" data-ids=\"1:00N0N_eq9qgpjLH\">\\n        </a>\\n\\n    <p class=\"result-info\">\\n        <span class=\"icon icon-star\" role=\"button\">\\n            <span class=\"screen-reader-text\">favorite this post</span>\\n        </span>\\n\\n            <time class=\"result-date\" datetime=\"2017-07-26 12:48\" title=\"Wed 26 Jul 12:48:50 PM\">Jul 26</time>\\n\\n\\n        <a href=\"/nby/bus/d/collections-officer-needed-at/6237087295.html\" data-id=\"6237087295\" class=\"result-title hdrlnk\">Collections Officer Needed at Exchange Bank!</a>\\n\\n\\n        <span class=\"result-meta\">\\n\\n\\n                <span class=\"result-hood\"> (santa rosa)</span>\\n\\n                <span class=\"result-tags\">\\n                    pic\\n                    <span class=\"maptag\" data-pid=\"6237087295\">map</span>\\n                </span>\\n\\n                <span class=\"banish icon icon-trash\" role=\"button\">\\n                    <span class=\"screen-reader-text\">hide this posting</span>\\n                </span>\\n\\n            <span class=\"unbanish icon icon-trash red\" role=\"button\" aria-hidden=\"true\"></span>\\n            <a href=\"#\" class=\"restore-link\">\\n                <span class=\"restore-narrow-text\">restore</span>\\n                <span class=\"restore-wide-text\">restore this posting</span>\\n            </a>\\n\\n        </span>\\n    </p>\\n</li>\\n\\n         <li class=\"result-row\" data-pid=\"6236607145\" data-repost-of=\"5098034859\">\\n\\n        <a href=\"/sfc/bus/d/area-manager-janitorial/6236607145.html\" class=\"result-image gallery empty\"></a>\\n\\n    <p class=\"result-info\">\\n        <span class=\"icon icon-star\" role=\"button\">\\n            <span class=\"screen-reader-text\">favorite this post</span>\\n        </span>\\n\\n            <time class=\"result-date\" datetime=\"2017-07-26 07:59\" title=\"Wed 26 Jul 07:59:41 AM\">Jul 26</time>\\n\\n\\n        <a href=\"/sfc/bus/d/area-manager-janitorial/6236607145.html\" data-id=\"6236607145\" class=\"result-title hdrlnk\">Area Manager - Janitorial Maintenance - San Francisco Bay Area</a>\\n\\n\\n        <span class=\"result-meta\">\\n\\n\\n                <span class=\"result-hood\"> (San Francisco)</span>\\n\\n                <span class=\"result-tags\">\\n                    <span class=\"maptag\" data-pid=\"6236607145\">map</span>\\n                </span>\\n\\n                <span class=\"banish icon icon-trash\" role=\"button\">\\n                    <span class=\"screen-reader-text\">hide this posting</span>\\n                </span>\\n\\n            <span class=\"unbanish icon icon-trash red\" role=\"button\" aria-hidden=\"true\"></span>\\n            <a href=\"#\" class=\"restore-link\">\\n                <span class=\"restore-narrow-text\">restore</span>\\n                <span class=\"restore-wide-text\">restore this posting</span>\\n            </a>\\n\\n        </span>\\n    </p>\\n</li>\\n\\n         <li class=\"result-row\" data-pid=\"6236081643\">\\n\\n        <a href=\"/sfc/bus/d/operations-office-manager/6236081643.html\" class=\"result-image gallery empty\"></a>\\n\\n    <p class=\"result-info\">\\n        <span class=\"icon icon-star\" role=\"button\">\\n            <span class=\"screen-reader-text\">favorite this post</span>\\n        </span>\\n\\n            <time class=\"result-date\" datetime=\"2017-07-25 19:03\" title=\"Tue 25 Jul 07:03:29 PM\">Jul 25</time>\\n\\n\\n        <a href=\"/sfc/bus/d/operations-office-manager/6236081643.html\" data-id=\"6236081643\" class=\"result-title hdrlnk\">OPERATIONS/OFFICE MANAGER</a>\\n\\n\\n        <span class=\"result-meta\">\\n\\n\\n                <span class=\"result-hood\"> (potrero hill)</span>\\n\\n                <span class=\"result-tags\">\\n                    <span class=\"maptag\" data-pid=\"6236081643\">map</span>\\n                </span>\\n\\n                <span class=\"banish icon icon-trash\" role=\"button\">\\n                    <span class=\"screen-reader-text\">hide this posting</span>\\n                </span>\\n\\n            <span class=\"unbanish icon icon-trash red\" role=\"button\" aria-hidden=\"true\"></span>\\n            <a href=\"#\" class=\"restore-link\">\\n                <span class=\"restore-narrow-text\">restore</span>\\n                <span class=\"restore-wide-text\">restore this posting</span>\\n            </a>\\n\\n        </span>\\n    </p>\\n</li>\\n\\n         <li class=\"result-row\" data-pid=\"6209632486\">\\n\\n        <a href=\"/pen/bus/d/construction-management/6209632486.html\" class=\"result-image gallery empty\"></a>\\n\\n    <p class=\"result-info\">\\n        <span class=\"icon icon-star\" role=\"button\">\\n            <span class=\"screen-reader-text\">favorite this post</span>\\n        </span>\\n\\n            <time class=\"result-date\" datetime=\"2017-07-07 19:11\" title=\"Fri 07 Jul 07:11:13 PM\">Jul  7</time>\\n\\n\\n        <a href=\"/pen/bus/d/construction-management/6209632486.html\" data-id=\"6209632486\" class=\"result-title hdrlnk\">Construction Management</a>\\n\\n\\n        <span class=\"result-meta\">\\n\\n\\n                <span class=\"result-hood\"> (foster city)</span>\\n\\n                <span class=\"result-tags\">\\n                    <span class=\"maptag\" data-pid=\"6209632486\">map</span>\\n                </span>\\n\\n                <span class=\"banish icon icon-trash\" role=\"button\">\\n                    <span class=\"screen-reader-text\">hide this posting</span>\\n                </span>\\n\\n            <span class=\"unbanish icon icon-trash red\" role=\"button\" aria-hidden=\"true\"></span>\\n            <a href=\"#\" class=\"restore-link\">\\n                <span class=\"restore-narrow-text\">restore</span>\\n                <span class=\"restore-wide-text\">restore this posting</span>\\n            </a>\\n\\n        </span>\\n    </p>\\n</li>\\n\\n         <li class=\"result-row\" data-pid=\"6235750951\">\\n\\n        <a href=\"/sfc/bus/d/senior-salesforce/6235750951.html\" class=\"result-image gallery empty\"></a>\\n\\n    <p class=\"result-info\">\\n        <span class=\"icon icon-star\" role=\"button\">\\n            <span class=\"screen-reader-text\">favorite this post</span>\\n        </span>\\n\\n            <time class=\"result-date\" datetime=\"2017-07-25 14:25\" title=\"Tue 25 Jul 02:25:08 PM\">Jul 25</time>\\n\\n\\n        <a href=\"/sfc/bus/d/senior-salesforce/6235750951.html\" data-id=\"6235750951\" class=\"result-title hdrlnk\">Senior Salesforce Administrator</a>\\n\\n\\n        <span class=\"result-meta\">\\n\\n\\n                <span class=\"result-hood\"> (financial district)</span>\\n\\n                <span class=\"result-tags\">\\n                    <span class=\"maptag\" data-pid=\"6235750951\">map</span>\\n                </span>\\n\\n                <span class=\"banish icon icon-trash\" role=\"button\">\\n                    <span class=\"screen-reader-text\">hide this posting</span>\\n                </span>\\n\\n            <span class=\"unbanish icon icon-trash red\" role=\"button\" aria-hidden=\"true\"></span>\\n            <a href=\"#\" class=\"restore-link\">\\n                <span class=\"restore-narrow-text\">restore</span>\\n                <span class=\"restore-wide-text\">restore this posting</span>\\n            </a>\\n\\n        </span>\\n    </p>\\n</li>\\n\\n         <li class=\"result-row\" data-pid=\"6235365393\">\\n\\n        <a href=\"/sby/bus/d/warehouse-manager-in-showroom/6235365393.html\" class=\"result-image gallery empty\"></a>\\n\\n    <p class=\"result-info\">\\n        <span class=\"icon icon-star\" role=\"button\">\\n            <span class=\"screen-reader-text\">favorite this post</span>\\n        </span>\\n\\n            <time class=\"result-date\" datetime=\"2017-07-25 10:25\" title=\"Tue 25 Jul 10:25:35 AM\">Jul 25</time>\\n\\n\\n        <a href=\"/sby/bus/d/warehouse-manager-in-showroom/6235365393.html\" data-id=\"6235365393\" class=\"result-title hdrlnk\">Warehouse Manager  in Showroom Warehouse!</a>\\n\\n\\n        <span class=\"result-meta\">\\n\\n\\n                <span class=\"result-hood\"> (san jose east)</span>\\n\\n                <span class=\"result-tags\">\\n                    <span class=\"maptag\" data-pid=\"6235365393\">map</span>\\n                </span>\\n\\n                <span class=\"banish icon icon-trash\" role=\"button\">\\n                    <span class=\"screen-reader-text\">hide this posting</span>\\n                </span>\\n\\n            <span class=\"unbanish icon icon-trash red\" role=\"button\" aria-hidden=\"true\"></span>\\n            <a href=\"#\" class=\"restore-link\">\\n                <span class=\"restore-narrow-text\">restore</span>\\n                <span class=\"restore-wide-text\">restore this posting</span>\\n            </a>\\n\\n        </span>\\n    </p>\\n</li>\\n\\n         <li class=\"result-row\" data-pid=\"6234810249\">\\n\\n        <a href=\"/sfc/bus/d/client-services-manager/6234810249.html\" class=\"result-image gallery empty\"></a>\\n\\n    <p class=\"result-info\">\\n        <span class=\"icon icon-star\" role=\"button\">\\n            <span class=\"screen-reader-text\">favorite this post</span>\\n        </span>\\n\\n            <time class=\"result-date\" datetime=\"2017-07-25 02:05\" title=\"Tue 25 Jul 02:05:16 AM\">Jul 25</time>\\n\\n\\n        <a href=\"/sfc/bus/d/client-services-manager/6234810249.html\" data-id=\"6234810249\" class=\"result-title hdrlnk\">Client Services Manager</a>\\n\\n\\n        <span class=\"result-meta\">\\n\\n\\n                <span class=\"result-hood\"> (San Francisco, CA)</span>\\n\\n                <span class=\"result-tags\">\\n                    <span class=\"maptag\" data-pid=\"6234810249\">map</span>\\n                </span>\\n\\n                <span class=\"banish icon icon-trash\" role=\"button\">\\n                    <span class=\"screen-reader-text\">hide this posting</span>\\n                </span>\\n\\n            <span class=\"unbanish icon icon-trash red\" role=\"button\" aria-hidden=\"true\"></span>\\n            <a href=\"#\" class=\"restore-link\">\\n                <span class=\"restore-narrow-text\">restore</span>\\n                <span class=\"restore-wide-text\">restore this posting</span>\\n            </a>\\n\\n        </span>\\n    </p>\\n</li>\\n\\n         <li class=\"result-row\" data-pid=\"6208273285\">\\n\\n        <a href=\"/eby/bus/d/account-manager-commercial/6208273285.html\" class=\"result-image gallery empty\"></a>\\n\\n    <p class=\"result-info\">\\n        <span class=\"icon icon-star\" role=\"button\">\\n            <span class=\"screen-reader-text\">favorite this post</span>\\n        </span>\\n\\n            <time class=\"result-date\" datetime=\"2017-07-07 01:58\" title=\"Fri 07 Jul 01:58:33 AM\">Jul  7</time>\\n\\n\\n        <a href=\"/eby/bus/d/account-manager-commercial/6208273285.html\" data-id=\"6208273285\" class=\"result-title hdrlnk\">Account Manager - Commercial Landscape (Tri-Valley)</a>\\n\\n\\n        <span class=\"result-meta\">\\n\\n\\n                <span class=\"result-hood\"> (Dublin, CA)</span>\\n\\n                <span class=\"result-tags\">\\n                    <span class=\"maptag\" data-pid=\"6208273285\">map</span>\\n                </span>\\n\\n                <span class=\"banish icon icon-trash\" role=\"button\">\\n                    <span class=\"screen-reader-text\">hide this posting</span>\\n                </span>\\n\\n            <span class=\"unbanish icon icon-trash red\" role=\"button\" aria-hidden=\"true\"></span>\\n            <a href=\"#\" class=\"restore-link\">\\n                <span class=\"restore-narrow-text\">restore</span>\\n                <span class=\"restore-wide-text\">restore this posting</span>\\n            </a>\\n\\n        </span>\\n    </p>\\n</li>\\n\\n         <li class=\"result-row\" data-pid=\"6207136899\" data-repost-of=\"6128851697\">\\n\\n        <a href=\"/pen/bus/d/senior-business-development/6207136899.html\" class=\"result-image gallery\" data-ids=\"1:01515_gVkUnjON54Y\">\\n        </a>\\n\\n    <p class=\"result-info\">\\n        <span class=\"icon icon-star\" role=\"button\">\\n            <span class=\"screen-reader-text\">favorite this post</span>\\n        </span>\\n\\n            <time class=\"result-date\" datetime=\"2017-07-06 08:59\" title=\"Thu 06 Jul 08:59:37 AM\">Jul  6</time>\\n\\n\\n        <a href=\"/pen/bus/d/senior-business-development/6207136899.html\" data-id=\"6207136899\" class=\"result-title hdrlnk\">Senior Business Development Manager -Full time/Part time</a>\\n\\n\\n        <span class=\"result-meta\">\\n\\n\\n\\n                <span class=\"result-tags\">\\n                    pic\\n                    <span class=\"maptag\" data-pid=\"6207136899\">map</span>\\n                </span>\\n\\n                <span class=\"banish icon icon-trash\" role=\"button\">\\n                    <span class=\"screen-reader-text\">hide this posting</span>\\n                </span>\\n\\n            <span class=\"unbanish icon icon-trash red\" role=\"button\" aria-hidden=\"true\"></span>\\n            <a href=\"#\" class=\"restore-link\">\\n                <span class=\"restore-narrow-text\">restore</span>\\n                <span class=\"restore-wide-text\">restore this posting</span>\\n            </a>\\n\\n        </span>\\n    </p>\\n</li>\\n\\n         <li class=\"result-row\" data-pid=\"6229775520\">\\n\\n        <a href=\"/eby/bus/d/manager-investment-product/6229775520.html\" class=\"result-image gallery empty\"></a>\\n\\n    <p class=\"result-info\">\\n        <span class=\"icon icon-star\" role=\"button\">\\n            <span class=\"screen-reader-text\">favorite this post</span>\\n        </span>\\n\\n            <time class=\"result-date\" datetime=\"2017-07-21 12:15\" title=\"Fri 21 Jul 12:15:33 PM\">Jul 21</time>\\n\\n\\n        <a href=\"/eby/bus/d/manager-investment-product/6229775520.html\" data-id=\"6229775520\" class=\"result-title hdrlnk\">Manager, Investment Product Management</a>\\n\\n\\n        <span class=\"result-meta\">\\n\\n\\n                <span class=\"result-hood\"> (concord / pleasant hill / martinez)</span>\\n\\n                <span class=\"result-tags\">\\n                    img\\n                    <span class=\"maptag\" data-pid=\"6229775520\">map</span>\\n                </span>\\n\\n                <span class=\"banish icon icon-trash\" role=\"button\">\\n                    <span class=\"screen-reader-text\">hide this posting</span>\\n                </span>\\n\\n            <span class=\"unbanish icon icon-trash red\" role=\"button\" aria-hidden=\"true\"></span>\\n            <a href=\"#\" class=\"restore-link\">\\n                <span class=\"restore-narrow-text\">restore</span>\\n                <span class=\"restore-wide-text\">restore this posting</span>\\n            </a>\\n\\n        </span>\\n    </p>\\n</li>\\n\\n         <li class=\"result-row\" data-pid=\"6206262307\">\\n\\n        <a href=\"/sfc/bus/d/director-of-digital-strategy/6206262307.html\" class=\"result-image gallery\" data-ids=\"1:00303_bX2puNtUddN\">\\n        </a>\\n\\n    <p class=\"result-info\">\\n        <span class=\"icon icon-star\" role=\"button\">\\n            <span class=\"screen-reader-text\">favorite this post</span>\\n        </span>\\n\\n            <time class=\"result-date\" datetime=\"2017-07-05 15:45\" title=\"Wed 05 Jul 03:45:18 PM\">Jul  5</time>\\n\\n\\n        <a href=\"/sfc/bus/d/director-of-digital-strategy/6206262307.html\" data-id=\"6206262307\" class=\"result-title hdrlnk\">Director of Digital Strategy &amp; Engagement</a>\\n\\n\\n        <span class=\"result-meta\">\\n\\n\\n                <span class=\"result-hood\"> (mission district)</span>\\n\\n                <span class=\"result-tags\">\\n                    pic\\n                    <span class=\"maptag\" data-pid=\"6206262307\">map</span>\\n                </span>\\n\\n                <span class=\"banish icon icon-trash\" role=\"button\">\\n                    <span class=\"screen-reader-text\">hide this posting</span>\\n                </span>\\n\\n            <span class=\"unbanish icon icon-trash red\" role=\"button\" aria-hidden=\"true\"></span>\\n            <a href=\"#\" class=\"restore-link\">\\n                <span class=\"restore-narrow-text\">restore</span>\\n                <span class=\"restore-wide-text\">restore this posting</span>\\n            </a>\\n\\n        </span>\\n    </p>\\n</li>\\n\\n         <li class=\"result-row\" data-pid=\"6205982518\">\\n\\n        <a href=\"/sfc/bus/d/business-development/6205982518.html\" class=\"result-image gallery\" data-ids=\"1:00k0k_8DQqUqwHWmz\">\\n        </a>\\n\\n    <p class=\"result-info\">\\n        <span class=\"icon icon-star\" role=\"button\">\\n            <span class=\"screen-reader-text\">favorite this post</span>\\n        </span>\\n\\n            <time class=\"result-date\" datetime=\"2017-07-05 12:44\" title=\"Wed 05 Jul 12:44:30 PM\">Jul  5</time>\\n\\n\\n        <a href=\"/sfc/bus/d/business-development/6205982518.html\" data-id=\"6205982518\" class=\"result-title hdrlnk\">Business Development &amp; Marketing Assistant for Photography Business</a>\\n\\n\\n        <span class=\"result-meta\">\\n\\n\\n\\n                <span class=\"result-tags\">\\n                    pic\\n                    <span class=\"maptag\" data-pid=\"6205982518\">map</span>\\n                </span>\\n\\n                <span class=\"banish icon icon-trash\" role=\"button\">\\n                    <span class=\"screen-reader-text\">hide this posting</span>\\n                </span>\\n\\n            <span class=\"unbanish icon icon-trash red\" role=\"button\" aria-hidden=\"true\"></span>\\n            <a href=\"#\" class=\"restore-link\">\\n                <span class=\"restore-narrow-text\">restore</span>\\n                <span class=\"restore-wide-text\">restore this posting</span>\\n            </a>\\n\\n        </span>\\n    </p>\\n</li>\\n\\n         <li class=\"result-row\" data-pid=\"6205770540\" data-repost-of=\"6146064187\">\\n\\n        <a href=\"/pen/bus/d/technical-program-manager-at/6205770540.html\" class=\"result-image gallery empty\"></a>\\n\\n    <p class=\"result-info\">\\n        <span class=\"icon icon-star\" role=\"button\">\\n            <span class=\"screen-reader-text\">favorite this post</span>\\n        </span>\\n\\n            <time class=\"result-date\" datetime=\"2017-07-05 10:42\" title=\"Wed 05 Jul 10:42:54 AM\">Jul  5</time>\\n\\n\\n        <a href=\"/pen/bus/d/technical-program-manager-at/6205770540.html\" data-id=\"6205770540\" class=\"result-title hdrlnk\">Technical Program Manager at the World\\'s Largest Social Network</a>\\n\\n\\n        <span class=\"result-meta\">\\n\\n\\n                <span class=\"result-hood\"> (menlo park)</span>\\n\\n                <span class=\"result-tags\">\\n                    img\\n                    <span class=\"maptag\" data-pid=\"6205770540\">map</span>\\n                </span>\\n\\n                <span class=\"banish icon icon-trash\" role=\"button\">\\n                    <span class=\"screen-reader-text\">hide this posting</span>\\n                </span>\\n\\n            <span class=\"unbanish icon icon-trash red\" role=\"button\" aria-hidden=\"true\"></span>\\n            <a href=\"#\" class=\"restore-link\">\\n                <span class=\"restore-narrow-text\">restore</span>\\n                <span class=\"restore-wide-text\">restore this posting</span>\\n            </a>\\n\\n        </span>\\n    </p>\\n</li>\\n\\n         <li class=\"result-row\" data-pid=\"6205770601\" data-repost-of=\"6187762888\">\\n\\n        <a href=\"/pen/bus/d/program-manager-retail/6205770601.html\" class=\"result-image gallery empty\"></a>\\n\\n    <p class=\"result-info\">\\n        <span class=\"icon icon-star\" role=\"button\">\\n            <span class=\"screen-reader-text\">favorite this post</span>\\n        </span>\\n\\n            <time class=\"result-date\" datetime=\"2017-07-05 10:42\" title=\"Wed 05 Jul 10:42:56 AM\">Jul  5</time>\\n\\n\\n        <a href=\"/pen/bus/d/program-manager-retail/6205770601.html\" data-id=\"6205770601\" class=\"result-title hdrlnk\">Program Manager - Retail &amp; E-commerce at a large social network</a>\\n\\n\\n        <span class=\"result-meta\">\\n\\n\\n                <span class=\"result-hood\"> (menlo park)</span>\\n\\n                <span class=\"result-tags\">\\n                    img\\n                    <span class=\"maptag\" data-pid=\"6205770601\">map</span>\\n                </span>\\n\\n                <span class=\"banish icon icon-trash\" role=\"button\">\\n                    <span class=\"screen-reader-text\">hide this posting</span>\\n                </span>\\n\\n            <span class=\"unbanish icon icon-trash red\" role=\"button\" aria-hidden=\"true\"></span>\\n            <a href=\"#\" class=\"restore-link\">\\n                <span class=\"restore-narrow-text\">restore</span>\\n                <span class=\"restore-wide-text\">restore this posting</span>\\n            </a>\\n\\n        </span>\\n    </p>\\n</li>\\n\\n         <li class=\"result-row\" data-pid=\"6205700267\">\\n\\n        <a href=\"/eby/bus/d/manager-of-business-finance/6205700267.html\" class=\"result-image gallery empty\"></a>\\n\\n    <p class=\"result-info\">\\n        <span class=\"icon icon-star\" role=\"button\">\\n            <span class=\"screen-reader-text\">favorite this post</span>\\n        </span>\\n\\n            <time class=\"result-date\" datetime=\"2017-07-05 10:04\" title=\"Wed 05 Jul 10:04:23 AM\">Jul  5</time>\\n\\n\\n        <a href=\"/eby/bus/d/manager-of-business-finance/6205700267.html\" data-id=\"6205700267\" class=\"result-title hdrlnk\">Manager of Business &amp; Finance Analysis</a>\\n\\n\\n        <span class=\"result-meta\">\\n\\n\\n                <span class=\"result-hood\"> (Oakland, CA)</span>\\n\\n                <span class=\"result-tags\">\\n                    img\\n                    <span class=\"maptag\" data-pid=\"6205700267\">map</span>\\n                </span>\\n\\n                <span class=\"banish icon icon-trash\" role=\"button\">\\n                    <span class=\"screen-reader-text\">hide this posting</span>\\n                </span>\\n\\n            <span class=\"unbanish icon icon-trash red\" role=\"button\" aria-hidden=\"true\"></span>\\n            <a href=\"#\" class=\"restore-link\">\\n                <span class=\"restore-narrow-text\">restore</span>\\n                <span class=\"restore-wide-text\">restore this posting</span>\\n            </a>\\n\\n        </span>\\n    </p>\\n</li>\\n\\n         <li class=\"result-row\" data-pid=\"6228669571\">\\n\\n        <a href=\"/sby/bus/d/campus-general-manager/6228669571.html\" class=\"result-image gallery empty\"></a>\\n\\n    <p class=\"result-info\">\\n        <span class=\"icon icon-star\" role=\"button\">\\n            <span class=\"screen-reader-text\">favorite this post</span>\\n        </span>\\n\\n            <time class=\"result-date\" datetime=\"2017-07-20 16:22\" title=\"Thu 20 Jul 04:22:04 PM\">Jul 20</time>\\n\\n\\n        <a href=\"/sby/bus/d/campus-general-manager/6228669571.html\" data-id=\"6228669571\" class=\"result-title hdrlnk\">Campus General Manager</a>\\n\\n\\n        <span class=\"result-meta\">\\n\\n\\n                <span class=\"result-hood\"> (santa clara)</span>\\n\\n                <span class=\"result-tags\">\\n                    <span class=\"maptag\" data-pid=\"6228669571\">map</span>\\n                </span>\\n\\n                <span class=\"banish icon icon-trash\" role=\"button\">\\n                    <span class=\"screen-reader-text\">hide this posting</span>\\n                </span>\\n\\n            <span class=\"unbanish icon icon-trash red\" role=\"button\" aria-hidden=\"true\"></span>\\n            <a href=\"#\" class=\"restore-link\">\\n                <span class=\"restore-narrow-text\">restore</span>\\n                <span class=\"restore-wide-text\">restore this posting</span>\\n            </a>\\n\\n        </span>\\n    </p>\\n</li>\\n\\n         <li class=\"result-row\" data-pid=\"6228332606\" data-repost-of=\"4847334693\">\\n\\n        <a href=\"/nby/bus/d/risk-compliance-manager/6228332606.html\" class=\"result-image gallery\" data-ids=\"1:00N0N_eq9qgpjLH\">\\n        </a>\\n\\n    <p class=\"result-info\">\\n        <span class=\"icon icon-star\" role=\"button\">\\n            <span class=\"screen-reader-text\">favorite this post</span>\\n        </span>\\n\\n            <time class=\"result-date\" datetime=\"2017-07-20 12:24\" title=\"Thu 20 Jul 12:24:09 PM\">Jul 20</time>\\n\\n\\n        <a href=\"/nby/bus/d/risk-compliance-manager/6228332606.html\" data-id=\"6228332606\" class=\"result-title hdrlnk\">Risk &amp; Compliance Manager Needed at Exchange Bank!</a>\\n\\n\\n        <span class=\"result-meta\">\\n\\n\\n                <span class=\"result-hood\"> (santa rosa)</span>\\n\\n                <span class=\"result-tags\">\\n                    pic\\n                    <span class=\"maptag\" data-pid=\"6228332606\">map</span>\\n                </span>\\n\\n                <span class=\"banish icon icon-trash\" role=\"button\">\\n                    <span class=\"screen-reader-text\">hide this posting</span>\\n                </span>\\n\\n            <span class=\"unbanish icon icon-trash red\" role=\"button\" aria-hidden=\"true\"></span>\\n            <a href=\"#\" class=\"restore-link\">\\n                <span class=\"restore-narrow-text\">restore</span>\\n                <span class=\"restore-wide-text\">restore this posting</span>\\n            </a>\\n\\n        </span>\\n    </p>\\n</li>\\n\\n         <li class=\"result-row\" data-pid=\"6228322817\" data-repost-of=\"4847334693\">\\n\\n        <a href=\"/nby/bus/d/cra-officer-needed-at/6228322817.html\" class=\"result-image gallery\" data-ids=\"1:00N0N_eq9qgpjLH\">\\n        </a>\\n\\n    <p class=\"result-info\">\\n        <span class=\"icon icon-star\" role=\"button\">\\n            <span class=\"screen-reader-text\">favorite this post</span>\\n        </span>\\n\\n            <time class=\"result-date\" datetime=\"2017-07-20 12:17\" title=\"Thu 20 Jul 12:17:59 PM\">Jul 20</time>\\n\\n\\n        <a href=\"/nby/bus/d/cra-officer-needed-at/6228322817.html\" data-id=\"6228322817\" class=\"result-title hdrlnk\">CRA Officer Needed at Exchange Bank!</a>\\n\\n\\n        <span class=\"result-meta\">\\n\\n\\n                <span class=\"result-hood\"> (santa rosa)</span>\\n\\n                <span class=\"result-tags\">\\n                    pic\\n                    <span class=\"maptag\" data-pid=\"6228322817\">map</span>\\n                </span>\\n\\n                <span class=\"banish icon icon-trash\" role=\"button\">\\n                    <span class=\"screen-reader-text\">hide this posting</span>\\n                </span>\\n\\n            <span class=\"unbanish icon icon-trash red\" role=\"button\" aria-hidden=\"true\"></span>\\n            <a href=\"#\" class=\"restore-link\">\\n                <span class=\"restore-narrow-text\">restore</span>\\n                <span class=\"restore-wide-text\">restore this posting</span>\\n            </a>\\n\\n        </span>\\n    </p>\\n</li>\\n\\n         <li class=\"result-row\" data-pid=\"6228314695\" data-repost-of=\"4847334693\">\\n\\n        <a href=\"/nby/bus/d/loan-documentation-specialist/6228314695.html\" class=\"result-image gallery\" data-ids=\"1:00N0N_eq9qgpjLH\">\\n        </a>\\n\\n    <p class=\"result-info\">\\n        <span class=\"icon icon-star\" role=\"button\">\\n            <span class=\"screen-reader-text\">favorite this post</span>\\n        </span>\\n\\n            <time class=\"result-date\" datetime=\"2017-07-20 12:12\" title=\"Thu 20 Jul 12:12:53 PM\">Jul 20</time>\\n\\n\\n        <a href=\"/nby/bus/d/loan-documentation-specialist/6228314695.html\" data-id=\"6228314695\" class=\"result-title hdrlnk\">Loan Documentation Specialist Needed at Exchange Bank!</a>\\n\\n\\n        <span class=\"result-meta\">\\n\\n\\n                <span class=\"result-hood\"> (santa rosa)</span>\\n\\n                <span class=\"result-tags\">\\n                    pic\\n                    <span class=\"maptag\" data-pid=\"6228314695\">map</span>\\n                </span>\\n\\n                <span class=\"banish icon icon-trash\" role=\"button\">\\n                    <span class=\"screen-reader-text\">hide this posting</span>\\n                </span>\\n\\n            <span class=\"unbanish icon icon-trash red\" role=\"button\" aria-hidden=\"true\"></span>\\n            <a href=\"#\" class=\"restore-link\">\\n                <span class=\"restore-narrow-text\">restore</span>\\n                <span class=\"restore-wide-text\">restore this posting</span>\\n            </a>\\n\\n        </span>\\n    </p>\\n</li>\\n\\n         <li class=\"result-row\" data-pid=\"6228130531\" data-repost-of=\"6035719398\">\\n\\n        <a href=\"/pen/bus/d/program-manager-ii-supportive/6228130531.html\" class=\"result-image gallery\" data-ids=\"1:00u0u_2Y2pUFol5oC,1:00h0h_fqaOtMmLs9g\">\\n        </a>\\n\\n    <p class=\"result-info\">\\n        <span class=\"icon icon-star\" role=\"button\">\\n            <span class=\"screen-reader-text\">favorite this post</span>\\n        </span>\\n\\n            <time class=\"result-date\" datetime=\"2017-07-20 10:18\" title=\"Thu 20 Jul 10:18:59 AM\">Jul 20</time>\\n\\n\\n        <a href=\"/pen/bus/d/program-manager-ii-supportive/6228130531.html\" data-id=\"6228130531\" class=\"result-title hdrlnk\">Program Manager II - Supportive Housing Services</a>\\n\\n\\n        <span class=\"result-meta\">\\n\\n\\n                <span class=\"result-hood\"> (Palo Alto)</span>\\n\\n                <span class=\"result-tags\">\\n                    pic\\n                    <span class=\"maptag\" data-pid=\"6228130531\">map</span>\\n                </span>\\n\\n                <span class=\"banish icon icon-trash\" role=\"button\">\\n                    <span class=\"screen-reader-text\">hide this posting</span>\\n                </span>\\n\\n            <span class=\"unbanish icon icon-trash red\" role=\"button\" aria-hidden=\"true\"></span>\\n            <a href=\"#\" class=\"restore-link\">\\n                <span class=\"restore-narrow-text\">restore</span>\\n                <span class=\"restore-wide-text\">restore this posting</span>\\n            </a>\\n\\n        </span>\\n    </p>\\n</li>\\n\\n         <li class=\"result-row\" data-pid=\"6228023768\" data-repost-of=\"6218391181\">\\n\\n        <a href=\"/sby/bus/d/ecommerce-copywriter/6228023768.html\" class=\"result-image gallery empty\"></a>\\n\\n    <p class=\"result-info\">\\n        <span class=\"icon icon-star\" role=\"button\">\\n            <span class=\"screen-reader-text\">favorite this post</span>\\n        </span>\\n\\n            <time class=\"result-date\" datetime=\"2017-07-20 09:16\" title=\"Thu 20 Jul 09:16:32 AM\">Jul 20</time>\\n\\n\\n        <a href=\"/sby/bus/d/ecommerce-copywriter/6228023768.html\" data-id=\"6228023768\" class=\"result-title hdrlnk\">eCommerce Copywriter - YogaOutlet.com</a>\\n\\n\\n        <span class=\"result-meta\">\\n\\n\\n                <span class=\"result-hood\"> (campbell)</span>\\n\\n                <span class=\"result-tags\">\\n                    <span class=\"maptag\" data-pid=\"6228023768\">map</span>\\n                </span>\\n\\n                <span class=\"banish icon icon-trash\" role=\"button\">\\n                    <span class=\"screen-reader-text\">hide this posting</span>\\n                </span>\\n\\n            <span class=\"unbanish icon icon-trash red\" role=\"button\" aria-hidden=\"true\"></span>\\n            <a href=\"#\" class=\"restore-link\">\\n                <span class=\"restore-narrow-text\">restore</span>\\n                <span class=\"restore-wide-text\">restore this posting</span>\\n            </a>\\n\\n        </span>\\n    </p>\\n</li>\\n\\n         <li class=\"result-row\" data-pid=\"6227233383\">\\n\\n        <a href=\"/nby/bus/d/business-development-intern/6227233383.html\" class=\"result-image gallery empty\"></a>\\n\\n    <p class=\"result-info\">\\n        <span class=\"icon icon-star\" role=\"button\">\\n            <span class=\"screen-reader-text\">favorite this post</span>\\n        </span>\\n\\n            <time class=\"result-date\" datetime=\"2017-07-19 16:56\" title=\"Wed 19 Jul 04:56:31 PM\">Jul 19</time>\\n\\n\\n        <a href=\"/nby/bus/d/business-development-intern/6227233383.html\" data-id=\"6227233383\" class=\"result-title hdrlnk\">Business Development Intern - San Rafael</a>\\n\\n\\n        <span class=\"result-meta\">\\n\\n\\n                <span class=\"result-hood\"> (san rafael)</span>\\n\\n                <span class=\"result-tags\">\\n                    <span class=\"maptag\" data-pid=\"6227233383\">map</span>\\n                </span>\\n\\n                <span class=\"banish icon icon-trash\" role=\"button\">\\n                    <span class=\"screen-reader-text\">hide this posting</span>\\n                </span>\\n\\n            <span class=\"unbanish icon icon-trash red\" role=\"button\" aria-hidden=\"true\"></span>\\n            <a href=\"#\" class=\"restore-link\">\\n                <span class=\"restore-narrow-text\">restore</span>\\n                <span class=\"restore-wide-text\">restore this posting</span>\\n            </a>\\n\\n        </span>\\n    </p>\\n</li>\\n\\n         <li class=\"result-row\" data-pid=\"6204470145\">\\n\\n        <a href=\"/eby/bus/d/senior-level-powerbi-developer/6204470145.html\" class=\"result-image gallery empty\"></a>\\n\\n    <p class=\"result-info\">\\n        <span class=\"icon icon-star\" role=\"button\">\\n            <span class=\"screen-reader-text\">favorite this post</span>\\n        </span>\\n\\n            <time class=\"result-date\" datetime=\"2017-07-04 10:30\" title=\"Tue 04 Jul 10:30:29 AM\">Jul  4</time>\\n\\n\\n        <a href=\"/eby/bus/d/senior-level-powerbi-developer/6204470145.html\" data-id=\"6204470145\" class=\"result-title hdrlnk\">Senior Level PowerBI Developer</a>\\n\\n\\n        <span class=\"result-meta\">\\n\\n\\n                <span class=\"result-hood\"> (walnut creek)</span>\\n\\n                <span class=\"result-tags\">\\n                    <span class=\"maptag\" data-pid=\"6204470145\">map</span>\\n                </span>\\n\\n                <span class=\"banish icon icon-trash\" role=\"button\">\\n                    <span class=\"screen-reader-text\">hide this posting</span>\\n                </span>\\n\\n            <span class=\"unbanish icon icon-trash red\" role=\"button\" aria-hidden=\"true\"></span>\\n            <a href=\"#\" class=\"restore-link\">\\n                <span class=\"restore-narrow-text\">restore</span>\\n                <span class=\"restore-wide-text\">restore this posting</span>\\n            </a>\\n\\n        </span>\\n    </p>\\n</li>\\n\\n         <li class=\"result-row\" data-pid=\"6225678804\" data-repost-of=\"3847448385\">\\n\\n        <a href=\"/eby/bus/d/parking-supervisor-oakland/6225678804.html\" class=\"result-image gallery empty\"></a>\\n\\n    <p class=\"result-info\">\\n        <span class=\"icon icon-star\" role=\"button\">\\n            <span class=\"screen-reader-text\">favorite this post</span>\\n        </span>\\n\\n            <time class=\"result-date\" datetime=\"2017-07-18 16:22\" title=\"Tue 18 Jul 04:22:48 PM\">Jul 18</time>\\n\\n\\n        <a href=\"/eby/bus/d/parking-supervisor-oakland/6225678804.html\" data-id=\"6225678804\" class=\"result-title hdrlnk\">Parking Supervisor - Oakland International Airport</a>\\n\\n\\n        <span class=\"result-meta\">\\n\\n\\n                <span class=\"result-hood\"> (oakland east)</span>\\n\\n                <span class=\"result-tags\">\\n                    <span class=\"maptag\" data-pid=\"6225678804\">map</span>\\n                </span>\\n\\n                <span class=\"banish icon icon-trash\" role=\"button\">\\n                    <span class=\"screen-reader-text\">hide this posting</span>\\n                </span>\\n\\n            <span class=\"unbanish icon icon-trash red\" role=\"button\" aria-hidden=\"true\"></span>\\n            <a href=\"#\" class=\"restore-link\">\\n                <span class=\"restore-narrow-text\">restore</span>\\n                <span class=\"restore-wide-text\">restore this posting</span>\\n            </a>\\n\\n        </span>\\n    </p>\\n</li>\\n\\n         <li class=\"result-row\" data-pid=\"6225576251\">\\n\\n        <a href=\"/eby/bus/d/open-position-assistant/6225576251.html\" class=\"result-image gallery empty\"></a>\\n\\n    <p class=\"result-info\">\\n        <span class=\"icon icon-star\" role=\"button\">\\n            <span class=\"screen-reader-text\">favorite this post</span>\\n        </span>\\n\\n            <time class=\"result-date\" datetime=\"2017-07-18 15:05\" title=\"Tue 18 Jul 03:05:59 PM\">Jul 18</time>\\n\\n\\n        <a href=\"/eby/bus/d/open-position-assistant/6225576251.html\" data-id=\"6225576251\" class=\"result-title hdrlnk\">Open Position - Assistant Community Manager</a>\\n\\n\\n        <span class=\"result-meta\">\\n\\n\\n                <span class=\"result-hood\"> (fremont / union city / newark)</span>\\n\\n                <span class=\"result-tags\">\\n                    <span class=\"maptag\" data-pid=\"6225576251\">map</span>\\n                </span>\\n\\n                <span class=\"banish icon icon-trash\" role=\"button\">\\n                    <span class=\"screen-reader-text\">hide this posting</span>\\n                </span>\\n\\n            <span class=\"unbanish icon icon-trash red\" role=\"button\" aria-hidden=\"true\"></span>\\n            <a href=\"#\" class=\"restore-link\">\\n                <span class=\"restore-narrow-text\">restore</span>\\n                <span class=\"restore-wide-text\">restore this posting</span>\\n            </a>\\n\\n        </span>\\n    </p>\\n</li>\\n\\n         <li class=\"result-row\" data-pid=\"6225007536\">\\n\\n        <a href=\"/sfc/bus/d/product-manager-messaging-and/6225007536.html\" class=\"result-image gallery\" data-ids=\"1:00C0C_fmrVNyKHJ9P\">\\n        </a>\\n\\n    <p class=\"result-info\">\\n        <span class=\"icon icon-star\" role=\"button\">\\n            <span class=\"screen-reader-text\">favorite this post</span>\\n        </span>\\n\\n            <time class=\"result-date\" datetime=\"2017-07-18 09:23\" title=\"Tue 18 Jul 09:23:06 AM\">Jul 18</time>\\n\\n\\n        <a href=\"/sfc/bus/d/product-manager-messaging-and/6225007536.html\" data-id=\"6225007536\" class=\"result-title hdrlnk\">Product Manager (Messaging and Engagement)</a>\\n\\n\\n        <span class=\"result-meta\">\\n\\n\\n                <span class=\"result-hood\"> (San Fransisco)</span>\\n\\n                <span class=\"result-tags\">\\n                    pic\\n                    <span class=\"maptag\" data-pid=\"6225007536\">map</span>\\n                </span>\\n\\n                <span class=\"banish icon icon-trash\" role=\"button\">\\n                    <span class=\"screen-reader-text\">hide this posting</span>\\n                </span>\\n\\n            <span class=\"unbanish icon icon-trash red\" role=\"button\" aria-hidden=\"true\"></span>\\n            <a href=\"#\" class=\"restore-link\">\\n                <span class=\"restore-narrow-text\">restore</span>\\n                <span class=\"restore-wide-text\">restore this posting</span>\\n            </a>\\n\\n        </span>\\n    </p>\\n</li>\\n\\n         <li class=\"result-row\" data-pid=\"6224848855\">\\n\\n        <a href=\"/pen/bus/d/ohc-clinic-operations-manager/6224848855.html\" class=\"result-image gallery empty\"></a>\\n\\n    <p class=\"result-info\">\\n        <span class=\"icon icon-star\" role=\"button\">\\n            <span class=\"screen-reader-text\">favorite this post</span>\\n        </span>\\n\\n            <time class=\"result-date\" datetime=\"2017-07-18 07:51\" title=\"Tue 18 Jul 07:51:50 AM\">Jul 18</time>\\n\\n\\n        <a href=\"/pen/bus/d/ohc-clinic-operations-manager/6224848855.html\" data-id=\"6224848855\" class=\"result-title hdrlnk\">OHC Clinic Operations Manager- Stanford University</a>\\n\\n\\n        <span class=\"result-meta\">\\n\\n\\n                <span class=\"result-hood\"> (palo alto)</span>\\n\\n                <span class=\"result-tags\">\\n                    <span class=\"maptag\" data-pid=\"6224848855\">map</span>\\n                </span>\\n\\n                <span class=\"banish icon icon-trash\" role=\"button\">\\n                    <span class=\"screen-reader-text\">hide this posting</span>\\n                </span>\\n\\n            <span class=\"unbanish icon icon-trash red\" role=\"button\" aria-hidden=\"true\"></span>\\n            <a href=\"#\" class=\"restore-link\">\\n                <span class=\"restore-narrow-text\">restore</span>\\n                <span class=\"restore-wide-text\">restore this posting</span>\\n            </a>\\n\\n        </span>\\n    </p>\\n</li>\\n\\n         <li class=\"result-row\" data-pid=\"6224074819\">\\n\\n        <a href=\"/sby/bus/d/open-position-leasing-agent/6224074819.html\" class=\"result-image gallery\" data-ids=\"1:00M0M_lnY1kmxT6c5,1:00K0K_lhhVNmM9xq7,1:01616_gQI4FiYX4pr,1:00w0w_2vBrTQVBHhv,1:00h0h_bPvZLPMbWAD\">\\n        </a>\\n\\n    <p class=\"result-info\">\\n        <span class=\"icon icon-star\" role=\"button\">\\n            <span class=\"screen-reader-text\">favorite this post</span>\\n        </span>\\n\\n            <time class=\"result-date\" datetime=\"2017-07-17 15:27\" title=\"Mon 17 Jul 03:27:50 PM\">Jul 17</time>\\n\\n\\n        <a href=\"/sby/bus/d/open-position-leasing-agent/6224074819.html\" data-id=\"6224074819\" class=\"result-title hdrlnk\">Open position: Leasing Agent</a>\\n\\n\\n        <span class=\"result-meta\">\\n\\n\\n                <span class=\"result-hood\"> (sunnyvale)</span>\\n\\n                <span class=\"result-tags\">\\n                    pic\\n                    <span class=\"maptag\" data-pid=\"6224074819\">map</span>\\n                </span>\\n\\n                <span class=\"banish icon icon-trash\" role=\"button\">\\n                    <span class=\"screen-reader-text\">hide this posting</span>\\n                </span>\\n\\n            <span class=\"unbanish icon icon-trash red\" role=\"button\" aria-hidden=\"true\"></span>\\n            <a href=\"#\" class=\"restore-link\">\\n                <span class=\"restore-narrow-text\">restore</span>\\n                <span class=\"restore-wide-text\">restore this posting</span>\\n            </a>\\n\\n        </span>\\n    </p>\\n</li>\\n\\n         <li class=\"result-row\" data-pid=\"6223581179\">\\n\\n        <a href=\"/sfc/bus/d/laboratory-manager-clinical/6223581179.html\" class=\"result-image gallery empty\"></a>\\n\\n    <p class=\"result-info\">\\n        <span class=\"icon icon-star\" role=\"button\">\\n            <span class=\"screen-reader-text\">favorite this post</span>\\n        </span>\\n\\n            <time class=\"result-date\" datetime=\"2017-07-17 10:31\" title=\"Mon 17 Jul 10:31:46 AM\">Jul 17</time>\\n\\n\\n        <a href=\"/sfc/bus/d/laboratory-manager-clinical/6223581179.html\" data-id=\"6223581179\" class=\"result-title hdrlnk\">Laboratory Manager, Clinical Neurosciences Research</a>\\n\\n\\n        <span class=\"result-meta\">\\n\\n\\n                <span class=\"result-hood\"> (SOMA / south beach)</span>\\n\\n                <span class=\"result-tags\">\\n                    img\\n                    <span class=\"maptag\" data-pid=\"6223581179\">map</span>\\n                </span>\\n\\n                <span class=\"banish icon icon-trash\" role=\"button\">\\n                    <span class=\"screen-reader-text\">hide this posting</span>\\n                </span>\\n\\n            <span class=\"unbanish icon icon-trash red\" role=\"button\" aria-hidden=\"true\"></span>\\n            <a href=\"#\" class=\"restore-link\">\\n                <span class=\"restore-narrow-text\">restore</span>\\n                <span class=\"restore-wide-text\">restore this posting</span>\\n            </a>\\n\\n        </span>\\n    </p>\\n</li>\\n\\n         <li class=\"result-row\" data-pid=\"6222767209\">\\n\\n        <a href=\"/sby/bus/d/executive-assistant-to-ceo/6222767209.html\" class=\"result-image gallery\" data-ids=\"1:00404_jchhw3ioF7c\">\\n        </a>\\n\\n    <p class=\"result-info\">\\n        <span class=\"icon icon-star\" role=\"button\">\\n            <span class=\"screen-reader-text\">favorite this post</span>\\n        </span>\\n\\n            <time class=\"result-date\" datetime=\"2017-07-16 18:19\" title=\"Sun 16 Jul 06:19:10 PM\">Jul 16</time>\\n\\n\\n        <a href=\"/sby/bus/d/executive-assistant-to-ceo/6222767209.html\" data-id=\"6222767209\" class=\"result-title hdrlnk\">Executive Assistant to CEO/Owner</a>\\n\\n\\n        <span class=\"result-meta\">\\n\\n\\n                <span class=\"result-hood\"> (los gatos)</span>\\n\\n                <span class=\"result-tags\">\\n                    pic\\n                    <span class=\"maptag\" data-pid=\"6222767209\">map</span>\\n                </span>\\n\\n                <span class=\"banish icon icon-trash\" role=\"button\">\\n                    <span class=\"screen-reader-text\">hide this posting</span>\\n                </span>\\n\\n            <span class=\"unbanish icon icon-trash red\" role=\"button\" aria-hidden=\"true\"></span>\\n            <a href=\"#\" class=\"restore-link\">\\n                <span class=\"restore-narrow-text\">restore</span>\\n                <span class=\"restore-wide-text\">restore this posting</span>\\n            </a>\\n\\n        </span>\\n    </p>\\n</li>\\n\\n         <li class=\"result-row\" data-pid=\"6220512747\" data-repost-of=\"6220062445\">\\n\\n        <a href=\"/sfc/bus/d/hr-generalist-payroll-and/6220512747.html\" class=\"result-image gallery empty\"></a>\\n\\n    <p class=\"result-info\">\\n        <span class=\"icon icon-star\" role=\"button\">\\n            <span class=\"screen-reader-text\">favorite this post</span>\\n        </span>\\n\\n            <time class=\"result-date\" datetime=\"2017-07-15 07:12\" title=\"Sat 15 Jul 07:12:22 AM\">Jul 15</time>\\n\\n\\n        <a href=\"/sfc/bus/d/hr-generalist-payroll-and/6220512747.html\" data-id=\"6220512747\" class=\"result-title hdrlnk\">HR Generalist, Payroll, and Benefits Manager</a>\\n\\n\\n        <span class=\"result-meta\">\\n\\n\\n                <span class=\"result-hood\"> (financial district)</span>\\n\\n                <span class=\"result-tags\">\\n                    img\\n                    <span class=\"maptag\" data-pid=\"6220512747\">map</span>\\n                </span>\\n\\n                <span class=\"banish icon icon-trash\" role=\"button\">\\n                    <span class=\"screen-reader-text\">hide this posting</span>\\n                </span>\\n\\n            <span class=\"unbanish icon icon-trash red\" role=\"button\" aria-hidden=\"true\"></span>\\n            <a href=\"#\" class=\"restore-link\">\\n                <span class=\"restore-narrow-text\">restore</span>\\n                <span class=\"restore-wide-text\">restore this posting</span>\\n            </a>\\n\\n        </span>\\n    </p>\\n</li>\\n\\n         <li class=\"result-row\" data-pid=\"6219776827\" data-repost-of=\"4847334693\">\\n\\n        <a href=\"/nby/bus/d/customer-service-specialist/6219776827.html\" class=\"result-image gallery\" data-ids=\"1:00N0N_eq9qgpjLH\">\\n        </a>\\n\\n    <p class=\"result-info\">\\n        <span class=\"icon icon-star\" role=\"button\">\\n            <span class=\"screen-reader-text\">favorite this post</span>\\n        </span>\\n\\n            <time class=\"result-date\" datetime=\"2017-07-14 15:05\" title=\"Fri 14 Jul 03:05:21 PM\">Jul 14</time>\\n\\n\\n        <a href=\"/nby/bus/d/customer-service-specialist/6219776827.html\" data-id=\"6219776827\" class=\"result-title hdrlnk\">Customer Service Specialist Needed at Exchange Bank!</a>\\n\\n\\n        <span class=\"result-meta\">\\n\\n\\n                <span class=\"result-hood\"> (santa rosa)</span>\\n\\n                <span class=\"result-tags\">\\n                    pic\\n                    <span class=\"maptag\" data-pid=\"6219776827\">map</span>\\n                </span>\\n\\n                <span class=\"banish icon icon-trash\" role=\"button\">\\n                    <span class=\"screen-reader-text\">hide this posting</span>\\n                </span>\\n\\n            <span class=\"unbanish icon icon-trash red\" role=\"button\" aria-hidden=\"true\"></span>\\n            <a href=\"#\" class=\"restore-link\">\\n                <span class=\"restore-narrow-text\">restore</span>\\n                <span class=\"restore-wide-text\">restore this posting</span>\\n            </a>\\n\\n        </span>\\n    </p>\\n</li>\\n\\n         <li class=\"result-row\" data-pid=\"6219765095\" data-repost-of=\"4847334693\">\\n\\n        <a href=\"/nby/bus/d/cra-officer-needed-at/6219765095.html\" class=\"result-image gallery\" data-ids=\"1:00N0N_eq9qgpjLH\">\\n        </a>\\n\\n    <p class=\"result-info\">\\n        <span class=\"icon icon-star\" role=\"button\">\\n            <span class=\"screen-reader-text\">favorite this post</span>\\n        </span>\\n\\n            <time class=\"result-date\" datetime=\"2017-07-14 14:57\" title=\"Fri 14 Jul 02:57:17 PM\">Jul 14</time>\\n\\n\\n        <a href=\"/nby/bus/d/cra-officer-needed-at/6219765095.html\" data-id=\"6219765095\" class=\"result-title hdrlnk\">CRA Officer Needed at Exchange Bank!</a>\\n\\n\\n        <span class=\"result-meta\">\\n\\n\\n                <span class=\"result-hood\"> (santa rosa)</span>\\n\\n                <span class=\"result-tags\">\\n                    pic\\n                    <span class=\"maptag\" data-pid=\"6219765095\">map</span>\\n                </span>\\n\\n                <span class=\"banish icon icon-trash\" role=\"button\">\\n                    <span class=\"screen-reader-text\">hide this posting</span>\\n                </span>\\n\\n            <span class=\"unbanish icon icon-trash red\" role=\"button\" aria-hidden=\"true\"></span>\\n            <a href=\"#\" class=\"restore-link\">\\n                <span class=\"restore-narrow-text\">restore</span>\\n                <span class=\"restore-wide-text\">restore this posting</span>\\n            </a>\\n\\n        </span>\\n    </p>\\n</li>\\n\\n         <li class=\"result-row\" data-pid=\"6219750310\" data-repost-of=\"4661245685\">\\n\\n        <a href=\"/sby/bus/d/wealth-operations-associate/6219750310.html\" class=\"result-image gallery empty\"></a>\\n\\n    <p class=\"result-info\">\\n        <span class=\"icon icon-star\" role=\"button\">\\n            <span class=\"screen-reader-text\">favorite this post</span>\\n        </span>\\n\\n            <time class=\"result-date\" datetime=\"2017-07-14 14:47\" title=\"Fri 14 Jul 02:47:07 PM\">Jul 14</time>\\n\\n\\n        <a href=\"/sby/bus/d/wealth-operations-associate/6219750310.html\" data-id=\"6219750310\" class=\"result-title hdrlnk\">Wealth Operations Associate</a>\\n\\n\\n        <span class=\"result-meta\">\\n\\n\\n                <span class=\"result-hood\"> (san jose downtown)</span>\\n\\n                <span class=\"result-tags\">\\n                    <span class=\"maptag\" data-pid=\"6219750310\">map</span>\\n                </span>\\n\\n                <span class=\"banish icon icon-trash\" role=\"button\">\\n                    <span class=\"screen-reader-text\">hide this posting</span>\\n                </span>\\n\\n            <span class=\"unbanish icon icon-trash red\" role=\"button\" aria-hidden=\"true\"></span>\\n            <a href=\"#\" class=\"restore-link\">\\n                <span class=\"restore-narrow-text\">restore</span>\\n                <span class=\"restore-wide-text\">restore this posting</span>\\n            </a>\\n\\n        </span>\\n    </p>\\n</li>\\n\\n         <li class=\"result-row\" data-pid=\"6219431438\">\\n\\n        <a href=\"/pen/bus/d/revenue-manager-essex/6219431438.html\" class=\"result-image gallery\" data-ids=\"1:00U0U_jKPVVp15p6C\">\\n        </a>\\n\\n    <p class=\"result-info\">\\n        <span class=\"icon icon-star\" role=\"button\">\\n            <span class=\"screen-reader-text\">favorite this post</span>\\n        </span>\\n\\n            <time class=\"result-date\" datetime=\"2017-07-14 11:27\" title=\"Fri 14 Jul 11:27:22 AM\">Jul 14</time>\\n\\n\\n        <a href=\"/pen/bus/d/revenue-manager-essex/6219431438.html\" data-id=\"6219431438\" class=\"result-title hdrlnk\">Revenue Manager (Essex Property Trust)</a>\\n\\n\\n        <span class=\"result-meta\">\\n\\n\\n                <span class=\"result-hood\"> (san mateo)</span>\\n\\n                <span class=\"result-tags\">\\n                    pic\\n                    <span class=\"maptag\" data-pid=\"6219431438\">map</span>\\n                </span>\\n\\n                <span class=\"banish icon icon-trash\" role=\"button\">\\n                    <span class=\"screen-reader-text\">hide this posting</span>\\n                </span>\\n\\n            <span class=\"unbanish icon icon-trash red\" role=\"button\" aria-hidden=\"true\"></span>\\n            <a href=\"#\" class=\"restore-link\">\\n                <span class=\"restore-narrow-text\">restore</span>\\n                <span class=\"restore-wide-text\">restore this posting</span>\\n            </a>\\n\\n        </span>\\n    </p>\\n</li>\\n\\n         <li class=\"result-row\" data-pid=\"6218391181\">\\n\\n        <a href=\"/sby/bus/d/ecommerce-copywriter/6218391181.html\" class=\"result-image gallery empty\"></a>\\n\\n    <p class=\"result-info\">\\n        <span class=\"icon icon-star\" role=\"button\">\\n            <span class=\"screen-reader-text\">favorite this post</span>\\n        </span>\\n\\n            <time class=\"result-date\" datetime=\"2017-07-13 16:21\" title=\"Thu 13 Jul 04:21:16 PM\">Jul 13</time>\\n\\n\\n        <a href=\"/sby/bus/d/ecommerce-copywriter/6218391181.html\" data-id=\"6218391181\" class=\"result-title hdrlnk\">eCommerce Copywriter - YogaOutlet.com</a>\\n\\n\\n        <span class=\"result-meta\">\\n\\n\\n                <span class=\"result-hood\"> (campbell)</span>\\n\\n                <span class=\"result-tags\">\\n                    <span class=\"maptag\" data-pid=\"6218391181\">map</span>\\n                </span>\\n\\n                <span class=\"banish icon icon-trash\" role=\"button\">\\n                    <span class=\"screen-reader-text\">hide this posting</span>\\n                </span>\\n\\n            <span class=\"unbanish icon icon-trash red\" role=\"button\" aria-hidden=\"true\"></span>\\n            <a href=\"#\" class=\"restore-link\">\\n                <span class=\"restore-narrow-text\">restore</span>\\n                <span class=\"restore-wide-text\">restore this posting</span>\\n            </a>\\n\\n        </span>\\n    </p>\\n</li>\\n\\n         <li class=\"result-row\" data-pid=\"6218383079\">\\n\\n        <a href=\"/sby/bus/d/ecommerce-merchandising/6218383079.html\" class=\"result-image gallery empty\"></a>\\n\\n    <p class=\"result-info\">\\n        <span class=\"icon icon-star\" role=\"button\">\\n            <span class=\"screen-reader-text\">favorite this post</span>\\n        </span>\\n\\n            <time class=\"result-date\" datetime=\"2017-07-13 16:14\" title=\"Thu 13 Jul 04:14:40 PM\">Jul 13</time>\\n\\n\\n        <a href=\"/sby/bus/d/ecommerce-merchandising/6218383079.html\" data-id=\"6218383079\" class=\"result-title hdrlnk\">eCommerce Merchandising Assistant - SwimOutlet.com</a>\\n\\n\\n        <span class=\"result-meta\">\\n\\n\\n                <span class=\"result-hood\"> (campbell)</span>\\n\\n                <span class=\"result-tags\">\\n                    <span class=\"maptag\" data-pid=\"6218383079\">map</span>\\n                </span>\\n\\n                <span class=\"banish icon icon-trash\" role=\"button\">\\n                    <span class=\"screen-reader-text\">hide this posting</span>\\n                </span>\\n\\n            <span class=\"unbanish icon icon-trash red\" role=\"button\" aria-hidden=\"true\"></span>\\n            <a href=\"#\" class=\"restore-link\">\\n                <span class=\"restore-narrow-text\">restore</span>\\n                <span class=\"restore-wide-text\">restore this posting</span>\\n            </a>\\n\\n        </span>\\n    </p>\\n</li>\\n\\n         <li class=\"result-row\" data-pid=\"6217937062\" data-repost-of=\"6035719398\">\\n\\n        <a href=\"/pen/bus/d/program-manager-ii-supportive/6217937062.html\" class=\"result-image gallery\" data-ids=\"1:00u0u_2Y2pUFol5oC,1:00h0h_fqaOtMmLs9g\">\\n        </a>\\n\\n    <p class=\"result-info\">\\n        <span class=\"icon icon-star\" role=\"button\">\\n            <span class=\"screen-reader-text\">favorite this post</span>\\n        </span>\\n\\n            <time class=\"result-date\" datetime=\"2017-07-13 11:21\" title=\"Thu 13 Jul 11:21:43 AM\">Jul 13</time>\\n\\n\\n        <a href=\"/pen/bus/d/program-manager-ii-supportive/6217937062.html\" data-id=\"6217937062\" class=\"result-title hdrlnk\">Program Manager II - Supportive Housing Services</a>\\n\\n\\n        <span class=\"result-meta\">\\n\\n\\n                <span class=\"result-hood\"> (Palo Alto)</span>\\n\\n                <span class=\"result-tags\">\\n                    pic\\n                    <span class=\"maptag\" data-pid=\"6217937062\">map</span>\\n                </span>\\n\\n                <span class=\"banish icon icon-trash\" role=\"button\">\\n                    <span class=\"screen-reader-text\">hide this posting</span>\\n                </span>\\n\\n            <span class=\"unbanish icon icon-trash red\" role=\"button\" aria-hidden=\"true\"></span>\\n            <a href=\"#\" class=\"restore-link\">\\n                <span class=\"restore-narrow-text\">restore</span>\\n                <span class=\"restore-wide-text\">restore this posting</span>\\n            </a>\\n\\n        </span>\\n    </p>\\n</li>\\n\\n         <li class=\"result-row\" data-pid=\"6216832677\">\\n\\n        <a href=\"/sfc/bus/d/contracts-administrator/6216832677.html\" class=\"result-image gallery\" data-ids=\"1:00E0E_2P62X0BXEuA\">\\n        </a>\\n\\n    <p class=\"result-info\">\\n        <span class=\"icon icon-star\" role=\"button\">\\n            <span class=\"screen-reader-text\">favorite this post</span>\\n        </span>\\n\\n            <time class=\"result-date\" datetime=\"2017-07-12 15:36\" title=\"Wed 12 Jul 03:36:57 PM\">Jul 12</time>\\n\\n\\n        <a href=\"/sfc/bus/d/contracts-administrator/6216832677.html\" data-id=\"6216832677\" class=\"result-title hdrlnk\">Contracts Administrator</a>\\n\\n\\n        <span class=\"result-meta\">\\n\\n\\n\\n                <span class=\"result-tags\">\\n                    pic\\n                    <span class=\"maptag\" data-pid=\"6216832677\">map</span>\\n                </span>\\n\\n                <span class=\"banish icon icon-trash\" role=\"button\">\\n                    <span class=\"screen-reader-text\">hide this posting</span>\\n                </span>\\n\\n            <span class=\"unbanish icon icon-trash red\" role=\"button\" aria-hidden=\"true\"></span>\\n            <a href=\"#\" class=\"restore-link\">\\n                <span class=\"restore-narrow-text\">restore</span>\\n                <span class=\"restore-wide-text\">restore this posting</span>\\n            </a>\\n\\n        </span>\\n    </p>\\n</li>\\n\\n         <li class=\"result-row\" data-pid=\"6216346409\">\\n\\n        <a href=\"/nby/bus/d/painting-superintendent/6216346409.html\" class=\"result-image gallery empty\"></a>\\n\\n    <p class=\"result-info\">\\n        <span class=\"icon icon-star\" role=\"button\">\\n            <span class=\"screen-reader-text\">favorite this post</span>\\n        </span>\\n\\n            <time class=\"result-date\" datetime=\"2017-07-12 10:26\" title=\"Wed 12 Jul 10:26:52 AM\">Jul 12</time>\\n\\n\\n        <a href=\"/nby/bus/d/painting-superintendent/6216346409.html\" data-id=\"6216346409\" class=\"result-title hdrlnk\">Painting Superintendent</a>\\n\\n\\n        <span class=\"result-meta\">\\n\\n\\n                <span class=\"result-hood\"> (napa county)</span>\\n\\n                <span class=\"result-tags\">\\n                    <span class=\"maptag\" data-pid=\"6216346409\">map</span>\\n                </span>\\n\\n                <span class=\"banish icon icon-trash\" role=\"button\">\\n                    <span class=\"screen-reader-text\">hide this posting</span>\\n                </span>\\n\\n            <span class=\"unbanish icon icon-trash red\" role=\"button\" aria-hidden=\"true\"></span>\\n            <a href=\"#\" class=\"restore-link\">\\n                <span class=\"restore-narrow-text\">restore</span>\\n                <span class=\"restore-wide-text\">restore this posting</span>\\n            </a>\\n\\n        </span>\\n    </p>\\n</li>\\n\\n         <li class=\"result-row\" data-pid=\"6216056230\">\\n\\n        <a href=\"/nby/bus/d/viticulture-supervisor/6216056230.html\" class=\"result-image gallery empty\"></a>\\n\\n    <p class=\"result-info\">\\n        <span class=\"icon icon-star\" role=\"button\">\\n            <span class=\"screen-reader-text\">favorite this post</span>\\n        </span>\\n\\n            <time class=\"result-date\" datetime=\"2017-07-12 07:39\" title=\"Wed 12 Jul 07:39:27 AM\">Jul 12</time>\\n\\n\\n        <a href=\"/nby/bus/d/viticulture-supervisor/6216056230.html\" data-id=\"6216056230\" class=\"result-title hdrlnk\">Viticulture Supervisor</a>\\n\\n\\n        <span class=\"result-meta\">\\n\\n\\n                <span class=\"result-hood\"> (healdsburg / windsor)</span>\\n\\n                <span class=\"result-tags\">\\n                    <span class=\"maptag\" data-pid=\"6216056230\">map</span>\\n                </span>\\n\\n                <span class=\"banish icon icon-trash\" role=\"button\">\\n                    <span class=\"screen-reader-text\">hide this posting</span>\\n                </span>\\n\\n            <span class=\"unbanish icon icon-trash red\" role=\"button\" aria-hidden=\"true\"></span>\\n            <a href=\"#\" class=\"restore-link\">\\n                <span class=\"restore-narrow-text\">restore</span>\\n                <span class=\"restore-wide-text\">restore this posting</span>\\n            </a>\\n\\n        </span>\\n    </p>\\n</li>\\n\\n         <li class=\"result-row\" data-pid=\"6215400094\">\\n\\n        <a href=\"/nby/bus/d/business-analyst-three-twins/6215400094.html\" class=\"result-image gallery\" data-ids=\"1:00d0d_dZBiiH5cN65\">\\n        </a>\\n\\n    <p class=\"result-info\">\\n        <span class=\"icon icon-star\" role=\"button\">\\n            <span class=\"screen-reader-text\">favorite this post</span>\\n        </span>\\n\\n            <time class=\"result-date\" datetime=\"2017-07-11 16:56\" title=\"Tue 11 Jul 04:56:01 PM\">Jul 11</time>\\n\\n\\n        <a href=\"/nby/bus/d/business-analyst-three-twins/6215400094.html\" data-id=\"6215400094\" class=\"result-title hdrlnk\">Business Analyst - Three Twins Ice Cream</a>\\n\\n\\n        <span class=\"result-meta\">\\n\\n\\n                <span class=\"result-hood\"> (petaluma)</span>\\n\\n                <span class=\"result-tags\">\\n                    pic\\n                    <span class=\"maptag\" data-pid=\"6215400094\">map</span>\\n                </span>\\n\\n                <span class=\"banish icon icon-trash\" role=\"button\">\\n                    <span class=\"screen-reader-text\">hide this posting</span>\\n                </span>\\n\\n            <span class=\"unbanish icon icon-trash red\" role=\"button\" aria-hidden=\"true\"></span>\\n            <a href=\"#\" class=\"restore-link\">\\n                <span class=\"restore-narrow-text\">restore</span>\\n                <span class=\"restore-wide-text\">restore this posting</span>\\n            </a>\\n\\n        </span>\\n    </p>\\n</li>\\n\\n         <li class=\"result-row\" data-pid=\"6213881132\">\\n\\n        <a href=\"/sby/bus/d/market-research-analyst/6213881132.html\" class=\"result-image gallery empty\"></a>\\n\\n    <p class=\"result-info\">\\n        <span class=\"icon icon-star\" role=\"button\">\\n            <span class=\"screen-reader-text\">favorite this post</span>\\n        </span>\\n\\n            <time class=\"result-date\" datetime=\"2017-07-10 17:07\" title=\"Mon 10 Jul 05:07:11 PM\">Jul 10</time>\\n\\n\\n        <a href=\"/sby/bus/d/market-research-analyst/6213881132.html\" data-id=\"6213881132\" class=\"result-title hdrlnk\">Market Research Analyst</a>\\n\\n\\n        <span class=\"result-meta\">\\n\\n\\n                <span class=\"result-hood\"> (mountain view)</span>\\n\\n                <span class=\"result-tags\">\\n                    <span class=\"maptag\" data-pid=\"6213881132\">map</span>\\n                </span>\\n\\n                <span class=\"banish icon icon-trash\" role=\"button\">\\n                    <span class=\"screen-reader-text\">hide this posting</span>\\n                </span>\\n\\n            <span class=\"unbanish icon icon-trash red\" role=\"button\" aria-hidden=\"true\"></span>\\n            <a href=\"#\" class=\"restore-link\">\\n                <span class=\"restore-narrow-text\">restore</span>\\n                <span class=\"restore-wide-text\">restore this posting</span>\\n            </a>\\n\\n        </span>\\n    </p>\\n</li>\\n\\n         <li class=\"result-row\" data-pid=\"6213657177\">\\n\\n        <a href=\"/eby/bus/d/fathers-corps-program-manager/6213657177.html\" class=\"result-image gallery empty\"></a>\\n\\n    <p class=\"result-info\">\\n        <span class=\"icon icon-star\" role=\"button\">\\n            <span class=\"screen-reader-text\">favorite this post</span>\\n        </span>\\n\\n            <time class=\"result-date\" datetime=\"2017-07-10 14:23\" title=\"Mon 10 Jul 02:23:47 PM\">Jul 10</time>\\n\\n\\n        <a href=\"/eby/bus/d/fathers-corps-program-manager/6213657177.html\" data-id=\"6213657177\" class=\"result-title hdrlnk\">Fathers Corps Program Manager</a>\\n\\n\\n        <span class=\"result-meta\">\\n\\n\\n                <span class=\"result-hood\"> (alameda)</span>\\n\\n                <span class=\"result-tags\">\\n                    <span class=\"maptag\" data-pid=\"6213657177\">map</span>\\n                </span>\\n\\n                <span class=\"banish icon icon-trash\" role=\"button\">\\n                    <span class=\"screen-reader-text\">hide this posting</span>\\n                </span>\\n\\n            <span class=\"unbanish icon icon-trash red\" role=\"button\" aria-hidden=\"true\"></span>\\n            <a href=\"#\" class=\"restore-link\">\\n                <span class=\"restore-narrow-text\">restore</span>\\n                <span class=\"restore-wide-text\">restore this posting</span>\\n            </a>\\n\\n        </span>\\n    </p>\\n</li>\\n\\n         <li class=\"result-row\" data-pid=\"6213158285\">\\n\\n        <a href=\"/bus/d/program-manager-graduate/6213158285.html\" class=\"result-image gallery empty\"></a>\\n\\n    <p class=\"result-info\">\\n        <span class=\"icon icon-star\" role=\"button\">\\n            <span class=\"screen-reader-text\">favorite this post</span>\\n        </span>\\n\\n            <time class=\"result-date\" datetime=\"2017-07-10 09:36\" title=\"Mon 10 Jul 09:36:46 AM\">Jul 10</time>\\n\\n\\n        <a href=\"/bus/d/program-manager-graduate/6213158285.html\" data-id=\"6213158285\" class=\"result-title hdrlnk\">Program Manager, Graduate Programs in Economics</a>\\n\\n\\n        <span class=\"result-meta\">\\n\\n\\n\\n                <span class=\"result-tags\">\\n                    img\\n                    <span class=\"maptag\" data-pid=\"6213158285\">map</span>\\n                </span>\\n\\n                <span class=\"banish icon icon-trash\" role=\"button\">\\n                    <span class=\"screen-reader-text\">hide this posting</span>\\n                </span>\\n\\n            <span class=\"unbanish icon icon-trash red\" role=\"button\" aria-hidden=\"true\"></span>\\n            <a href=\"#\" class=\"restore-link\">\\n                <span class=\"restore-narrow-text\">restore</span>\\n                <span class=\"restore-wide-text\">restore this posting</span>\\n            </a>\\n\\n        </span>\\n    </p>\\n</li>\\n\\n         <li class=\"result-row\" data-pid=\"6213150426\">\\n\\n        <a href=\"/sby/bus/d/administrative-event/6213150426.html\" class=\"result-image gallery\" data-ids=\"1:00Q0Q_72WIkQcHo14\">\\n        </a>\\n\\n    <p class=\"result-info\">\\n        <span class=\"icon icon-star\" role=\"button\">\\n            <span class=\"screen-reader-text\">favorite this post</span>\\n        </span>\\n\\n            <time class=\"result-date\" datetime=\"2017-07-10 09:32\" title=\"Mon 10 Jul 09:32:54 AM\">Jul 10</time>\\n\\n\\n        <a href=\"/sby/bus/d/administrative-event/6213150426.html\" data-id=\"6213150426\" class=\"result-title hdrlnk\">Administrative &amp; Event Production Assistant - Full Time</a>\\n\\n\\n        <span class=\"result-meta\">\\n\\n\\n                <span class=\"result-hood\"> (san jose downtown)</span>\\n\\n                <span class=\"result-tags\">\\n                    pic\\n                    <span class=\"maptag\" data-pid=\"6213150426\">map</span>\\n                </span>\\n\\n                <span class=\"banish icon icon-trash\" role=\"button\">\\n                    <span class=\"screen-reader-text\">hide this posting</span>\\n                </span>\\n\\n            <span class=\"unbanish icon icon-trash red\" role=\"button\" aria-hidden=\"true\"></span>\\n            <a href=\"#\" class=\"restore-link\">\\n                <span class=\"restore-narrow-text\">restore</span>\\n                <span class=\"restore-wide-text\">restore this posting</span>\\n            </a>\\n\\n        </span>\\n    </p>\\n</li>\\n\\n         <li class=\"result-row\" data-pid=\"6209575381\">\\n\\n        <a href=\"/sfc/bus/d/accountant-mid-entry-level/6209575381.html\" class=\"result-image gallery\" data-ids=\"1:00f0f_3BZWp3Qt5lc\">\\n        </a>\\n\\n    <p class=\"result-info\">\\n        <span class=\"icon icon-star\" role=\"button\">\\n            <span class=\"screen-reader-text\">favorite this post</span>\\n        </span>\\n\\n            <time class=\"result-date\" datetime=\"2017-07-07 18:12\" title=\"Fri 07 Jul 06:12:24 PM\">Jul  7</time>\\n\\n\\n        <a href=\"/sfc/bus/d/accountant-mid-entry-level/6209575381.html\" data-id=\"6209575381\" class=\"result-title hdrlnk\">Accountant (Mid-Entry Level) - Full-Time w/Great Benefits Package!!</a>\\n\\n\\n        <span class=\"result-meta\">\\n\\n\\n                <span class=\"result-hood\"> (bernal heights)</span>\\n\\n                <span class=\"result-tags\">\\n                    pic\\n                    <span class=\"maptag\" data-pid=\"6209575381\">map</span>\\n                </span>\\n\\n                <span class=\"banish icon icon-trash\" role=\"button\">\\n                    <span class=\"screen-reader-text\">hide this posting</span>\\n                </span>\\n\\n            <span class=\"unbanish icon icon-trash red\" role=\"button\" aria-hidden=\"true\"></span>\\n            <a href=\"#\" class=\"restore-link\">\\n                <span class=\"restore-narrow-text\">restore</span>\\n                <span class=\"restore-wide-text\">restore this posting</span>\\n            </a>\\n\\n        </span>\\n    </p>\\n</li>\\n\\n         <li class=\"result-row\" data-pid=\"6208037373\">\\n\\n        <a href=\"/pen/bus/d/membership-director/6208037373.html\" class=\"result-image gallery empty\"></a>\\n\\n    <p class=\"result-info\">\\n        <span class=\"icon icon-star\" role=\"button\">\\n            <span class=\"screen-reader-text\">favorite this post</span>\\n        </span>\\n\\n            <time class=\"result-date\" datetime=\"2017-07-06 18:54\" title=\"Thu 06 Jul 06:54:27 PM\">Jul  6</time>\\n\\n\\n        <a href=\"/pen/bus/d/membership-director/6208037373.html\" data-id=\"6208037373\" class=\"result-title hdrlnk\">Membership Director</a>\\n\\n\\n        <span class=\"result-meta\">\\n\\n\\n                <span class=\"result-hood\"> (palo alto)</span>\\n\\n                <span class=\"result-tags\">\\n                    <span class=\"maptag\" data-pid=\"6208037373\">map</span>\\n                </span>\\n\\n                <span class=\"banish icon icon-trash\" role=\"button\">\\n                    <span class=\"screen-reader-text\">hide this posting</span>\\n                </span>\\n\\n            <span class=\"unbanish icon icon-trash red\" role=\"button\" aria-hidden=\"true\"></span>\\n            <a href=\"#\" class=\"restore-link\">\\n                <span class=\"restore-narrow-text\">restore</span>\\n                <span class=\"restore-wide-text\">restore this posting</span>\\n            </a>\\n\\n        </span>\\n    </p>\\n</li>\\n\\n         <li class=\"result-row\" data-pid=\"6207796543\">\\n\\n        <a href=\"/pen/bus/d/technical-reporting-analyst/6207796543.html\" class=\"result-image gallery empty\"></a>\\n\\n    <p class=\"result-info\">\\n        <span class=\"icon icon-star\" role=\"button\">\\n            <span class=\"screen-reader-text\">favorite this post</span>\\n        </span>\\n\\n            <time class=\"result-date\" datetime=\"2017-07-06 15:30\" title=\"Thu 06 Jul 03:30:03 PM\">Jul  6</time>\\n\\n\\n        <a href=\"/pen/bus/d/technical-reporting-analyst/6207796543.html\" data-id=\"6207796543\" class=\"result-title hdrlnk\">Technical Reporting Analyst</a>\\n\\n\\n        <span class=\"result-meta\">\\n\\n\\n                <span class=\"result-hood\"> (san bruno)</span>\\n\\n                <span class=\"result-tags\">\\n                    <span class=\"maptag\" data-pid=\"6207796543\">map</span>\\n                </span>\\n\\n                <span class=\"banish icon icon-trash\" role=\"button\">\\n                    <span class=\"screen-reader-text\">hide this posting</span>\\n                </span>\\n\\n            <span class=\"unbanish icon icon-trash red\" role=\"button\" aria-hidden=\"true\"></span>\\n            <a href=\"#\" class=\"restore-link\">\\n                <span class=\"restore-narrow-text\">restore</span>\\n                <span class=\"restore-wide-text\">restore this posting</span>\\n            </a>\\n\\n        </span>\\n    </p>\\n</li>\\n\\n         <li class=\"result-row\" data-pid=\"6207141406\" data-repost-of=\"6035719398\">\\n\\n        <a href=\"/pen/bus/d/program-manager-ii-supportive/6207141406.html\" class=\"result-image gallery\" data-ids=\"1:00u0u_2Y2pUFol5oC,1:00h0h_fqaOtMmLs9g\">\\n        </a>\\n\\n    <p class=\"result-info\">\\n        <span class=\"icon icon-star\" role=\"button\">\\n            <span class=\"screen-reader-text\">favorite this post</span>\\n        </span>\\n\\n            <time class=\"result-date\" datetime=\"2017-07-06 09:02\" title=\"Thu 06 Jul 09:02:00 AM\">Jul  6</time>\\n\\n\\n        <a href=\"/pen/bus/d/program-manager-ii-supportive/6207141406.html\" data-id=\"6207141406\" class=\"result-title hdrlnk\">Program Manager II - Supportive Housing Services</a>\\n\\n\\n        <span class=\"result-meta\">\\n\\n\\n                <span class=\"result-hood\"> (Palo Alto)</span>\\n\\n                <span class=\"result-tags\">\\n                    pic\\n                    <span class=\"maptag\" data-pid=\"6207141406\">map</span>\\n                </span>\\n\\n                <span class=\"banish icon icon-trash\" role=\"button\">\\n                    <span class=\"screen-reader-text\">hide this posting</span>\\n                </span>\\n\\n            <span class=\"unbanish icon icon-trash red\" role=\"button\" aria-hidden=\"true\"></span>\\n            <a href=\"#\" class=\"restore-link\">\\n                <span class=\"restore-narrow-text\">restore</span>\\n                <span class=\"restore-wide-text\">restore this posting</span>\\n            </a>\\n\\n        </span>\\n    </p>\\n</li>\\n\\n         <li class=\"result-row\" data-pid=\"6206096258\" data-repost-of=\"5258854447\">\\n\\n        <a href=\"/eby/bus/d/warehouse-supervisor-manager/6206096258.html\" class=\"result-image gallery empty\"></a>\\n\\n    <p class=\"result-info\">\\n        <span class=\"icon icon-star\" role=\"button\">\\n            <span class=\"screen-reader-text\">favorite this post</span>\\n        </span>\\n\\n            <time class=\"result-date\" datetime=\"2017-07-05 13:53\" title=\"Wed 05 Jul 01:53:47 PM\">Jul  5</time>\\n\\n\\n        <a href=\"/eby/bus/d/warehouse-supervisor-manager/6206096258.html\" data-id=\"6206096258\" class=\"result-title hdrlnk\">Warehouse Supervisor/Manager</a>\\n\\n\\n        <span class=\"result-meta\">\\n\\n\\n                <span class=\"result-hood\"> (hayward / castro valley)</span>\\n\\n                <span class=\"result-tags\">\\n                    <span class=\"maptag\" data-pid=\"6206096258\">map</span>\\n                </span>\\n\\n                <span class=\"banish icon icon-trash\" role=\"button\">\\n                    <span class=\"screen-reader-text\">hide this posting</span>\\n                </span>\\n\\n            <span class=\"unbanish icon icon-trash red\" role=\"button\" aria-hidden=\"true\"></span>\\n            <a href=\"#\" class=\"restore-link\">\\n                <span class=\"restore-narrow-text\">restore</span>\\n                <span class=\"restore-wide-text\">restore this posting</span>\\n            </a>\\n\\n        </span>\\n    </p>\\n</li>\\n\\n                    \\n                    \\n                </ul>\\n                \\n            </div>\\n\\n            <div class=\"search-legend bottom\">\\n                <div class=\"search-view\">\\n                    <span class=\"buttongroup\"><a class=\"backtotop button\" href=\"#page-top\">^ back to top</a></span>\\n                </div>\\n                <div class=\"search-sort\">\\n                    <span class=\"buttongroup\"><a class=\"backtotop button\" href=\"#page-top\">^ back to top</a></span>\\n                </div>\\n                <div class=\"paginator buttongroup lastpage\">\\n    <span class=\"resulttotal\">\\n        <span class=\"for-map\">\\n        displaying <span class=\"displaycountShow\">...</span> postings\\n        </span>\\n    </span>\\n    <span class=\"buttons\">\\n        <a href=\"/search/bus?query=project\" class=\"button first\" title=\"first page\">&lt;&lt;</a>\\n        <span class=\"button first\" title=\"first page\">&lt;&lt;</span>\\n        <a href=\"/search/bus?query=project\" class=\"button prev\" title=\"previous page\">&lt; prev</a>\\n        <span class=\"button prev\" title=\"previous page\">&lt; prev</span>\\n\\n        <span class=\"button pagenum\">\\n            <span class=\"range\">\\n                <span class=\"rangeFrom\">121</span>\\n                -\\n                <span class=\"rangeTo\">171</span>\\n            </span>\\n            /\\n            <span class=\"totalcount\">171</span>\\n        </span>\\n\\n        <a href=\"/search/bus?s=171&amp;query=project\" class=\"button next\" title=\"next page\">next &gt; </a>\\n        <span class=\"button next\" title=\"next page\"> next &gt; </span>\\n    </span>\\n</div>\\n\\n            </div>\\n\\n            <section class=\"blurbs\">\\n                \\n            </section>\\n\\n            <div id=\"floater\">\\n                <img class=\"loading\" src=\"//www.craigslist.org/images/animated-spinny.gif\" alt=\"\">\\n                <img class=\"payload\" src=\"//www.craigslist.org/images/animated-spinny.gif\" alt=\"\">\\n            </div>\\n        </form>\\n\\n        \\n\\n        \\n\\n        <div class=\"slidemessage\">\\n    <span class=\"fave\">\\n        <span class=\"star\"></span>\\n        favorited\\n    </span>\\n    <span class=\"unfave\">\\n        <span class=\"star\"></span>\\n        no longer favorited\\n    </span>\\n    <span class=\"hide\">\\n        <span class=\"trash\"></span>\\n        hidden\\n    </span>\\n    <span class=\"unhide\">\\n        <span class=\"trash\"></span>\\n        no longer hidden\\n    </span>\\n</div>\\n\\n        <footer>\\n        <span class=\"rss\">\\n            <a class=\"l\" href=\"https://sfbay.craigslist.org/search/bus?format=rss&amp;query=project&amp;s=120\">RSS</a>\\n            <a href=\"https://www.craigslist.org/about/rss\">(?)</a><br>\\n        </span>\\n    <ul class=\"clfooter\">\\n        <li>&copy;  <span class=\"desktop\">craigslist</span><span class=\"mobile\">CL</span></li>\\n        <li><a href=\"https://www.craigslist.org/about/help/\">help</a></li>\\n        <li><a href=\"https://www.craigslist.org/about/scams\">safety</a></li>\\n        <li class=\"desktop\"><a href=\"https://www.craigslist.org/about/privacy.policy\">privacy</a></li>\\n        <li class=\"desktop\"><a href=\"https://forums.craigslist.org/?forumID=8\">feedback</a></li>\\n        <li class=\"desktop\"><a href=\"https://www.craigslist.org/about/craigslist_is_hiring\">cl jobs</a></li>\\n        <li><a href=\"//www.craigslist.org/about/terms.of.use.en\">terms</a></li>\\n        <li><a href=\"https://www.craigslist.org/about/\">about</a></li>\\n        <li class=\"fsel desktop linklike\" data-mode=\"mobile\">mobile</li>\\n        <li class=\"fsel mobile linklike\" data-mode=\"regular\">desktop</li>\\n    </ul>\\n</footer>\\n\\n    </section>\\n\\n    <template id=\"gallerycarousel\">\\n        <div class=\"slider-info\"></div><div class=\"slider-back arrow\">&lt;</div><div class=\"slider-forward arrow\">&gt;</div>\\n    </template>\\n\\n    <script src=\"//www.craigslist.org/js/general-concat.min.js?v=65297564f2cbfb1a1ad83a34bb9646b1\" type=\"text/javascript\" ></script>\\n\\n    <script type=\"text/javascript\"><!--\\n        var iframe = document.createElement(\\'iframe\\');\\n        iframe.style.display = \\'none\\';\\n        iframe.src = \\'//www.\\' + CL.url.baseDomain + \\'/static/localstorage.html?v=51a29e41f8e978141e4085ed4a77d170\\';\\n        document.body.insertBefore(iframe, null);\\n    --></script>\\n    <script type=\"text/template\" id=\"clustertemplate\">\\n    <li class=\"posting {visited}\" data-pid=\"{PostingID}\">\\n        <img src=\"{ImageThumb}\">\\n        <div class=\"housing_bubble_banner\">\\n            <span class=\"{hasPrice}price\">{currencySymbol}{Ask}</span>\\n            <span class=\"bedrooms\">{BedroomsContent}</span>\\n            <span class=\"postingtitle\"><a>{PostingTitle}</a></span>\\n            <span class=\"js-only map-banish-unbanish\" data-pid=\"{PostingID}\">\\n                <span class=\"banish\">\\n                    <span class=\"icon icon-trash\" role=\"button\"></span>\\n                    <span class=\"screen-reader-text\">hide this posting</span>\\n                </span>\\n                <span class=\"unbanish\">\\n                    <span class=\"icon icon-trash red\" role=\"button\"></span>\\n                    unhide\\n                </span>\\n            </span>\\n        </div>\\n    </li>\\n</script>\\n<script type=\"text/template\" id=\"postingtemplate\">\\n    <div class=\"viewcontainer pics loading\">\\n        <div class=\"backtolist\">\\n            &laquo; back to posting list\\n        </div>\\n        <div class=\"title\">\\n            <span class=\"icon icon-star\" data-pid=\"{PostingID}\" role=\"button\">\\n                <span class=\"screen-reader-text\">favorite this post</span>\\n            </span>\\n            <span class=\"postingtitle\">\\n                <a href=\"{PostingURL}\" target=\"_blank\">{PostingTitle}</a>\\n            </span>\\n            <div>\\n                <span class=\"{hasPrice}price\">{currencySymbol}{Ask}</span>\\n                <span class=\"bedrooms\">{BedroomsContent}</span>\\n                <span class=\"js-only map-banish-unbanish\" data-pid=\"{PostingID}\">\\n                    <span class=\"banish\">\\n                        <span class=\"icon icon-trash\" role=\"button\"></span>\\n                        <span class=\"screen-reader-text\">hide this posting</span>\\n                    </span>\\n                    <span class=\"unbanish\">\\n                        <span class=\"icon icon-trash red\" role=\"button\"></span>\\n                        <span class=\"screen-reader-text\">unhide</span>\\n                        unhide\\n                    </span>\\n                </span>\\n            </div>\\n        </div>\\n        <hr style=\"clear:both\">\\n        <div class=\"picscontainer gallery\">\\n            <span class=\"slider-back arrow\">&lt;</span><span class=\"slider-info\"></span><span class=\"slider-forward arrow\">&gt;</span>\\n            <div class=\"swipe\">\\n                <div class=\"swipe-wrap\">\\n                    <img class=\"loading\" src=\"//www.craigslist.org/images/animated-spinny.gif\" alt=\"\">\\n                </div>\\n            </div>\\n        </div>\\n        <div class=\"infocontainer\"></div>\\n        <hr style=\"clear:both\">\\n        <div class=\"timecontainer\"></div>\\n        <a class=\"viewpostinglink\" href=\"{PostingURL}\" target=\"_blank\">view posting</a>\\n        <div class=\"contenttoggle\">\\n            <a class=\"moreinfo\">more info</a>\\n            <a class=\"showpics\">show images</a>\\n        </div>\\n    </div>\\n</script>\\n<script type=\"text/template\" id=\"popuptemplate\">\\n    <div id=\"mapbubble\" class=\"posting\">\\n        <ul id=\"clusterbubble\"></ul>\\n        <div id=\"postbubble\"></div>\\n    </div>\\n</script>\\n<script src=\"//www.craigslist.org/js/leaflet-concat.min.js?v=a21d5db615724de9d6e3511c3a9b2169\" type=\"text/javascript\" ></script>\\n\\n    <script src=\"//www.craigslist.org/js/search-concat.min.js?v=869e9a1b9b9a2ae3a18c238c8d4e198c\" type=\"text/javascript\" ></script>\\n\\n</body>\\n</html>'"
      ]
     },
     "execution_count": 6,
     "metadata": {},
     "output_type": "execute_result"
    }
   ],
   "source": [
    "page"
   ]
  },
  {
   "cell_type": "code",
   "execution_count": 10,
   "metadata": {
    "collapsed": true
   },
   "outputs": [],
   "source": [
    "document = lxml.html.fromstring(page)"
   ]
  },
  {
   "cell_type": "code",
   "execution_count": 11,
   "metadata": {},
   "outputs": [
    {
     "data": {
      "text/plain": [
       "lxml.html.HtmlElement"
      ]
     },
     "execution_count": 11,
     "metadata": {},
     "output_type": "execute_result"
    }
   ],
   "source": [
    "type(document)"
   ]
  },
  {
   "cell_type": "markdown",
   "metadata": {},
   "source": [
    "(http://lxml.de/api/lxml.html-module.html#fromstring and http://lxml.de/api/lxml.html.HtmlElement-class.html)"
   ]
  },
  {
   "cell_type": "markdown",
   "metadata": {},
   "source": [
    "> ## All reviews of a page"
   ]
  },
  {
   "cell_type": "markdown",
   "metadata": {},
   "source": [
    "(http://lxml.de/api/lxml.etree._Element-class.html#xpath)"
   ]
  },
  {
   "cell_type": "code",
   "execution_count": 12,
   "metadata": {},
   "outputs": [],
   "source": [
    "reviews = document.xpath('//p[@class=\"result-info\"]')"
   ]
  },
  {
   "cell_type": "markdown",
   "metadata": {},
   "source": [
    "## First review"
   ]
  },
  {
   "cell_type": "code",
   "execution_count": 14,
   "metadata": {},
   "outputs": [],
   "source": [
    "review = reviews[0]"
   ]
  },
  {
   "cell_type": "code",
   "execution_count": 15,
   "metadata": {},
   "outputs": [
    {
     "data": {
      "text/plain": [
       "lxml.html.HtmlElement"
      ]
     },
     "execution_count": 15,
     "metadata": {},
     "output_type": "execute_result"
    }
   ],
   "source": [
    "type(review)"
   ]
  },
  {
   "cell_type": "markdown",
   "metadata": {},
   "source": [
    "> ## id"
   ]
  },
  {
   "cell_type": "markdown",
   "metadata": {},
   "source": [
    "(http://lxml.de/api/lxml.etree._Element-class.html#get)"
   ]
  },
  {
   "cell_type": "code",
   "execution_count": 17,
   "metadata": {},
   "outputs": [],
   "source": [
    "review.get('data-pid')"
   ]
  },
  {
   "cell_type": "markdown",
   "metadata": {},
   "source": [
    "> # star rating"
   ]
  },
  {
   "cell_type": "code",
   "execution_count": 40,
   "metadata": {},
   "outputs": [
    {
     "data": {
      "text/plain": [
       "'Wed 26 Jul 12:48:50 PM'"
      ]
     },
     "execution_count": 40,
     "metadata": {},
     "output_type": "execute_result"
    }
   ],
   "source": [
    "review.find('.//time[@class=\"result-date\"]').get('title')"
   ]
  },
  {
   "cell_type": "code",
   "execution_count": 32,
   "metadata": {},
   "outputs": [
    {
     "ename": "AttributeError",
     "evalue": "'HtmlElement' object has no attribute 'item'",
     "output_type": "error",
     "traceback": [
      "\u001b[0;31m---------------------------------------------------------------------------\u001b[0m",
      "\u001b[0;31mAttributeError\u001b[0m                            Traceback (most recent call last)",
      "\u001b[0;32m<ipython-input-32-0d19817a2525>\u001b[0m in \u001b[0;36m<module>\u001b[0;34m()\u001b[0m\n\u001b[0;32m----> 1\u001b[0;31m \u001b[0mreview\u001b[0m\u001b[0;34m.\u001b[0m\u001b[0mitem\u001b[0m\u001b[0;34m.\u001b[0m\u001b[0mfind\u001b[0m\u001b[0;34m(\u001b[0m\u001b[0;34m'//span[@class=\"result-meta\"]'\u001b[0m\u001b[0;34m)\u001b[0m\u001b[0;34m.\u001b[0m\u001b[0mget\u001b[0m\u001b[0;34m(\u001b[0m\u001b[0;34m'result-hood'\u001b[0m\u001b[0;34m)\u001b[0m\u001b[0;34m\u001b[0m\u001b[0m\n\u001b[0m",
      "\u001b[0;31mAttributeError\u001b[0m: 'HtmlElement' object has no attribute 'item'"
     ]
    }
   ],
   "source": [
    "review.item.find('//span[@class=\"result-meta\"]').get('result-hood')"
   ]
  },
  {
   "cell_type": "code",
   "execution_count": null,
   "metadata": {
    "collapsed": true
   },
   "outputs": [],
   "source": [
    "def search():\n",
    "    for target in review.findall(\"//Script\"):\n",
    "        stepTexts = target.findall(\".//StepText\")\n",
    "        for stepText in stepTexts:\n",
    "            if FIND.lower() in stepText.text.lower():\n",
    "                print target.attrib['name'],' -- ',stepText.text"
   ]
  },
  {
   "cell_type": "code",
   "execution_count": 47,
   "metadata": {},
   "outputs": [
    {
     "data": {
      "text/plain": [
       "'Wed 26 Jul 12:48:50 PM'"
      ]
     },
     "execution_count": 47,
     "metadata": {},
     "output_type": "execute_result"
    }
   ],
   "source": [
    "date = review.find('.//time[@class=\"result-date\"]').get('title')\n",
    "date"
   ]
  },
  {
   "cell_type": "code",
   "execution_count": 46,
   "metadata": {},
   "outputs": [
    {
     "data": {
      "text/plain": [
       "'Collections Officer Needed at Exchange Bank!'"
      ]
     },
     "execution_count": 46,
     "metadata": {},
     "output_type": "execute_result"
    }
   ],
   "source": [
    "listingid = review.findtext('.//*[@data-id]')\n",
    "listingid"
   ]
  },
  {
   "cell_type": "code",
   "execution_count": 68,
   "metadata": {},
   "outputs": [],
   "source": [
    "listingid = review.get('a href')\n",
    "listingid"
   ]
  },
  {
   "cell_type": "code",
   "execution_count": 53,
   "metadata": {},
   "outputs": [
    {
     "data": {
      "text/plain": [
       "'Collections Officer Needed at Exchange Bank!'"
      ]
     },
     "execution_count": 53,
     "metadata": {},
     "output_type": "execute_result"
    }
   ],
   "source": [
    "position = review.findtext('.//*[@class=\"result-title hdrlnk\"]')\n",
    "position"
   ]
  },
  {
   "cell_type": "code",
   "execution_count": 55,
   "metadata": {},
   "outputs": [
    {
     "data": {
      "text/plain": [
       "' (santa rosa)'"
      ]
     },
     "execution_count": 55,
     "metadata": {},
     "output_type": "execute_result"
    }
   ],
   "source": [
    "location = review.findtext('.//span[@class=\"result-hood\"]')\n",
    "location"
   ]
  },
  {
   "cell_type": "code",
   "execution_count": 57,
   "metadata": {},
   "outputs": [
    {
     "name": "stdout",
     "output_type": "stream",
     "text": [
      "('Wed 26 Jul 12:48:50 PM', <Element a at 0x10e334260>, 'Collections Officer Needed at Exchange Bank!', ' (santa rosa)')\n"
     ]
    }
   ],
   "source": [
    "print (date, listingid, position, location)"
   ]
  },
  {
   "cell_type": "markdown",
   "metadata": {},
   "source": [
    "(http://lxml.de/api/lxml.etree._Element-class.html#find)"
   ]
  },
  {
   "cell_type": "markdown",
   "metadata": {},
   "source": [
    "(https://en.wikipedia.org/wiki/XPath)"
   ]
  },
  {
   "cell_type": "markdown",
   "metadata": {},
   "source": [
    "> ## title"
   ]
  },
  {
   "cell_type": "code",
   "execution_count": 13,
   "metadata": {},
   "outputs": [
    {
     "data": {
      "text/plain": [
       "'Highly recommend'"
      ]
     },
     "execution_count": 13,
     "metadata": {},
     "output_type": "execute_result"
    }
   ],
   "source": [
    "review.findtext('.//*[@data-hook=\"review-title\"]')"
   ]
  },
  {
   "cell_type": "markdown",
   "metadata": {},
   "source": [
    "(http://lxml.de/api/lxml.etree._Element-class.html#findtext)"
   ]
  },
  {
   "cell_type": "markdown",
   "metadata": {},
   "source": [
    "> ## author"
   ]
  },
  {
   "cell_type": "code",
   "execution_count": 14,
   "metadata": {},
   "outputs": [
    {
     "data": {
      "text/plain": [
       "'Mason selby'"
      ]
     },
     "execution_count": 14,
     "metadata": {},
     "output_type": "execute_result"
    }
   ],
   "source": [
    "review.findtext('.//*[@data-hook=\"review-author\"]/*[@data-hook=\"review-author\"]')"
   ]
  },
  {
   "cell_type": "markdown",
   "metadata": {},
   "source": [
    "> ## date"
   ]
  },
  {
   "cell_type": "code",
   "execution_count": 15,
   "metadata": {},
   "outputs": [
    {
     "data": {
      "text/plain": [
       "'on July 4, 2017'"
      ]
     },
     "execution_count": 15,
     "metadata": {},
     "output_type": "execute_result"
    }
   ],
   "source": [
    "review.findtext('.//*[@data-hook=\"review-date\"]')"
   ]
  },
  {
   "cell_type": "markdown",
   "metadata": {},
   "source": [
    "> ## body"
   ]
  },
  {
   "cell_type": "code",
   "execution_count": 16,
   "metadata": {},
   "outputs": [
    {
     "data": {
      "text/plain": [
       "'I have bought silicon rings before and they are fragile. They always broke into two parts after only one or two weeks. I was suspicious of this one set. But after two weeks, it still holds on my finger. Really impressed. I will continute to observe their performance. I am satisfied so far and willing to recommend to my friends.'"
      ]
     },
     "execution_count": 16,
     "metadata": {},
     "output_type": "execute_result"
    }
   ],
   "source": [
    "review.findtext('.//*[@data-hook=\"review-body\"]')"
   ]
  },
  {
   "cell_type": "markdown",
   "metadata": {},
   "source": [
    "> ## Output"
   ]
  },
  {
   "cell_type": "code",
   "execution_count": 17,
   "metadata": {
    "collapsed": true
   },
   "outputs": [],
   "source": [
    "df = pd.DataFrame(columns = ['date', 'id', 'author', 'title', 'body', 'star_rating'])"
   ]
  },
  {
   "cell_type": "code",
   "execution_count": 18,
   "metadata": {},
   "outputs": [
    {
     "data": {
      "text/html": [
       "<div>\n",
       "<table border=\"1\" class=\"dataframe\">\n",
       "  <thead>\n",
       "    <tr style=\"text-align: right;\">\n",
       "      <th></th>\n",
       "      <th>date</th>\n",
       "      <th>id</th>\n",
       "      <th>author</th>\n",
       "      <th>title</th>\n",
       "      <th>body</th>\n",
       "      <th>star_rating</th>\n",
       "    </tr>\n",
       "  </thead>\n",
       "  <tbody>\n",
       "  </tbody>\n",
       "</table>\n",
       "</div>"
      ],
      "text/plain": [
       "Empty DataFrame\n",
       "Columns: [date, id, author, title, body, star_rating]\n",
       "Index: []"
      ]
     },
     "execution_count": 18,
     "metadata": {},
     "output_type": "execute_result"
    }
   ],
   "source": [
    "df"
   ]
  },
  {
   "cell_type": "markdown",
   "metadata": {},
   "source": [
    "## Putting all of it together"
   ]
  },
  {
   "cell_type": "markdown",
   "metadata": {},
   "source": [
    "(https://docs.python.org/2/howto/unicode.html and https://docs.python.org/2/library/stdtypes.html)"
   ]
  },
  {
   "cell_type": "code",
   "execution_count": 19,
   "metadata": {
    "collapsed": true
   },
   "outputs": [],
   "source": [
    "def date(node):\n",
    "    date = review.findtext('.//*[@data-hook=\"review-date\"]').replace('on ', '')\n",
    "    return dateutil.parser.parse(date)\n",
    "\n",
    "def id(node):\n",
    "    return node.get('id')\n",
    "\n",
    "def author(node):\n",
    "    return node.findtext('.//*[@data-hook=\"review-author\"]/*[@data-hook=\"review-author\"]').encode('ascii', 'ignore')\n",
    "\n",
    "def title(node):\n",
    "    return node.findtext('.//*[@data-hook=\"review-title\"]').encode('ascii', 'ignore')\n",
    "\n",
    "def body(node):\n",
    "    return node.findtext('.//*[@data-hook=\"review-body\"]').encode('ascii', 'ignore')\n",
    "\n",
    "def star_rating(node):\n",
    "    node = node.find('.//*[@data-hook=\"review-star-rating\"]')\n",
    "\n",
    "    if node == None:\n",
    "        return np.nan\n",
    "\n",
    "    for star_rating in range(1, 6):\n",
    "        if node.find_class('a-star-{:d}'.format(star_rating)):\n",
    "             return star_rating\n",
    "\n",
    "    return np.nan"
   ]
  },
  {
   "cell_type": "markdown",
   "metadata": {},
   "source": [
    "(http://pandas.pydata.org/pandas-docs/stable/generated/pandas.DataFrame.append.html)"
   ]
  },
  {
   "cell_type": "code",
   "execution_count": 20,
   "metadata": {
    "collapsed": true
   },
   "outputs": [],
   "source": [
    "for i in sorted(pages.keys(), key = lambda i: int(i)):\n",
    "    page = pages[i]['content']\n",
    "    document = lxml.html.fromstring(page)\n",
    "    reviews = document.xpath('//*[@data-hook=\"review\"]')\n",
    "\n",
    "    for review in reviews:\n",
    "        df = df.append({'date': date(review),\n",
    "                        'id': id(review),\n",
    "                        'author': author(review),\n",
    "                        'title': title(review),\n",
    "                        'body': body(review),\n",
    "                        'star_rating': star_rating(review)},\n",
    "                       ignore_index = True)"
   ]
  },
  {
   "cell_type": "code",
   "execution_count": 21,
   "metadata": {},
   "outputs": [
    {
     "data": {
      "text/html": [
       "<div>\n",
       "<table border=\"1\" class=\"dataframe\">\n",
       "  <thead>\n",
       "    <tr style=\"text-align: right;\">\n",
       "      <th></th>\n",
       "      <th>date</th>\n",
       "      <th>id</th>\n",
       "      <th>author</th>\n",
       "      <th>title</th>\n",
       "      <th>body</th>\n",
       "      <th>star_rating</th>\n",
       "    </tr>\n",
       "  </thead>\n",
       "  <tbody>\n",
       "    <tr>\n",
       "      <th>0</th>\n",
       "      <td>2017-07-04</td>\n",
       "      <td>R29ISC3WOB5X8E</td>\n",
       "      <td>Mason selby</td>\n",
       "      <td>Highly recommend</td>\n",
       "      <td>I have bought silicon rings before and they ar...</td>\n",
       "      <td>5.0</td>\n",
       "    </tr>\n",
       "    <tr>\n",
       "      <th>1</th>\n",
       "      <td>2017-07-03</td>\n",
       "      <td>R9NVGZBOA9Q91</td>\n",
       "      <td>Jess  Sweely</td>\n",
       "      <td>Feel and look great</td>\n",
       "      <td>I bought these to wear when I go to the gym to...</td>\n",
       "      <td>5.0</td>\n",
       "    </tr>\n",
       "    <tr>\n",
       "      <th>2</th>\n",
       "      <td>2017-07-03</td>\n",
       "      <td>R16G33K3JZ0CTC</td>\n",
       "      <td>Victor DeLaRosa</td>\n",
       "      <td>Worth the purchase</td>\n",
       "      <td>Excellent ring. I don't even notice it's on. I...</td>\n",
       "      <td>5.0</td>\n",
       "    </tr>\n",
       "    <tr>\n",
       "      <th>3</th>\n",
       "      <td>2017-07-03</td>\n",
       "      <td>R3KRKKNDHOV266</td>\n",
       "      <td>Akash deepgautam</td>\n",
       "      <td>Delicate and light</td>\n",
       "      <td>Lighter than I thought. Feel no burden. It loo...</td>\n",
       "      <td>5.0</td>\n",
       "    </tr>\n",
       "    <tr>\n",
       "      <th>4</th>\n",
       "      <td>2017-07-02</td>\n",
       "      <td>R2XB715AOXY8M6</td>\n",
       "      <td>VAN VO</td>\n",
       "      <td>Great rings!</td>\n",
       "      <td>I received my rings...They are wonderful. I lo...</td>\n",
       "      <td>5.0</td>\n",
       "    </tr>\n",
       "    <tr>\n",
       "      <th>...</th>\n",
       "      <td>...</td>\n",
       "      <td>...</td>\n",
       "      <td>...</td>\n",
       "      <td>...</td>\n",
       "      <td>...</td>\n",
       "      <td>...</td>\n",
       "    </tr>\n",
       "    <tr>\n",
       "      <th>12</th>\n",
       "      <td>2017-06-22</td>\n",
       "      <td>R3FKE63ZFILHDP</td>\n",
       "      <td>Matthew DeLara</td>\n",
       "      <td>I love these rings!</td>\n",
       "      <td>I love these rings! I always end up having to ...</td>\n",
       "      <td>5.0</td>\n",
       "    </tr>\n",
       "    <tr>\n",
       "      <th>13</th>\n",
       "      <td>2017-06-22</td>\n",
       "      <td>R3703RZSG3WMA7</td>\n",
       "      <td>H ome</td>\n",
       "      <td>perfect fit!</td>\n",
       "      <td>Because of my work, I usually do not take my r...</td>\n",
       "      <td>5.0</td>\n",
       "    </tr>\n",
       "    <tr>\n",
       "      <th>14</th>\n",
       "      <td>2017-06-18</td>\n",
       "      <td>R3RRFHEULQAIA5</td>\n",
       "      <td>Amazon Customer</td>\n",
       "      <td>Just what I needed.</td>\n",
       "      <td>Excellent product. True to size. Comfortable.</td>\n",
       "      <td>5.0</td>\n",
       "    </tr>\n",
       "    <tr>\n",
       "      <th>15</th>\n",
       "      <td>2017-06-17</td>\n",
       "      <td>R2G7PVVEZ5AFJT</td>\n",
       "      <td>Amazon Customer</td>\n",
       "      <td>Five Stars</td>\n",
       "      <td>My husband loved it! Wears in place of his wed...</td>\n",
       "      <td>5.0</td>\n",
       "    </tr>\n",
       "    <tr>\n",
       "      <th>16</th>\n",
       "      <td>2017-05-04</td>\n",
       "      <td>R10DBB13JONIRA</td>\n",
       "      <td>Amazon Customer</td>\n",
       "      <td>FiveStars</td>\n",
       "      <td>ExactlywhatIexpected</td>\n",
       "      <td>5.0</td>\n",
       "    </tr>\n",
       "  </tbody>\n",
       "</table>\n",
       "<p>17 rows × 6 columns</p>\n",
       "</div>"
      ],
      "text/plain": [
       "         date              id            author                title  \\\n",
       "0  2017-07-04  R29ISC3WOB5X8E       Mason selby     Highly recommend   \n",
       "1  2017-07-03   R9NVGZBOA9Q91      Jess  Sweely  Feel and look great   \n",
       "2  2017-07-03  R16G33K3JZ0CTC   Victor DeLaRosa   Worth the purchase   \n",
       "3  2017-07-03  R3KRKKNDHOV266  Akash deepgautam   Delicate and light   \n",
       "4  2017-07-02  R2XB715AOXY8M6            VAN VO         Great rings!   \n",
       "..        ...             ...               ...                  ...   \n",
       "12 2017-06-22  R3FKE63ZFILHDP    Matthew DeLara  I love these rings!   \n",
       "13 2017-06-22  R3703RZSG3WMA7             H ome         perfect fit!   \n",
       "14 2017-06-18  R3RRFHEULQAIA5   Amazon Customer  Just what I needed.   \n",
       "15 2017-06-17  R2G7PVVEZ5AFJT   Amazon Customer           Five Stars   \n",
       "16 2017-05-04  R10DBB13JONIRA   Amazon Customer            FiveStars   \n",
       "\n",
       "                                                 body  star_rating  \n",
       "0   I have bought silicon rings before and they ar...          5.0  \n",
       "1   I bought these to wear when I go to the gym to...          5.0  \n",
       "2   Excellent ring. I don't even notice it's on. I...          5.0  \n",
       "3   Lighter than I thought. Feel no burden. It loo...          5.0  \n",
       "4   I received my rings...They are wonderful. I lo...          5.0  \n",
       "..                                                ...          ...  \n",
       "12  I love these rings! I always end up having to ...          5.0  \n",
       "13  Because of my work, I usually do not take my r...          5.0  \n",
       "14      Excellent product. True to size. Comfortable.          5.0  \n",
       "15  My husband loved it! Wears in place of his wed...          5.0  \n",
       "16                               ExactlywhatIexpected          5.0  \n",
       "\n",
       "[17 rows x 6 columns]"
      ]
     },
     "execution_count": 21,
     "metadata": {},
     "output_type": "execute_result"
    }
   ],
   "source": [
    "df"
   ]
  },
  {
   "cell_type": "code",
   "execution_count": 22,
   "metadata": {},
   "outputs": [
    {
     "data": {
      "text/plain": [
       "(17, 6)"
      ]
     },
     "execution_count": 22,
     "metadata": {},
     "output_type": "execute_result"
    }
   ],
   "source": [
    "df.shape"
   ]
  },
  {
   "cell_type": "code",
   "execution_count": 23,
   "metadata": {
    "collapsed": true
   },
   "outputs": [],
   "source": [
    "df.to_csv(os.path.join('..', 'datasets', 'dataset-04-reviews.csv'), index = False)"
   ]
  }
 ],
 "metadata": {
  "kernelspec": {
   "display_name": "Python 2",
   "language": "python",
   "name": "python2"
  },
  "language_info": {
   "codemirror_mode": {
    "name": "ipython",
    "version": 2
   },
   "file_extension": ".py",
   "mimetype": "text/x-python",
   "name": "python",
   "nbconvert_exporter": "python",
   "pygments_lexer": "ipython2",
   "version": "2.7.13"
  }
 },
 "nbformat": 4,
 "nbformat_minor": 1
}
