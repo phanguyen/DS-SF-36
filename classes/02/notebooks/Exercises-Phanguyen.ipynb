{
 "cells": [
  {
   "cell_type": "markdown",
   "metadata": {},
   "source": [
    "#### Exercise 1\n",
    "\n",
    "Create a function for the rock, paper, and scissors game. The function should have two arguments: user1's move and user2's move. The function should compare the two moves and output which move wins or if it results in a tie.\n",
    "\n",
    "Remember: Paper > Rock, Rock > Scissors, Scissors > Paper.\n",
    "\n",
    "\n",
    "Example:\n",
    "\n",
    "function(\"rock\", \"paper\")\n",
    "\n",
    "-> \"Paper wins\"\n",
    "\n",
    "function(\"scissors\", \"scissors\")\n",
    "\n",
    "-> \"Tie\""
   ]
  },
  {
   "cell_type": "code",
   "execution_count": 2,
   "metadata": {
    "collapsed": true
   },
   "outputs": [],
   "source": [
    "player1 = \"Rock\"\n",
    "player2 = \"Scissor\""
   ]
  },
  {
   "cell_type": "code",
   "execution_count": 3,
   "metadata": {},
   "outputs": [
    {
     "name": "stdout",
     "output_type": "stream",
     "text": [
      "Rock win\n"
     ]
    }
   ],
   "source": [
    "\n",
    "if player1 == player2:\n",
    "    print (\"Tie\")\n",
    "elif player1 == \"Rock\" and player2 == \"Scissor\":\n",
    "    print (\"Rock win\")\n",
    "    \n",
    "    \n",
    "elif player1 == \"Paper\":\n",
    "    if player2 == \"Scissor\":\n",
    "        print (\"Scissor win\")\n",
    "    else:\n",
    "        print (\"Scissor lose\")\n",
    "elif player1 == \"Scissor\":\n",
    "    if player2 == \"Rock\":\n",
    "        print (\"Rock win\")\n",
    "    else:\n",
    "        print (\"Rock Lose\")\n",
    "else: \n",
    "    print (\"Invalid value\");\n"
   ]
  },
  {
   "cell_type": "markdown",
   "metadata": {},
   "source": [
    "#### Exercise 2\n",
    "Write a function that takes a long string containing multiple words. Print the same string, except with the words in backwards order. For example, say I type the string:\n",
    "\n",
    "      -\"My name is Michele\"\n",
    "  \n",
    "Then I would get the string:\n",
    "\n",
    "      -\"Michele is name My\"\n",
    "\n",
    "\n"
   ]
  },
  {
   "cell_type": "code",
   "execution_count": 15,
   "metadata": {
    "collapsed": true
   },
   "outputs": [],
   "source": [
    "s = \"My name is Michele\""
   ]
  },
  {
   "cell_type": "code",
   "execution_count": 16,
   "metadata": {},
   "outputs": [],
   "source": [
    "s = s.split(\" \")"
   ]
  },
  {
   "cell_type": "code",
   "execution_count": 10,
   "metadata": {
    "collapsed": true
   },
   "outputs": [],
   "source": [
    "s.reverse()"
   ]
  },
  {
   "cell_type": "code",
   "execution_count": 11,
   "metadata": {},
   "outputs": [
    {
     "data": {
      "text/plain": [
       "['My', 'name', 'is', 'Michele']"
      ]
     },
     "execution_count": 11,
     "metadata": {},
     "output_type": "execute_result"
    }
   ],
   "source": [
    "s"
   ]
  },
  {
   "cell_type": "code",
   "execution_count": 13,
   "metadata": {},
   "outputs": [],
   "source": [
    "s = s[::-1]"
   ]
  },
  {
   "cell_type": "code",
   "execution_count": 14,
   "metadata": {},
   "outputs": [
    {
     "data": {
      "text/plain": [
       "'Michele is name My'"
      ]
     },
     "execution_count": 14,
     "metadata": {},
     "output_type": "execute_result"
    }
   ],
   "source": [
    "\" \".join(s)"
   ]
  },
  {
   "cell_type": "code",
   "execution_count": 17,
   "metadata": {},
   "outputs": [
    {
     "data": {
      "text/plain": [
       "['Michele', 'is', 'name', 'My']"
      ]
     },
     "execution_count": 17,
     "metadata": {},
     "output_type": "execute_result"
    }
   ],
   "source": [
    "List = []\n",
    "\n",
    "for i in s:\n",
    "    List.insert(0, i)\n",
    "    \n",
    "List"
   ]
  },
  {
   "cell_type": "markdown",
   "metadata": {},
   "source": [
    "#### Exercise 3\n",
    "\n",
    "Write a function that takes a list and returns a new list that contains all the elements of the first list minus all the duplicates.\n",
    "\n",
    "Input: [2,3,4,4,5,5,5,6,6] \n",
    "\n",
    "Output: [2,3,4,5,6]"
   ]
  },
  {
   "cell_type": "code",
   "execution_count": null,
   "metadata": {
    "collapsed": true
   },
   "outputs": [],
   "source": [
    "aList = []\n",
    "def remove_duplicates():\n",
    "    return list(set(aList))"
   ]
  },
  {
   "cell_type": "markdown",
   "metadata": {},
   "source": [
    "#### Exercise 4\n",
    "Given a list of integers, return the integers that can be divided by other integers in that list.\n",
    "\n",
    "Input: [6,8,3,2,4,5,10]\n",
    "\n",
    "Output: [6,8,4,10]"
   ]
  },
  {
   "cell_type": "code",
   "execution_count": null,
   "metadata": {
    "collapsed": true
   },
   "outputs": [],
   "source": []
  },
  {
   "cell_type": "markdown",
   "metadata": {},
   "source": [
    "#### Exercise 5\n",
    "Create an anagram detection function. This function will take in a list of strings and returns the strings that have anagrams in that list.\n",
    "\n",
    "Input: ['bat', 'rats', 'god', 'dog', 'cat', 'arts', 'star']\n",
    "\n",
    "Output: ['rats', 'god', 'dog', 'arts', 'star'] "
   ]
  },
  {
   "cell_type": "code",
   "execution_count": null,
   "metadata": {
    "collapsed": true
   },
   "outputs": [],
   "source": []
  },
  {
   "cell_type": "markdown",
   "metadata": {},
   "source": [
    "#### Exercise 6\n",
    "\n",
    "Create a function that calculates the sums of each integer value in a number.\n",
    "\n",
    "Input: 1234\n",
    "\n",
    "Output: 1 + 2 + 3 + 4 =10"
   ]
  },
  {
   "cell_type": "markdown",
   "metadata": {},
   "source": [
    "#### <b>What to do if you're finished</b>\n",
    "\n",
    "Try to do some Python exercises on the following websites:\n",
    "\n",
    "-http://www.practicepython.org/    \n",
    "    \n",
    "-https://github.com/zhiwehu/Python-programming-exercises\n",
    "\n",
    "-https://projecteuler.net/archives\n",
    "\n",
    "-https://www.quora.com/Where-can-I-find-basic-python-practice-problems\n",
    "\n",
    "-http://codingbat.com/python\n",
    "\n",
    "-http://exercism.io/languages/python/exercises"
   ]
  },
  {
   "cell_type": "code",
   "execution_count": null,
   "metadata": {
    "collapsed": true
   },
   "outputs": [],
   "source": []
  }
 ],
 "metadata": {
  "kernelspec": {
   "display_name": "Python 2",
   "language": "python",
   "name": "python2"
  },
  "language_info": {
   "codemirror_mode": {
    "name": "ipython",
    "version": 2
   },
   "file_extension": ".py",
   "mimetype": "text/x-python",
   "name": "python",
   "nbconvert_exporter": "python",
   "pygments_lexer": "ipython2",
   "version": "2.7.13"
  }
 },
 "nbformat": 4,
 "nbformat_minor": 2
}
