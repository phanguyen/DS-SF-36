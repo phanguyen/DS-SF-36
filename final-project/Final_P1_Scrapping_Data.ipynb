{
 "cells": [
  {
   "cell_type": "markdown",
   "metadata": {},
   "source": [
    "# Scraping Mass_Shooting_2017 Data"
   ]
  },
  {
   "cell_type": "code",
   "execution_count": 31,
   "metadata": {
    "collapsed": true
   },
   "outputs": [],
   "source": [
    "import os\n",
    "import gzip\n",
    "import json\n",
    "import lxml.html\n",
    "import dateutil\n",
    "import numpy as np\n",
    "import time\n",
    "import requests\n",
    "\n",
    "\n",
    "import pandas as pd\n",
    "pd.set_option('display.max_rows', 10)\n",
    "pd.set_option('display.notebook_repr_html', True)\n",
    "pd.set_option('display.max_columns', 10)"
   ]
  },
  {
   "cell_type": "code",
   "execution_count": 32,
   "metadata": {
    "collapsed": true
   },
   "outputs": [],
   "source": [
    "response = requests.get('http://www.gunviolencearchive.org/reports/mass-shooting',\n",
    "    headers = {'User-agent': 'Mozilla/5.0 (Macintosh; Intel Mac OS X 10_12) AppleWebKit/602.1.43 (KHTML, like Gecko) Version/10.0 Safari/602.1.43'})"
   ]
  },
  {
   "cell_type": "code",
   "execution_count": 33,
   "metadata": {},
   "outputs": [
    {
     "data": {
      "text/plain": [
       "<Response [200]>"
      ]
     },
     "execution_count": 33,
     "metadata": {},
     "output_type": "execute_result"
    }
   ],
   "source": [
    "response"
   ]
  },
  {
   "cell_type": "code",
   "execution_count": 34,
   "metadata": {},
   "outputs": [
    {
     "data": {
      "text/plain": [
       "200"
      ]
     },
     "execution_count": 34,
     "metadata": {},
     "output_type": "execute_result"
    }
   ],
   "source": [
    "response.status_code"
   ]
  },
  {
   "cell_type": "code",
   "execution_count": 35,
   "metadata": {},
   "outputs": [
    {
     "data": {
      "text/plain": [
       "'text/html; charset=utf-8'"
      ]
     },
     "execution_count": 35,
     "metadata": {},
     "output_type": "execute_result"
    }
   ],
   "source": [
    "response.headers['content-type']"
   ]
  },
  {
   "cell_type": "code",
   "execution_count": 36,
   "metadata": {},
   "outputs": [
    {
     "data": {
      "text/plain": [
       "'utf-8'"
      ]
     },
     "execution_count": 36,
     "metadata": {},
     "output_type": "execute_result"
    }
   ],
   "source": [
    "response.encoding"
   ]
  },
  {
   "cell_type": "code",
   "execution_count": 37,
   "metadata": {},
   "outputs": [
    {
     "data": {
      "text/plain": [
       "'<!DOCTYPE html>\\n<html xmlns:content=\"http://purl.org/rss/1.0/modules/content/\" xmlns:dc=\"http://purl.org/dc/terms/\" xmlns:foaf=\"http://xmlns.com/foaf/0.1/\" xmlns:og=\"http://ogp.me/ns#\" xmlns:rdfs=\"http://www.w3.org/2000/01/rdf-schema#\" xmlns:sioc=\"http://rdfs.org/sioc/ns#\" xmlns:sioct=\"http://rdfs.org/sioc/types#\" xmlns:skos=\"http://www.w3.org/2004/02/skos/core#\" xmlns:xsd=\"http://www.w3.org/2001/XMLSchema#\">\\n<head profile=\"http://www.w3.org/1999/xhtml/vocab\">\\n<meta name=\"viewport\" content=\"width=device-width, initial-scale=1, maximum-scale=1, user-scalable=no\">\\n<meta http-equiv=\"Content-Type\" content=\"text/html; charset=utf-8\"/>\\n<link rel=\"shortcut icon\" href=\"http://www.gunviolencearchive.org/sites/default/files/favicon.png\" type=\"image/png\"/>\\n<meta name=\"Generator\" content=\"Drupal 7 (http://drupal.org)\"/>\\n<meta property=\"og:description\" content=\"Gun Violence Archive (GVA) is a not for profit corporation formed in 2013 to provide free online public access to accurate information about gun-related violence in the United States. GVA will collect and check for accuracy, comprehensive information about gun-related violence in the U.S. and then post and disseminate it online.\"/>\\n<title>Mass Shootings | Gun Violence Archive</title>\\n<meta name=\"twitter:card\" content=\"summary_large_image\">\\n<meta name=\"twitter:site\" content=\"@GunDeaths\">\\n<meta name=\"twitter:creator\" content=\"@GunDeaths\">\\n<meta name=\"twitter:title\" content=\"Gun Violence Archive\">\\n<meta name=\"twitter:description\" content=\"Near real-time tweets of American gun violence incidents. Non-profit. Non-advocacy. Just the facts.\" <meta name=\"twitter:image\" content=\"http://www.gunviolencearchive.org/sites/all/themes/gva_theme/images/share-logo.jpg\">\\n<meta property=\"og:image\" content=\"http://www.gunviolencearchive.org/sites/all/themes/gva_theme/images/share-logo.jpg\"/>\\n<style type=\"text/css\" media=\"all\">\\n@import url(\"http://www.gunviolencearchive.org/modules/system/system.base.css?our0j1\");\\n@import url(\"http://www.gunviolencearchive.org/modules/system/system.menus.css?our0j1\");\\n@import url(\"http://www.gunviolencearchive.org/modules/system/system.messages.css?our0j1\");\\n@import url(\"http://www.gunviolencearchive.org/modules/system/system.theme.css?our0j1\");\\n</style>\\n<style type=\"text/css\" media=\"all\">\\n@import url(\"http://www.gunviolencearchive.org/sites/all/modules/contrib/date/date_api/date.css?our0j1\");\\n@import url(\"http://www.gunviolencearchive.org/modules/field/theme/field.css?our0j1\");\\n@import url(\"http://www.gunviolencearchive.org/modules/node/node.css?our0j1\");\\n@import url(\"http://www.gunviolencearchive.org/modules/user/user.css?our0j1\");\\n@import url(\"http://www.gunviolencearchive.org/sites/all/modules/contrib/ckeditor/css/ckeditor.css?our0j1\");\\n</style>\\n<style type=\"text/css\" media=\"all\">\\n@import url(\"http://www.gunviolencearchive.org/sites/all/modules/contrib/ctools/css/ctools.css?our0j1\");\\n@import url(\"http://www.gunviolencearchive.org/sites/all/themes/gva_theme/compiled/default.css?our0j1\");\\n@import url(\"http://www.gunviolencearchive.org/sites/all/themes/gva_theme/compiled/font-awesome.min.css?our0j1\");\\n</style>\\n<script type=\"text/javascript\" src=\"https://ajax.googleapis.com/ajax/libs/jquery/2.2.0/jquery.min.js?our0j1\"></script>\\n<script type=\"text/javascript\" src=\"https://ajax.googleapis.com/ajax/libs/jqueryui/1.11.4/jquery-ui.min.js?our0j1\"></script>\\n<script type=\"text/javascript\" src=\"http://www.gunviolencearchive.org/misc/jquery.once.js?v=1.2\"></script>\\n<script type=\"text/javascript\" src=\"http://www.gunviolencearchive.org/misc/drupal.js?our0j1\"></script>\\n<script type=\"text/javascript\" src=\"http://www.gunviolencearchive.org/misc/tableheader.js?our0j1\"></script>\\n<script type=\"text/javascript\" src=\"http://www.gunviolencearchive.org/sites/all/modules/contrib/google_analytics/googleanalytics.js?our0j1\"></script>\\n<script type=\"text/javascript\">\\n<!--//--><![CDATA[//><!--\\n(function(i,s,o,g,r,a,m){i[\"GoogleAnalyticsObject\"]=r;i[r]=i[r]||function(){(i[r].q=i[r].q||[]).push(arguments)},i[r].l=1*new Date();a=s.createElement(o),m=s.getElementsByTagName(o)[0];a.async=1;a.src=g;m.parentNode.insertBefore(a,m)})(window,document,\"script\",\"http://www.gunviolencearchive.org/sites/default/files/googleanalytics/analytics.js?our0j1\",\"ga\");ga(\"create\", \"UA-56234107-1\", {\"cookieDomain\":\"auto\"});ga(\"set\", \"anonymizeIp\", true);ga(\"send\", \"pageview\");\\n//--><!]]>\\n</script>\\n<script type=\"text/javascript\" src=\"http://www.gunviolencearchive.org/sites/all/themes/gva_theme/compiled/default-head.js?our0j1\"></script>\\n<script type=\"text/javascript\">\\n<!--//--><![CDATA[//><!--\\njQuery.extend(Drupal.settings, {\"basePath\":\"\\\\/\",\"pathPrefix\":\"\",\"ajaxPageState\":{\"theme\":\"gva_theme\",\"theme_token\":\"SDGvUfITMT1ttCWLG6MvgW4VAsB8zjhgTEzvci7W5Zg\",\"js\":{\"sites\\\\/all\\\\/themes\\\\/gva_theme\\\\/compiled\\\\/default-foot.js\":1,\"https:\\\\/\\\\/ajax.googleapis.com\\\\/ajax\\\\/libs\\\\/jquery\\\\/2.2.0\\\\/jquery.min.js\":1,\"https:\\\\/\\\\/ajax.googleapis.com\\\\/ajax\\\\/libs\\\\/jqueryui\\\\/1.11.4\\\\/jquery-ui.min.js\":1,\"misc\\\\/jquery.once.js\":1,\"misc\\\\/drupal.js\":1,\"misc\\\\/tableheader.js\":1,\"sites\\\\/all\\\\/modules\\\\/contrib\\\\/google_analytics\\\\/googleanalytics.js\":1,\"0\":1,\"sites\\\\/all\\\\/themes\\\\/gva_theme\\\\/compiled\\\\/default-head.js\":1},\"css\":{\"modules\\\\/system\\\\/system.base.css\":1,\"modules\\\\/system\\\\/system.menus.css\":1,\"modules\\\\/system\\\\/system.messages.css\":1,\"modules\\\\/system\\\\/system.theme.css\":1,\"sites\\\\/all\\\\/modules\\\\/contrib\\\\/date\\\\/date_api\\\\/date.css\":1,\"modules\\\\/field\\\\/theme\\\\/field.css\":1,\"modules\\\\/node\\\\/node.css\":1,\"modules\\\\/user\\\\/user.css\":1,\"sites\\\\/all\\\\/modules\\\\/contrib\\\\/ckeditor\\\\/css\\\\/ckeditor.css\":1,\"sites\\\\/all\\\\/modules\\\\/contrib\\\\/ctools\\\\/css\\\\/ctools.css\":1,\"sites\\\\/all\\\\/themes\\\\/gva_theme\\\\/compiled\\\\/default.css\":1,\"sites\\\\/all\\\\/themes\\\\/gva_theme\\\\/compiled\\\\/font-awesome.min.css\":1}},\"googleanalytics\":{\"trackOutbound\":1,\"trackMailto\":1,\"trackDownload\":1,\"trackDownloadExtensions\":\"7z|aac|arc|arj|asf|asx|avi|bin|csv|doc(x|m)?|dot(x|m)?|exe|flv|gif|gz|gzip|hqx|jar|jpe?g|js|mp(2|3|4|e?g)|mov(ie)?|msi|msp|pdf|phps|png|ppt(x|m)?|pot(x|m)?|pps(x|m)?|ppam|sld(x|m)?|thmx|qtm?|ra(m|r)?|sea|sit|tar|tgz|torrent|txt|wav|wma|wmv|wpd|xls(x|m|b)?|xlt(x|m)|xlam|xml|z|zip\"}});\\n//--><!]]>\\n</script>\\n<script type=\"text/javascript\">\\n\\t\\t\\t<!--//--><![CDATA[//><!--\\n\\t\\t\\tvar switchTo5x = true;\\n\\t\\t\\t//--><!]]>\\n\\t\\t</script>\\n<script async type=\"text/javascript\" src=\"http://w.sharethis.com/button/buttons.js\"></script>\\n<script type=\"text/javascript\">\\n\\t\\t\\tstLight.options({\\n\\t\\t\\t\\tpublisher:\\'013ed8d0-f9c4-4049-9083-980a02c6cedc\\',\\n\\t\\t\\t\\tdoNotHash: true,\\n\\t\\t\\t\\tversion: \\'5x\\',\\n\\t\\t\\t\\tonhover: false\\n\\t\\t\\t});\\n\\t\\t</script>\\n</head>\\n<body class=\"html not-front not-logged-in no-sidebars page-query page-query-0484b316-f676-44bc-97ed-ecefeabae077\">\\n<header>\\n<div class=\"row\">\\n<div class=\"large-12 columns\">\\n<div id=\"header-logo\">\\n<a href=\"/\">\\n<img class=\"branding\" src=\"http://www.gunviolencearchive.org/sites/default/files/logo.png\" alt=\"Home\"/>\\n</a>\\n</div>\\n<nav id=\"header-nav\">\\n<div class=\"wrapper\">\\n<div class=\"region region-header\">\\n<div id=\"block-gva-general-header-new-entry\" class=\"block block-gva-general\">\\n</div>\\n<div id=\"block-gva-general-header-login\" class=\"block block-gva-general\">\\n<a href=\"/user/login\"><strong>Login</strong></a></div>\\n<div id=\"block-gva-general-header-contact-us\" class=\"block block-gva-general\">\\n<a href=\"/contact\">Contact Us</a></div>\\n<div id=\"block-gva-general-header-search-button\" class=\"block block-gva-general\">\\n<div class=\"search\"><a href=\"/query\"><img typeof=\"foaf:Image\" src=\"http://www.gunviolencearchive.org/sites/all/themes/gva_theme/images/icons/search.png\" alt=\"Search\"/><span>Search Database</span></a></div>\\n</div>\\n<div id=\"block-gva-general-header-social\" class=\"block block-gva-general\">\\n<div class=\"item-list\"><ul class=\"social medium-text-right small-text-left\"><li class=\"first\"><a href=\"http://www.facebook.com/gunviolencearchive\" class=\"facebook\" target=\"_blank\">Facebook</a></li>\\n<li class=\"last\"><a href=\"http://twitter.com/gundeaths\" class=\"twitter\" target=\"_blank\">Twitter</a></li>\\n</ul></div></div>\\n</div>\\n</div>\\n</nav>\\n</div>\\n</div>\\n</header>\\n<nav class=\"top-bar\" role=\"navigation\">\\n<div id=\"main-nav-mobile-btn\" class=\"top-bar-title hide-for-large\">\\n<div class=\"mobile-btn\">\\n<span data-responsive-toggle=\"main-nav\" data-hide-for=\"large\">\\n<button class=\"menu-icon light\" type=\"button\" data-toggle>MENU</button>\\n</span>\\n</div>\\n</div>\\n<div id=\"main-nav\">\\n<div class=\"wrapper\">\\n<div class=\"navigation\">\\n<div class=\"region region-navigation\">\\n<div id=\"block-gva-general-gva-navigation\" class=\"block block-gva-general\">\\n<ul class=\"inline-list menu\"><li class=\"first leaf depth-1\"><a href=\"/\">Home</a></li>\\n<li class=\"leaf depth-1\"><a href=\"/charts-and-maps\" title>Charts &amp; Maps</a></li>\\n<li class=\"leaf depth-1\"><a href=\"/last-72-hours\" title>Last 72 Hours</a></li>\\n<li class=\"leaf depth-1\"><a href=\"/reports\" title>Reports</a></li>\\n<li class=\"leaf depth-1\"><a href=\"/analysis-opinion\" title>Analysis/Opinion</a></li>\\n<li class=\"expanded has-children depth-1 has-submenu\"><a href=\"/about\">About Us</a><ul class=\"submenu\"><li class=\"first last leaf depth-2\"><a href=\"/methodology\">Methodology</a></li>\\n</ul>\\n</li>\\n<li class=\"leaf depth-1\"><a href=\"/past-tolls\" title>Past Years</a></li>\\n<li class=\"last leaf depth-1\"><a href=\"/congress\" title>Congressional Reports</a></li>\\n</ul>\\n</div>\\n</div>\\n</div>\\n</div>\\n</div>\\n</nav>\\n<section id=\"content\">\\n<div class=\"row\">\\n<div class=\"main-content\">\\n<div class=\"small-12 columns\">\\n<h1 class=\"border-background\">\\n<span>Mass Shootings</span>\\n</h1>\\n<div class=\"links-container\">\\n<h2 class=\"element-invisible\">Primary tabs</h2><ul class=\"align-right link-list tabs-primary\"><li class=\"active\"><a href=\"/reports/mass-shooting\" class=\"button active\">View Results<span class=\"element-invisible\">(active tab)</span></a></li>\\n<li><a href=\"/query/0484b316-f676-44bc-97ed-ecefeabae077/export-csv\" class=\"button\">Export as CSV</a></li>\\n<li><a href=\"/query/0484b316-f676-44bc-97ed-ecefeabae077/map\" class=\"button\">Interactive Map</a></li>\\n</ul> </div>\\n<div class=\"region region-content\">\\n<div id=\"block-system-main\" class=\"block block-system\">\\n<form action=\"/reports/mass-shooting\" method=\"post\" id=\"gva-entry-results-limiter\" accept-charset=\"UTF-8\"><div><p><p>Thanks for your interest in our statistics! Unfortunately, we must limit result sets for the general queries.</p>\\n</p><input type=\"hidden\" name=\"form_build_id\" value=\"form-9fK5WlDqP8a7G1svzIazI1iY8Ytm5Rq52fBZF5zmvHY\"/>\\n<input type=\"hidden\" name=\"form_id\" value=\"gva_entry_results_limiter\"/>\\n</div></form><section class=\"row\"><div class=\"small-12 columns\"><table class=\"responsive sticky-enabled\">\\n<thead><tr><th column=\"Base.IncidentDate\" class=\"active\"><a href=\"/reports/mass-shooting?sort=asc&amp;order=Incident%20Date\" title=\"sort by Incident Date\" class=\"active\">Incident Date<img typeof=\"foaf:Image\" src=\"http://www.gunviolencearchive.org/misc/arrow-asc.png\" width=\"13\" height=\"13\" alt=\"sort ascending\" title=\"sort ascending\"/></a></th><th column=\"Location.State\"><a href=\"/reports/mass-shooting?sort=asc&amp;order=State\" title=\"sort by State\" class=\"active\">State</a></th><th column=\"Location.CityOrCounty\"><a href=\"/reports/mass-shooting?sort=asc&amp;order=City%20Or%20County\" title=\"sort by City Or County\" class=\"active\">City Or County</a></th><th column=\"Location.Address\"><a href=\"/reports/mass-shooting?sort=asc&amp;order=Address\" title=\"sort by Address\" class=\"active\">Address</a></th><th column=\"Counts.NumberOfParticipantsKilled\"># Killed</th><th column=\"Counts.NumberOfParticipantsInjured\"># Injured</th><th column=\"Base.Operations\">Operations</th> </tr></thead>\\n<tbody>\\n<tr class=\"odd\"><td>August 14, 2017</td><td>California</td><td>Los Angeles (Hollywood)</td><td>Morrison St and Klump Ave</td><td>2</td><td>2</td><td><ul class=\"links inline links-new-lines\"><li class=\"0 first\"><a href=\"/incident/913924\">View Incident</a></li>\\n<li class=\"1 last\"><a href=\"http://losangeles.cbslocal.com/2017/08/15/2-men-dead-north-hollywood/\" target=\"_blank\">View Source</a></li>\\n</ul></td> </tr>\\n<tr class=\"even\"><td>August 13, 2017</td><td>California</td><td>Sacramento</td><td>4000 Block of Martin Luther King Jr Blvd</td><td>0</td><td>4</td><td><ul class=\"links inline links-new-lines\"><li class=\"0 first\"><a href=\"/incident/912322\">View Incident</a></li>\\n<li class=\"1 last\"><a href=\"https://www.sacpd.org/dailyactivity/view.aspx?occ_date=20170813\" target=\"_blank\">View Source</a></li>\\n</ul></td> </tr>\\n<tr class=\"odd\"><td>August 13, 2017</td><td>Virginia</td><td>Suffolk</td><td>8700 block of Quay Rd</td><td>0</td><td>4</td><td><ul class=\"links inline links-new-lines\"><li class=\"0 first\"><a href=\"/incident/912375\">View Incident</a></li>\\n<li class=\"1 last\"><a href=\"http://www.13newsnow.com/news/police-four-shot-at-party-in-suffolk/464051228\" target=\"_blank\">View Source</a></li>\\n</ul></td> </tr>\\n<tr class=\"even\"><td>August 13, 2017</td><td>Pennsylvania</td><td>Philadelphia</td><td>39th St and Melon St</td><td>0</td><td>5</td><td><ul class=\"links inline links-new-lines\"><li class=\"0 first\"><a href=\"/incident/912805\">View Incident</a></li>\\n<li class=\"1 last\"><a href=\"http://www.fox29.com/news/local-news/273686172-story\" target=\"_blank\">View Source</a></li>\\n</ul></td> </tr>\\n<tr class=\"odd\"><td>August 12, 2017</td><td>Missouri</td><td>Saint Louis</td><td>12310 Bellefontaine Rd</td><td>1</td><td>3</td><td><ul class=\"links inline links-new-lines\"><li class=\"0 first\"><a href=\"/incident/912093\">View Incident</a></li>\\n<li class=\"1 last\"><a href=\"http://fox2now.com/2017/08/12/1-dead-3-shot-in-north-st-louis-county/\" target=\"_blank\">View Source</a></li>\\n</ul></td> </tr>\\n<tr class=\"even\"><td>August 8, 2017</td><td>Illinois</td><td>Chicago</td><td>1 block of East 37th Street</td><td>1</td><td>6</td><td><ul class=\"links inline links-new-lines\"><li class=\"0 first\"><a href=\"/incident/909423\">View Incident</a></li>\\n<li class=\"1 last\"><a href=\"http://chicago.suntimes.com/chicago-politics/cousin-bronzeville-man-slain-in-shooting-died-protecting-the-kids/\" target=\"_blank\">View Source</a></li>\\n</ul></td> </tr>\\n<tr class=\"odd\"><td>August 6, 2017</td><td>New York</td><td>Bronx</td><td>Wickham Ave</td><td>0</td><td>6</td><td><ul class=\"links inline links-new-lines\"><li class=\"0 first\"><a href=\"/incident/907555\">View Incident</a></li>\\n<li class=\"1 last\"><a href=\"http://nypost.com/2017/08/06/at-least-12-wounded-in-separate-shooting-incidents/\" target=\"_blank\">View Source</a></li>\\n</ul></td> </tr>\\n<tr class=\"even\"><td>August 6, 2017</td><td>New York</td><td>Bronx</td><td>Unionport Rd</td><td>0</td><td>4</td><td><ul class=\"links inline links-new-lines\"><li class=\"0 first\"><a href=\"/incident/907546\">View Incident</a></li>\\n<li class=\"1 last\"><a href=\"http://nypost.com/2017/08/06/at-least-12-wounded-in-separate-shooting-incidents/\" target=\"_blank\">View Source</a></li>\\n</ul></td> </tr>\\n<tr class=\"odd\"><td>August 6, 2017</td><td>California</td><td>Oakland</td><td>1000 block of 106th Avenue</td><td>0</td><td>7</td><td><ul class=\"links inline links-new-lines\"><li class=\"0 first\"><a href=\"/incident/907857\">View Incident</a></li>\\n<li class=\"1 last\"><a href=\"https://patch.com/california/rockridge/7-injured-oakland-shooting\" target=\"_blank\">View Source</a></li>\\n</ul></td> </tr>\\n<tr class=\"even\"><td>August 5, 2017</td><td>New Jersey</td><td>Lakewood</td><td>900 block of Brook Road</td><td>0</td><td>4</td><td><ul class=\"links inline links-new-lines\"><li class=\"0 first\"><a href=\"/incident/907247\">View Incident</a></li>\\n<li class=\"1 last\"><a href=\"http://www.app.com/story/news/local/emergencies/2017/08/05/cops-least-4-people-shot-lakewood/543185001/\" target=\"_blank\">View Source</a></li>\\n</ul></td> </tr>\\n<tr class=\"odd\"><td>August 5, 2017</td><td>South Carolina</td><td>Allendale</td><td>300 block of Ellis St</td><td>1</td><td>3</td><td><ul class=\"links inline links-new-lines\"><li class=\"0 first\"><a href=\"/incident/907611\">View Incident</a></li>\\n<li class=\"1 last\"><a href=\"http://www.wrdw.com/content/news/438843363.html\" target=\"_blank\">View Source</a></li>\\n</ul></td> </tr>\\n<tr class=\"even\"><td>August 5, 2017</td><td>Florida</td><td>Tallahassee</td><td>1939 W Tennessee St</td><td>1</td><td>3</td><td><ul class=\"links inline links-new-lines\"><li class=\"0 first\"><a href=\"/incident/906568\">View Incident</a></li>\\n<li class=\"1 last\"><a href=\"http://www.wctv.tv/content/news/TPD-One-dead-three-others-injured-in-Saturday-morning-shooting-438688183.html\" target=\"_blank\">View Source</a></li>\\n</ul></td> </tr>\\n<tr class=\"odd\"><td>August 4, 2017</td><td>Montana</td><td>Lodge Grass</td><td>200 block of North Helen Street</td><td>3</td><td>2</td><td><ul class=\"links inline links-new-lines\"><li class=\"0 first\"><a href=\"/incident/906509\">View Incident</a></li>\\n<li class=\"1 last\"><a href=\"http://www.kxlh.com/story/36079614/suspect-in-lodge-grass-murders-identified-in-bolo-alert\" target=\"_blank\">View Source</a></li>\\n</ul></td> </tr>\\n<tr class=\"even\"><td>August 3, 2017</td><td>District of Columbia</td><td>Washington</td><td>3426 18th St NE</td><td>1</td><td>3</td><td><ul class=\"links inline links-new-lines\"><li class=\"0 first\"><a href=\"/incident/906126\">View Incident</a></li>\\n<li class=\"1 last\"><a href=\"http://www.wusa9.com/news/local/dc/4-shot-in-ne-dc/461825096\" target=\"_blank\">View Source</a></li>\\n</ul></td> </tr>\\n<tr class=\"odd\"><td>August 2, 2017</td><td>Indiana</td><td>South Bend</td><td>2122 Frederickson St</td><td>2</td><td>2</td><td><ul class=\"links inline links-new-lines\"><li class=\"0 first\"><a href=\"/incident/904907\">View Incident</a></li>\\n<li class=\"1 last\"><a href=\"http://www.southbendtribune.com/news/publicsafety/two-killed-two-others-injured-in-south-bend-shooting/article_a76f7a32-7835-11e7-b8f6-47605e95728b.html\" target=\"_blank\">View Source</a></li>\\n</ul></td> </tr>\\n<tr class=\"even\"><td>August 2, 2017</td><td>Maryland</td><td>Baltimore</td><td>900 block of N Broadway</td><td>0</td><td>4</td><td><ul class=\"links inline links-new-lines\"><li class=\"0 first\"><a href=\"/incident/904329\">View Incident</a></li>\\n<li class=\"1 last\"><a href=\"http://www.wbaltv.com/article/man-shot-in-head-in-quadruple-shooting-in-east-baltimore/10414431\" target=\"_blank\">View Source</a></li>\\n</ul></td> </tr>\\n<tr class=\"odd\"><td>August 1, 2017</td><td>Washington</td><td>Toppenish</td><td>8000 Block of Lateral C Rd</td><td>0</td><td>6</td><td><ul class=\"links inline links-new-lines\"><li class=\"0 first\"><a href=\"/incident/904106\">View Incident</a></li>\\n<li class=\"1 last\"><a href=\"http://www.nbcrightnow.com/story/36024336/18-year-old-injures-six-others-with-birdshot-loaded-shotgun\" target=\"_blank\">View Source</a></li>\\n</ul></td> </tr>\\n<tr class=\"even\"><td>August 1, 2017</td><td>California</td><td>Fresno</td><td>Mariposa St and A St</td><td>0</td><td>7</td><td><ul class=\"links inline links-new-lines\"><li class=\"0 first\"><a href=\"/incident/904026\">View Incident</a></li>\\n<li class=\"1 last\"><a href=\"http://abc30.com/drive-by-shooting-in-southwest-fresno-leaves-7-injured/2268771/\" target=\"_blank\">View Source</a></li>\\n</ul></td> </tr>\\n<tr class=\"odd\"><td>August 1, 2017</td><td>Illinois</td><td>Chicago</td><td>800 block of N Monticello Ave</td><td>0</td><td>4</td><td><ul class=\"links inline links-new-lines\"><li class=\"0 first\"><a href=\"/incident/903853\">View Incident</a></li>\\n<li class=\"1 last\"><a href=\"http://www.chicagotribune.com/news/local/breaking/ct-boy-16-shot-in-grand-crossing-20170801-story.html\" target=\"_blank\">View Source</a></li>\\n</ul></td> </tr>\\n<tr class=\"even\"><td>July 31, 2017</td><td>Illinois</td><td>Decatur</td><td>Jasper St and Main St</td><td>0</td><td>4</td><td><ul class=\"links inline links-new-lines\"><li class=\"0 first\"><a href=\"/incident/903090\">View Incident</a></li>\\n<li class=\"1 last\"><a href=\"http://herald-review.com/news/local/crime-and-courts/police-four-shot-injured-near-jasper-main-streets/article_57124700-f003-5a6e-ba4a-819ca149272a.html\" target=\"_blank\">View Source</a></li>\\n</ul></td> </tr>\\n<tr class=\"odd\"><td>July 30, 2017</td><td>Texas</td><td>El Paso</td><td>1810 George Dieter Dr</td><td>1</td><td>3</td><td><ul class=\"links inline links-new-lines\"><li class=\"0 first\"><a href=\"/incident/902187\">View Incident</a></li>\\n<li class=\"1 last\"><a href=\"https://www.dallasnews.com/news/crime/2017/08/05/bandidos-leader-dies-shot-rival-club-member-bar-fight-el-paso-police-say?extpar=dfw-m\" target=\"_blank\">View Source</a></li>\\n</ul></td> </tr>\\n<tr class=\"even\"><td>July 30, 2017</td><td>Virginia</td><td>Norfolk</td><td>1500 block of Azalea Garden Rd</td><td>1</td><td>5</td><td><ul class=\"links inline links-new-lines\"><li class=\"0 first\"><a href=\"/incident/901549\">View Incident</a></li>\\n<li class=\"1 last\"><a href=\"https://pilotonline.com/news/local/crime/number-of-people-shot-sunday-at-a-norfolk-house-party/article_3e452c73-8606-5a71-aaf0-437a5006e5ac.html\" target=\"_blank\">View Source</a></li>\\n</ul></td> </tr>\\n<tr class=\"odd\"><td>July 29, 2017</td><td>New York</td><td>Buffalo</td><td>200 block of Carl St</td><td>1</td><td>4</td><td><ul class=\"links inline links-new-lines\"><li class=\"0 first\"><a href=\"/incident/901083\">View Incident</a></li>\\n<li class=\"1 last\"><a href=\"http://buffalonews.com/2017/08/09/buffalo-police-identify-four-killed-9-days/\" target=\"_blank\">View Source</a></li>\\n</ul></td> </tr>\\n<tr class=\"even\"><td>July 29, 2017</td><td>North Carolina</td><td>Salisbury</td><td>115 W Fisher St</td><td>2</td><td>3</td><td><ul class=\"links inline links-new-lines\"><li class=\"0 first\"><a href=\"/incident/901000\">View Incident</a></li>\\n<li class=\"1 last\"><a href=\"http://www.wbtv.com/story/36020303/police-suspected-gang-members-arrested-in-connection-to-deadly-salisbury-shooting\" target=\"_blank\">View Source</a></li>\\n</ul></td> </tr>\\n<tr class=\"odd\"><td>July 28, 2017</td><td>Delaware</td><td>Wilmington</td><td>400 block of North Washington Street</td><td>0</td><td>4</td><td><ul class=\"links inline links-new-lines\"><li class=\"0 first\"><a href=\"/incident/900963\">View Incident</a></li>\\n<li class=\"1 last\"><a href=\"http://www.delawareonline.com/story/news/crime/2017/07/29/one-person-reportedly-shot-wilmington/522305001/\" target=\"_blank\">View Source</a></li>\\n</ul></td> </tr>\\n</tbody>\\n</table>\\n</div></section><h2 class=\"element-invisible\">Pages</h2><div class=\"item-list\"><ul class=\"pager\"><li class=\"pager-current first\">1</li>\\n<li class=\"pager-item\"><a title=\"Go to page 2\" href=\"/reports/mass-shooting?page=1\">2</a></li>\\n<li class=\"pager-item\"><a title=\"Go to page 3\" href=\"/reports/mass-shooting?page=2\">3</a></li>\\n<li class=\"pager-item\"><a title=\"Go to page 4\" href=\"/reports/mass-shooting?page=3\">4</a></li>\\n<li class=\"pager-item\"><a title=\"Go to page 5\" href=\"/reports/mass-shooting?page=4\">5</a></li>\\n<li class=\"pager-item\"><a title=\"Go to page 6\" href=\"/reports/mass-shooting?page=5\">6</a></li>\\n<li class=\"pager-item\"><a title=\"Go to page 7\" href=\"/reports/mass-shooting?page=6\">7</a></li>\\n<li class=\"pager-item\"><a title=\"Go to page 8\" href=\"/reports/mass-shooting?page=7\">8</a></li>\\n<li class=\"pager-item\"><a title=\"Go to page 9\" href=\"/reports/mass-shooting?page=8\">9</a></li>\\n<li class=\"pager-next\"><a title=\"Go to next page\" href=\"/reports/mass-shooting?page=1\">next \\xe2\\x80\\xba</a></li>\\n<li class=\"pager-last last\"><a title=\"Go to last page\" href=\"/reports/mass-shooting?page=9\">last \\xc2\\xbb</a></li>\\n</ul></div></div>\\n</div>\\n</div>\\n</div>\\n</div>\\n</section>\\n<footer>\\n<div class=\"row\">\\n<div class=\"large-4 medium-4 medium-uncentered small-centered columns\">\\n<a class=\"clearfix display-block\" href=\"/\">\\n<img class=\"branding\" src=\"http://www.gunviolencearchive.org/sites/default/files/logo.png\" alt=\"Gun Violence Archive\"/>\\n</a>\\n<div class=\"region region-footer-left\">\\n<div id=\"block-gva-general-footer-address\" class=\"block block-gva-general\">\\n<div class=\"address-items row\"><div class=\"small-6 columns\"><p>1718 M Street, N.W. PMB #126<br/>\\nWashington, DC 20036-4504<br/>\\n<a href=\"/cdn-cgi/l/email-protection#aac3c4dbdfc3d8d3eacddccb84dfd984c9c5c7\"><span class=\"__cf_email__\" data-cfemail=\"3a53544b4f5348437a5d4c5b144f4914595557\">[email&#160;protected]</span><script data-cfhash=\"f9e31\" type=\"text/javascript\">/* <![CDATA[ */!function(t,e,r,n,c,a,p){try{t=document.currentScript||function(){for(t=document.getElementsByTagName(\\'script\\'),e=t.length;e--;)if(t[e].getAttribute(\\'data-cfhash\\'))return t[e]}();if(t&&(c=t.previousSibling)){p=t.parentNode;if(a=c.getAttribute(\\'data-cfemail\\')){for(e=\\'\\',r=\\'0x\\'+a.substr(0,2)|0,n=2;a.length-n;n+=2)e+=\\'%\\'+(\\'0\\'+(\\'0x\\'+a.substr(n,2)^r).toString(16)).slice(-2);p.replaceChild(document.createTextNode(decodeURIComponent(e)),c)}p.removeChild(t)}}catch(u){}}()/* ]]> */</script></a></p>\\n</div>\\n<div class=\"small-6 columns\"><p>\\xc2\\xa9 Copyright 2017<br/>\\nGun Violence Archive<br/>\\nAll rights reserved.</p>\\n</div>\\n</div></div>\\n</div>\\n<div class=\"clearfix\"></div>\\n</div>\\n<div class=\"large-4 medium-5 medium-uncentered small-centered columns center-column\">\\n<div class=\"region region-footer-center\">\\n<div id=\"block-gva-general-footer-navigation\" class=\"block block-gva-general\">\\n<div class=\"columns-container\"><ul class=\"column column-0\"><li class=\"first leaf depth-1\"><a href=\"/\">Home</a></li>\\n<li class=\"leaf depth-1\"><a href=\"/charts-and-maps\" title>Charts and Maps</a></li>\\n<li class=\"leaf depth-1\"><a href=\"/last-72-hours\" title>Last 72 Hours</a></li>\\n<li class=\"leaf depth-1\"><a href=\"/reports\" title>Reports</a></li>\\n<li class=\"leaf depth-1\"><a href=\"/analysis-opinion\" title>Analysis/Opinion</a></li>\\n</ul>\\n<ul class=\"column column-1\"><li class=\"leaf depth-1\"><a href=\"/methodology\" title>Methodology</a></li>\\n<li class=\"leaf depth-1\"><a href=\"/about\" title>About Us</a></li>\\n<li class=\"leaf depth-1\"><a href=\"/past-tolls\" title>Past Years</a></li>\\n<li class=\"leaf depth-1\"><a href=\"/congress\" title>Congressional-Reports</a></li>\\n<li class=\"last leaf depth-1\"><a href=\"/user/login\">Log In</a></li>\\n</ul>\\n</div></div>\\n</div>\\n<div class=\"clearfix\"></div>\\n</div>\\n<div class=\"large-4 medium-3 medium-uncentered small-centered columns\">\\n<div class=\"region region-footer-right\">\\n<div id=\"block-gva-general-footer-social\" class=\"block block-gva-general\">\\n<div class=\"item-list\"><ul class=\"social medium-text-right small-text-left\"><li class=\"first\"><a href=\"http://www.facebook.com/gunviolencearchive\" class=\"facebook\" target=\"_blank\">Facebook</a></li>\\n<li class=\"last\"><a href=\"http://twitter.com/gundeaths\" class=\"twitter\" target=\"_blank\">Twitter</a></li>\\n</ul></div></div>\\n</div>\\n</div>\\n</div>\\n</footer>\\n<div class=\"modal\">\\n<i class=\"map-x\"></i>\\n<img/>\\n</div>\\n<div class=\"overlay\"></div>\\n<script type=\"text/javascript\" src=\"http://www.gunviolencearchive.org/sites/all/themes/gva_theme/compiled/default-foot.js?our0j1\"></script>\\n</body>\\n</html>\\n'"
      ]
     },
     "execution_count": 37,
     "metadata": {},
     "output_type": "execute_result"
    }
   ],
   "source": [
    "response.content"
   ]
  },
  {
   "cell_type": "code",
   "execution_count": 38,
   "metadata": {
    "collapsed": true
   },
   "outputs": [],
   "source": [
    "reviews = {}"
   ]
  },
  {
   "cell_type": "code",
   "execution_count": 39,
   "metadata": {
    "collapsed": true
   },
   "outputs": [],
   "source": [
    "def scrape_page(page_number):\n",
    "    return requests.get('http://www.gunviolencearchive.org/reports/mass-shooting',\n",
    "                        headers = {'User-agent': 'Mozilla/5.0 (Macintosh; Intel Mac OS X 10_12) AppleWebKit/602.1.43 (KHTML, like Gecko) Version/10.0 Safari/602.1.43'},\n",
    "                        params = {'page': page_number})"
   ]
  },
  {
   "cell_type": "code",
   "execution_count": 40,
   "metadata": {
    "collapsed": true
   },
   "outputs": [],
   "source": [
    "def scrape_reviews():\n",
    "    for page_number in range(1, 10):\n",
    "        if (page_number in reviews) and (reviews[page_number]['status_code'] == 200):\n",
    "            continue\n",
    "\n",
    "        page = scrape_page(page_number)\n",
    "\n",
    "        print 'page {}: {}'.format(page_number, page.status_code)\n",
    "\n",
    "        reviews[page_number] = {\n",
    "            'status_code': page.status_code,\n",
    "            'content': page.content,\n",
    "        }\n",
    "\n",
    "        # Wait for a random interval between page requests (exponential distribution)\n",
    "        time.sleep(np.random.exponential(10))"
   ]
  },
  {
   "cell_type": "code",
   "execution_count": 41,
   "metadata": {},
   "outputs": [
    {
     "name": "stdout",
     "output_type": "stream",
     "text": [
      "page 1: 200\n",
      "page 2: 200\n",
      "page 3: 200\n",
      "page 4: 200\n",
      "page 5: 200\n",
      "page 6: 200\n",
      "page 7: 200\n",
      "page 8: 200\n",
      "page 9: 200\n"
     ]
    }
   ],
   "source": [
    "scrape_reviews()"
   ]
  },
  {
   "cell_type": "code",
   "execution_count": 42,
   "metadata": {
    "collapsed": true
   },
   "outputs": [],
   "source": [
    "for page_number in reviews:\n",
    "    if reviews[page_number]['status_code'] == 200:\n",
    "        continue\n",
    "\n",
    "    print '{}: {}'.format(page_number, reviews[page_number]['status_code'])"
   ]
  },
  {
   "cell_type": "code",
   "execution_count": 43,
   "metadata": {
    "collapsed": true
   },
   "outputs": [],
   "source": [
    "with gzip.open(os.path.join('Mass_Shooting_2017.json.gz'), 'wb') as f:\n",
    "        f.write(json.dumps(reviews, ensure_ascii = False, indent = 4, sort_keys = True))"
   ]
  },
  {
   "cell_type": "markdown",
   "metadata": {},
   "source": [
    "# Reading Scrapped Pages"
   ]
  },
  {
   "cell_type": "code",
   "execution_count": 44,
   "metadata": {
    "collapsed": true
   },
   "outputs": [],
   "source": [
    "with gzip.open(os.path.join('Mass_Shooting_2017.json.gz'), 'rb') as f:\n",
    "    pages = json.loads(f.read())"
   ]
  },
  {
   "cell_type": "code",
   "execution_count": 45,
   "metadata": {},
   "outputs": [
    {
     "data": {
      "text/plain": [
       "9"
      ]
     },
     "execution_count": 45,
     "metadata": {},
     "output_type": "execute_result"
    }
   ],
   "source": [
    "len(pages)"
   ]
  },
  {
   "cell_type": "code",
   "execution_count": 46,
   "metadata": {
    "collapsed": true
   },
   "outputs": [],
   "source": [
    "page = pages['1']['content']"
   ]
  },
  {
   "cell_type": "code",
   "execution_count": 47,
   "metadata": {},
   "outputs": [
    {
     "data": {
      "text/plain": [
       "u'<!DOCTYPE html>\\n<html xmlns:content=\"http://purl.org/rss/1.0/modules/content/\" xmlns:dc=\"http://purl.org/dc/terms/\" xmlns:foaf=\"http://xmlns.com/foaf/0.1/\" xmlns:og=\"http://ogp.me/ns#\" xmlns:rdfs=\"http://www.w3.org/2000/01/rdf-schema#\" xmlns:sioc=\"http://rdfs.org/sioc/ns#\" xmlns:sioct=\"http://rdfs.org/sioc/types#\" xmlns:skos=\"http://www.w3.org/2004/02/skos/core#\" xmlns:xsd=\"http://www.w3.org/2001/XMLSchema#\">\\n<head profile=\"http://www.w3.org/1999/xhtml/vocab\">\\n<meta name=\"viewport\" content=\"width=device-width, initial-scale=1, maximum-scale=1, user-scalable=no\">\\n<meta http-equiv=\"Content-Type\" content=\"text/html; charset=utf-8\"/>\\n<link rel=\"shortcut icon\" href=\"http://www.gunviolencearchive.org/sites/default/files/favicon.png\" type=\"image/png\"/>\\n<meta name=\"Generator\" content=\"Drupal 7 (http://drupal.org)\"/>\\n<meta property=\"og:description\" content=\"Gun Violence Archive (GVA) is a not for profit corporation formed in 2013 to provide free online public access to accurate information about gun-related violence in the United States. GVA will collect and check for accuracy, comprehensive information about gun-related violence in the U.S. and then post and disseminate it online.\"/>\\n<title>Mass Shootings | Gun Violence Archive</title>\\n<meta name=\"twitter:card\" content=\"summary_large_image\">\\n<meta name=\"twitter:site\" content=\"@GunDeaths\">\\n<meta name=\"twitter:creator\" content=\"@GunDeaths\">\\n<meta name=\"twitter:title\" content=\"Gun Violence Archive\">\\n<meta name=\"twitter:description\" content=\"Near real-time tweets of American gun violence incidents. Non-profit. Non-advocacy. Just the facts.\" <meta name=\"twitter:image\" content=\"http://www.gunviolencearchive.org/sites/all/themes/gva_theme/images/share-logo.jpg\">\\n<meta property=\"og:image\" content=\"http://www.gunviolencearchive.org/sites/all/themes/gva_theme/images/share-logo.jpg\"/>\\n<style type=\"text/css\" media=\"all\">\\n@import url(\"http://www.gunviolencearchive.org/modules/system/system.base.css?our0j1\");\\n@import url(\"http://www.gunviolencearchive.org/modules/system/system.menus.css?our0j1\");\\n@import url(\"http://www.gunviolencearchive.org/modules/system/system.messages.css?our0j1\");\\n@import url(\"http://www.gunviolencearchive.org/modules/system/system.theme.css?our0j1\");\\n</style>\\n<style type=\"text/css\" media=\"all\">\\n@import url(\"http://www.gunviolencearchive.org/sites/all/modules/contrib/date/date_api/date.css?our0j1\");\\n@import url(\"http://www.gunviolencearchive.org/modules/field/theme/field.css?our0j1\");\\n@import url(\"http://www.gunviolencearchive.org/modules/node/node.css?our0j1\");\\n@import url(\"http://www.gunviolencearchive.org/modules/user/user.css?our0j1\");\\n@import url(\"http://www.gunviolencearchive.org/sites/all/modules/contrib/ckeditor/css/ckeditor.css?our0j1\");\\n</style>\\n<style type=\"text/css\" media=\"all\">\\n@import url(\"http://www.gunviolencearchive.org/sites/all/modules/contrib/ctools/css/ctools.css?our0j1\");\\n@import url(\"http://www.gunviolencearchive.org/sites/all/themes/gva_theme/compiled/default.css?our0j1\");\\n@import url(\"http://www.gunviolencearchive.org/sites/all/themes/gva_theme/compiled/font-awesome.min.css?our0j1\");\\n</style>\\n<script type=\"text/javascript\" src=\"https://ajax.googleapis.com/ajax/libs/jquery/2.2.0/jquery.min.js?our0j1\"></script>\\n<script type=\"text/javascript\" src=\"https://ajax.googleapis.com/ajax/libs/jqueryui/1.11.4/jquery-ui.min.js?our0j1\"></script>\\n<script type=\"text/javascript\" src=\"http://www.gunviolencearchive.org/misc/jquery.once.js?v=1.2\"></script>\\n<script type=\"text/javascript\" src=\"http://www.gunviolencearchive.org/misc/drupal.js?our0j1\"></script>\\n<script type=\"text/javascript\" src=\"http://www.gunviolencearchive.org/misc/tableheader.js?our0j1\"></script>\\n<script type=\"text/javascript\" src=\"http://www.gunviolencearchive.org/sites/all/modules/contrib/google_analytics/googleanalytics.js?our0j1\"></script>\\n<script type=\"text/javascript\">\\n<!--//--><![CDATA[//><!--\\n(function(i,s,o,g,r,a,m){i[\"GoogleAnalyticsObject\"]=r;i[r]=i[r]||function(){(i[r].q=i[r].q||[]).push(arguments)},i[r].l=1*new Date();a=s.createElement(o),m=s.getElementsByTagName(o)[0];a.async=1;a.src=g;m.parentNode.insertBefore(a,m)})(window,document,\"script\",\"http://www.gunviolencearchive.org/sites/default/files/googleanalytics/analytics.js?our0j1\",\"ga\");ga(\"create\", \"UA-56234107-1\", {\"cookieDomain\":\"auto\"});ga(\"set\", \"anonymizeIp\", true);ga(\"send\", \"pageview\");\\n//--><!]]>\\n</script>\\n<script type=\"text/javascript\" src=\"http://www.gunviolencearchive.org/sites/all/themes/gva_theme/compiled/default-head.js?our0j1\"></script>\\n<script type=\"text/javascript\">\\n<!--//--><![CDATA[//><!--\\njQuery.extend(Drupal.settings, {\"basePath\":\"\\\\/\",\"pathPrefix\":\"\",\"ajaxPageState\":{\"theme\":\"gva_theme\",\"theme_token\":\"lgC26lqJxyIYIyylaOCKkw0zfdOf59Fc5RX4g3-pxF4\",\"js\":{\"sites\\\\/all\\\\/themes\\\\/gva_theme\\\\/compiled\\\\/default-foot.js\":1,\"https:\\\\/\\\\/ajax.googleapis.com\\\\/ajax\\\\/libs\\\\/jquery\\\\/2.2.0\\\\/jquery.min.js\":1,\"https:\\\\/\\\\/ajax.googleapis.com\\\\/ajax\\\\/libs\\\\/jqueryui\\\\/1.11.4\\\\/jquery-ui.min.js\":1,\"misc\\\\/jquery.once.js\":1,\"misc\\\\/drupal.js\":1,\"misc\\\\/tableheader.js\":1,\"sites\\\\/all\\\\/modules\\\\/contrib\\\\/google_analytics\\\\/googleanalytics.js\":1,\"0\":1,\"sites\\\\/all\\\\/themes\\\\/gva_theme\\\\/compiled\\\\/default-head.js\":1},\"css\":{\"modules\\\\/system\\\\/system.base.css\":1,\"modules\\\\/system\\\\/system.menus.css\":1,\"modules\\\\/system\\\\/system.messages.css\":1,\"modules\\\\/system\\\\/system.theme.css\":1,\"sites\\\\/all\\\\/modules\\\\/contrib\\\\/date\\\\/date_api\\\\/date.css\":1,\"modules\\\\/field\\\\/theme\\\\/field.css\":1,\"modules\\\\/node\\\\/node.css\":1,\"modules\\\\/user\\\\/user.css\":1,\"sites\\\\/all\\\\/modules\\\\/contrib\\\\/ckeditor\\\\/css\\\\/ckeditor.css\":1,\"sites\\\\/all\\\\/modules\\\\/contrib\\\\/ctools\\\\/css\\\\/ctools.css\":1,\"sites\\\\/all\\\\/themes\\\\/gva_theme\\\\/compiled\\\\/default.css\":1,\"sites\\\\/all\\\\/themes\\\\/gva_theme\\\\/compiled\\\\/font-awesome.min.css\":1}},\"googleanalytics\":{\"trackOutbound\":1,\"trackMailto\":1,\"trackDownload\":1,\"trackDownloadExtensions\":\"7z|aac|arc|arj|asf|asx|avi|bin|csv|doc(x|m)?|dot(x|m)?|exe|flv|gif|gz|gzip|hqx|jar|jpe?g|js|mp(2|3|4|e?g)|mov(ie)?|msi|msp|pdf|phps|png|ppt(x|m)?|pot(x|m)?|pps(x|m)?|ppam|sld(x|m)?|thmx|qtm?|ra(m|r)?|sea|sit|tar|tgz|torrent|txt|wav|wma|wmv|wpd|xls(x|m|b)?|xlt(x|m)|xlam|xml|z|zip\"}});\\n//--><!]]>\\n</script>\\n<script type=\"text/javascript\">\\n\\t\\t\\t<!--//--><![CDATA[//><!--\\n\\t\\t\\tvar switchTo5x = true;\\n\\t\\t\\t//--><!]]>\\n\\t\\t</script>\\n<script async type=\"text/javascript\" src=\"http://w.sharethis.com/button/buttons.js\"></script>\\n<script type=\"text/javascript\">\\n\\t\\t\\tstLight.options({\\n\\t\\t\\t\\tpublisher:\\'013ed8d0-f9c4-4049-9083-980a02c6cedc\\',\\n\\t\\t\\t\\tdoNotHash: true,\\n\\t\\t\\t\\tversion: \\'5x\\',\\n\\t\\t\\t\\tonhover: false\\n\\t\\t\\t});\\n\\t\\t</script>\\n</head>\\n<body class=\"html not-front not-logged-in no-sidebars page-query page-query-0484b316-f676-44bc-97ed-ecefeabae077\">\\n<header>\\n<div class=\"row\">\\n<div class=\"large-12 columns\">\\n<div id=\"header-logo\">\\n<a href=\"/\">\\n<img class=\"branding\" src=\"http://www.gunviolencearchive.org/sites/default/files/logo.png\" alt=\"Home\"/>\\n</a>\\n</div>\\n<nav id=\"header-nav\">\\n<div class=\"wrapper\">\\n<div class=\"region region-header\">\\n<div id=\"block-gva-general-header-new-entry\" class=\"block block-gva-general\">\\n</div>\\n<div id=\"block-gva-general-header-login\" class=\"block block-gva-general\">\\n<a href=\"/user/login\"><strong>Login</strong></a></div>\\n<div id=\"block-gva-general-header-contact-us\" class=\"block block-gva-general\">\\n<a href=\"/contact\">Contact Us</a></div>\\n<div id=\"block-gva-general-header-search-button\" class=\"block block-gva-general\">\\n<div class=\"search\"><a href=\"/query\"><img typeof=\"foaf:Image\" src=\"http://www.gunviolencearchive.org/sites/all/themes/gva_theme/images/icons/search.png\" alt=\"Search\"/><span>Search Database</span></a></div>\\n</div>\\n<div id=\"block-gva-general-header-social\" class=\"block block-gva-general\">\\n<div class=\"item-list\"><ul class=\"social medium-text-right small-text-left\"><li class=\"first\"><a href=\"http://www.facebook.com/gunviolencearchive\" class=\"facebook\" target=\"_blank\">Facebook</a></li>\\n<li class=\"last\"><a href=\"http://twitter.com/gundeaths\" class=\"twitter\" target=\"_blank\">Twitter</a></li>\\n</ul></div></div>\\n</div>\\n</div>\\n</nav>\\n</div>\\n</div>\\n</header>\\n<nav class=\"top-bar\" role=\"navigation\">\\n<div id=\"main-nav-mobile-btn\" class=\"top-bar-title hide-for-large\">\\n<div class=\"mobile-btn\">\\n<span data-responsive-toggle=\"main-nav\" data-hide-for=\"large\">\\n<button class=\"menu-icon light\" type=\"button\" data-toggle>MENU</button>\\n</span>\\n</div>\\n</div>\\n<div id=\"main-nav\">\\n<div class=\"wrapper\">\\n<div class=\"navigation\">\\n<div class=\"region region-navigation\">\\n<div id=\"block-gva-general-gva-navigation\" class=\"block block-gva-general\">\\n<ul class=\"inline-list menu\"><li class=\"first leaf depth-1\"><a href=\"/\">Home</a></li>\\n<li class=\"leaf depth-1\"><a href=\"/charts-and-maps\" title>Charts &amp; Maps</a></li>\\n<li class=\"leaf depth-1\"><a href=\"/last-72-hours\" title>Last 72 Hours</a></li>\\n<li class=\"leaf depth-1\"><a href=\"/reports\" title>Reports</a></li>\\n<li class=\"leaf depth-1\"><a href=\"/analysis-opinion\" title>Analysis/Opinion</a></li>\\n<li class=\"expanded has-children depth-1 has-submenu\"><a href=\"/about\">About Us</a><ul class=\"submenu\"><li class=\"first last leaf depth-2\"><a href=\"/methodology\">Methodology</a></li>\\n</ul>\\n</li>\\n<li class=\"leaf depth-1\"><a href=\"/past-tolls\" title>Past Years</a></li>\\n<li class=\"last leaf depth-1\"><a href=\"/congress\" title>Congressional Reports</a></li>\\n</ul>\\n</div>\\n</div>\\n</div>\\n</div>\\n</div>\\n</nav>\\n<section id=\"content\">\\n<div class=\"row\">\\n<div class=\"main-content\">\\n<div class=\"small-12 columns\">\\n<h1 class=\"border-background\">\\n<span>Mass Shootings</span>\\n</h1>\\n<div class=\"links-container\">\\n<h2 class=\"element-invisible\">Primary tabs</h2><ul class=\"align-right link-list tabs-primary\"><li class=\"active\"><a href=\"/reports/mass-shooting\" class=\"button active\">View Results<span class=\"element-invisible\">(active tab)</span></a></li>\\n<li><a href=\"/query/0484b316-f676-44bc-97ed-ecefeabae077/export-csv\" class=\"button\">Export as CSV</a></li>\\n<li><a href=\"/query/0484b316-f676-44bc-97ed-ecefeabae077/map\" class=\"button\">Interactive Map</a></li>\\n</ul> </div>\\n<div class=\"region region-content\">\\n<div id=\"block-system-main\" class=\"block block-system\">\\n<form action=\"/reports/mass-shooting?page=1\" method=\"post\" id=\"gva-entry-results-limiter\" accept-charset=\"UTF-8\"><div><p><p>Thanks for your interest in our statistics! Unfortunately, we must limit result sets for the general queries.</p>\\n</p><input type=\"hidden\" name=\"form_build_id\" value=\"form-pDRlsJYpLWB74WLLZa-XjsdBQFeQ6UTtr_HbDbAczyI\"/>\\n<input type=\"hidden\" name=\"form_id\" value=\"gva_entry_results_limiter\"/>\\n</div></form><section class=\"row\"><div class=\"small-12 columns\"><table class=\"responsive sticky-enabled\">\\n<thead><tr><th column=\"Base.IncidentDate\" class=\"active\"><a href=\"/reports/mass-shooting?page=1&amp;sort=asc&amp;order=Incident%20Date\" title=\"sort by Incident Date\" class=\"active\">Incident Date<img typeof=\"foaf:Image\" src=\"http://www.gunviolencearchive.org/misc/arrow-asc.png\" width=\"13\" height=\"13\" alt=\"sort ascending\" title=\"sort ascending\"/></a></th><th column=\"Location.State\"><a href=\"/reports/mass-shooting?page=1&amp;sort=asc&amp;order=State\" title=\"sort by State\" class=\"active\">State</a></th><th column=\"Location.CityOrCounty\"><a href=\"/reports/mass-shooting?page=1&amp;sort=asc&amp;order=City%20Or%20County\" title=\"sort by City Or County\" class=\"active\">City Or County</a></th><th column=\"Location.Address\"><a href=\"/reports/mass-shooting?page=1&amp;sort=asc&amp;order=Address\" title=\"sort by Address\" class=\"active\">Address</a></th><th column=\"Counts.NumberOfParticipantsKilled\"># Killed</th><th column=\"Counts.NumberOfParticipantsInjured\"># Injured</th><th column=\"Base.Operations\">Operations</th> </tr></thead>\\n<tbody>\\n<tr class=\"odd\"><td>July 27, 2017</td><td>Illinois</td><td>Chicago</td><td>2000 block of E 71st St</td><td>1</td><td>4</td><td><ul class=\"links inline links-new-lines\"><li class=\"0 first\"><a href=\"/incident/900387\">View Incident</a></li>\\n<li class=\"1 last\"><a href=\"http://homicides.suntimes.com/2017/07/31/18-year-old-zaire-benjamin-killed-four-others-wounded-when-gunman-in-minivan-opens-fire-in-south-shore/\" target=\"_blank\">View Source</a></li>\\n</ul></td> </tr>\\n<tr class=\"even\"><td>July 26, 2017</td><td>North Carolina</td><td>High Point</td><td>2111 E. Green Drive</td><td>1</td><td>6</td><td><ul class=\"links inline links-new-lines\"><li class=\"0 first\"><a href=\"/incident/898631\">View Incident</a></li>\\n<li class=\"1 last\"><a href=\"http://www.wfmynews2.com/news/local/man-shot-after-memorial-service-in-high-point-dies/462218769\" target=\"_blank\">View Source</a></li>\\n</ul></td> </tr>\\n<tr class=\"odd\"><td>July 23, 2017</td><td>Illinois</td><td>Chicago</td><td>1500 block of East 82nd St</td><td>1</td><td>3</td><td><ul class=\"links inline links-new-lines\"><li class=\"0 first\"><a href=\"/incident/896444\">View Incident</a></li>\\n<li class=\"1 last\"><a href=\"http://chicago.suntimes.com/news/man-shot-in-avalon-park-4/\" target=\"_blank\">View Source</a></li>\\n</ul></td> </tr>\\n<tr class=\"even\"><td>July 23, 2017</td><td>Louisiana</td><td>Baton Rouge</td><td>10360 Ave H</td><td>0</td><td>4</td><td><ul class=\"links inline links-new-lines\"><li class=\"0 first\"><a href=\"/incident/896889\">View Incident</a></li>\\n<li class=\"1 last\"><a href=\"http://www.wafb.com/story/35951162/4-injured-in-shooting-on-avenue-h\" target=\"_blank\">View Source</a></li>\\n</ul></td> </tr>\\n<tr class=\"odd\"><td>July 22, 2017</td><td>Ohio</td><td>Cincinnati</td><td>130 E Clifton Ave</td><td>0</td><td>5</td><td><ul class=\"links inline links-new-lines\"><li class=\"0 first\"><a href=\"/incident/896149\">View Incident</a></li>\\n<li class=\"1 last\"><a href=\"http://www.wlwt.com/article/arrest-made-in-shooting-that-injured-5/10401575\" target=\"_blank\">View Source</a></li>\\n</ul></td> </tr>\\n<tr class=\"even\"><td>July 19, 2017</td><td>Virginia</td><td>Richmond</td><td>2300 block of Bethel St</td><td>0</td><td>5</td><td><ul class=\"links inline links-new-lines\"><li class=\"0 first\"><a href=\"/incident/893690\">View Incident</a></li>\\n<li class=\"1 last\"><a href=\"http://www.nbc12.com/story/35918288/5-in-hospital-after-drive-by-shooting-in-richmonds-east-end\" target=\"_blank\">View Source</a></li>\\n</ul></td> </tr>\\n<tr class=\"odd\"><td>July 19, 2017</td><td>California</td><td>Los Angeles</td><td>Imperial Hwy and Broadway</td><td>1</td><td>3</td><td><ul class=\"links inline links-new-lines\"><li class=\"0 first\"><a href=\"/incident/894504\">View Incident</a></li>\\n<li class=\"1 last\"><a href=\"http://homicide.latimes.com/post/siosifa-maama/\" target=\"_blank\">View Source</a></li>\\n</ul></td> </tr>\\n<tr class=\"even\"><td>July 18, 2017</td><td>New Jersey</td><td>Trenton</td><td>Hewitt St and Division St</td><td>1</td><td>3</td><td><ul class=\"links inline links-new-lines\"><li class=\"0 first\"><a href=\"/incident/893712\">View Incident</a></li>\\n<li class=\"1 last\"><a href=\"http://www.nj.com/mercer/index.ssf/2017/07/15-year-old_wounded_in_trenton_shooting_dies.html#incart_river_index\" target=\"_blank\">View Source</a></li>\\n</ul></td> </tr>\\n<tr class=\"odd\"><td>July 18, 2017</td><td>Wisconsin</td><td>Milwaukee</td><td>3000 Block of N 39th St</td><td>0</td><td>4</td><td><ul class=\"links inline links-new-lines\"><li class=\"0 first\"><a href=\"/incident/893726\">View Incident</a></li>\\n<li class=\"1 last\"><a href=\"http://www.jsonline.com/story/news/2017/07/19/girls-ages-5-and-9-two-men-shot-milwaukees-north-side/490683001/\" target=\"_blank\">View Source</a></li>\\n</ul></td> </tr>\\n<tr class=\"even\"><td>July 18, 2017</td><td>Arizona</td><td>El Mirage</td><td>NW Grand Ave and W Thunderbird Rd</td><td>0</td><td>4</td><td><ul class=\"links inline links-new-lines\"><li class=\"0 first\"><a href=\"/incident/893752\">View Incident</a></li>\\n<li class=\"1 last\"><a href=\"http://www.12news.com/news/local/valley/gunman-on-the-loose-after-4-people-shot-in-el-mirage/457777746\" target=\"_blank\">View Source</a></li>\\n</ul></td> </tr>\\n<tr class=\"odd\"><td>July 15, 2017</td><td>Pennsylvania</td><td>Philadelphia</td><td>21st and Fitzwater</td><td>1</td><td>3</td><td><ul class=\"links inline links-new-lines\"><li class=\"0 first\"><a href=\"/incident/891291\">View Incident</a></li>\\n<li class=\"1 last\"><a href=\"http://6abc.com/news/2-dead-3-injured-in-south-philadelphia-shootings/2222438/\" target=\"_blank\">View Source</a></li>\\n</ul></td> </tr>\\n<tr class=\"even\"><td>July 15, 2017</td><td>Illinois</td><td>Chicago</td><td>12200 block of S Throop St</td><td>0</td><td>4</td><td><ul class=\"links inline links-new-lines\"><li class=\"0 first\"><a href=\"/incident/891092\">View Incident</a></li>\\n<li class=\"1 last\"><a href=\"http://www.nbcchicago.com/news/local/chicago-weekend-gun-violence-two-boys-among-seven-killed-434711483.html\" target=\"_blank\">View Source</a></li>\\n</ul></td> </tr>\\n<tr class=\"odd\"><td>July 9, 2017</td><td>Virginia</td><td>Lawrenceville</td><td>500 block Sturgeon Rd</td><td>0</td><td>7</td><td><ul class=\"links inline links-new-lines\"><li class=\"0 first\"><a href=\"/incident/886564\">View Incident</a></li>\\n<li class=\"1 last\"><a href=\"http://wric.com/2017/07/09/7-injured-in-brunswick-county-shooting/\" target=\"_blank\">View Source</a></li>\\n</ul></td> </tr>\\n<tr class=\"even\"><td>July 8, 2017</td><td>Illinois</td><td>Alton</td><td>700 block of Oakwood</td><td>0</td><td>4</td><td><ul class=\"links inline links-new-lines\"><li class=\"0 first\"><a href=\"/incident/886002\">View Incident</a></li>\\n<li class=\"1 last\"><a href=\"https://www.riverbender.com/articles/details/breaking-alton-police-department-makes-arrests-in-oakwood-shootings-22120.cfm\" target=\"_blank\">View Source</a></li>\\n</ul></td> </tr>\\n<tr class=\"odd\"><td>July 8, 2017</td><td>Ohio</td><td>Cincinnati</td><td>9917 Capstan Dr</td><td>1</td><td>8</td><td><ul class=\"links inline links-new-lines\"><li class=\"0 first\"><a href=\"/incident/886220\">View Incident</a></li>\\n<li class=\"1 last\"><a href=\"http://www.wlwt.com/article/family-searches-world-to-treat-daughter-s-brain-tumor/12003504\" target=\"_blank\">View Source</a></li>\\n</ul></td> </tr>\\n<tr class=\"even\"><td>July 6, 2017</td><td>Mississippi</td><td>Meridian</td><td>Eighth Ave</td><td>0</td><td>4</td><td><ul class=\"links inline links-new-lines\"><li class=\"0 first\"><a href=\"/incident/884764\">View Incident</a></li>\\n<li class=\"1 last\"><a href=\"http://www.meridianstar.com/news/local_news/meridian-quadruple-drive-by-shooting-an-act-of-gang-retaliation/article_90f97ead-205b-58e6-8302-48b71a7873ad.html\" target=\"_blank\">View Source</a></li>\\n</ul></td> </tr>\\n<tr class=\"odd\"><td>July 5, 2017</td><td>Georgia</td><td>Savannah</td><td>Jefferson Street and West St. Julian Street</td><td>0</td><td>4</td><td><ul class=\"links inline links-new-lines\"><li class=\"0 first\"><a href=\"/incident/883052\">View Incident</a></li>\\n<li class=\"1 last\"><a href=\"http://scmpd.org/suspect-arrested-for-downtown-shooting-crash/\" target=\"_blank\">View Source</a></li>\\n</ul></td> </tr>\\n<tr class=\"even\"><td>July 5, 2017</td><td>Illinois</td><td>Chicago (Roseland)</td><td>11000 block of S Eberhart</td><td>2</td><td>2</td><td><ul class=\"links inline links-new-lines\"><li class=\"0 first\"><a href=\"/incident/883282\">View Incident</a></li>\\n<li class=\"1 last\"><a href=\"http://homicides.suntimes.com/2017/07/07/neighbor-fatal-shooting-of-derwin-moore-and-maurice-willis-in-roseland-are-so-normal-in-the-black-community/\" target=\"_blank\">View Source</a></li>\\n</ul></td> </tr>\\n<tr class=\"odd\"><td>July 5, 2017</td><td>Maine</td><td>Madison</td><td>300 block of Russell Rd</td><td>4</td><td>1</td><td><ul class=\"links inline links-new-lines\"><li class=\"0 first\"><a href=\"/incident/883058\">View Incident</a></li>\\n<li class=\"1 last\"><a href=\"http://www.gunviolencearchive.org/incident/883058/edit\" target=\"_blank\">View Source</a></li>\\n</ul></td> </tr>\\n<tr class=\"even\"><td>July 4, 2017</td><td>Florida</td><td>Orlando (Pine Castle)</td><td>501 W Lancaster Rd</td><td>0</td><td>4</td><td><ul class=\"links inline links-new-lines\"><li class=\"0 first\"><a href=\"/incident/882665\">View Incident</a></li>\\n<li class=\"1 last\"><a href=\"http://www.clickorlando.com/news/man-shot-multiple-times-in-pine-castle\" target=\"_blank\">View Source</a></li>\\n</ul></td> </tr>\\n<tr class=\"odd\"><td>July 4, 2017</td><td>Virginia</td><td>Hampton</td><td>500 block of Patterson Ave</td><td>1</td><td>4</td><td><ul class=\"links inline links-new-lines\"><li class=\"0 first\"><a href=\"/incident/882321\">View Incident</a></li>\\n<li class=\"1 last\"><a href=\"http://www.wvva.com/story/35809180/police-1-dead-4-injured-in-hampton-shooting\" target=\"_blank\">View Source</a></li>\\n</ul></td> </tr>\\n<tr class=\"even\"><td>July 4, 2017</td><td>North Carolina</td><td>Raleigh</td><td>105 E South St</td><td>1</td><td>3</td><td><ul class=\"links inline links-new-lines\"><li class=\"0 first\"><a href=\"/incident/883489\">View Incident</a></li>\\n<li class=\"1 last\"><a href=\"http://wncn.com/2017/07/06/2nd-teen-now-charged-with-murder-in-july-4-shooting-in-raleigh/\" target=\"_blank\">View Source</a></li>\\n</ul></td> </tr>\\n<tr class=\"odd\"><td>July 3, 2017</td><td>Michigan</td><td>Pontiac</td><td>50 block of Thorpe St</td><td>1</td><td>3</td><td><ul class=\"links inline links-new-lines\"><li class=\"0 first\"><a href=\"/incident/881921\">View Incident</a></li>\\n<li class=\"1 last\"><a href=\"http://www.wxyz.com/news/man-charged-in-quadruple-shooting-in-pontiac-that-left-one-dead\" target=\"_blank\">View Source</a></li>\\n</ul></td> </tr>\\n<tr class=\"even\"><td>July 3, 2017</td><td>Alabama</td><td>Prattville</td><td>112 Highway 82 Byp E</td><td>3</td><td>1</td><td><ul class=\"links inline links-new-lines\"><li class=\"0 first\"><a href=\"/incident/882422\">View Incident</a></li>\\n<li class=\"1 last\"><a href=\"http://www.wsfa.com/story/35847874/watch-live-prattville-triple-homicide-news-conference-at-11-am\" target=\"_blank\">View Source</a></li>\\n</ul></td> </tr>\\n<tr class=\"odd\"><td>July 2, 2017</td><td>New Jersey</td><td>Jersey City</td><td>Wilkinson Avenue</td><td>0</td><td>4</td><td><ul class=\"links inline links-new-lines\"><li class=\"0 first\"><a href=\"/incident/881700\">View Incident</a></li>\\n<li class=\"1 last\"><a href=\"http://www.nj.com/hudson/index.ssf/2017/07/teen_remains_hospitalized_after_4_people_shot_sund.html#incart_river_index\" target=\"_blank\">View Source</a></li>\\n</ul></td> </tr>\\n</tbody>\\n</table>\\n</div></section><h2 class=\"element-invisible\">Pages</h2><div class=\"item-list\"><ul class=\"pager\"><li class=\"pager-first first\"><a title=\"Go to first page\" href=\"/reports/mass-shooting\">\\xab first</a></li>\\n<li class=\"pager-previous\"><a title=\"Go to previous page\" href=\"/reports/mass-shooting\">\\u2039 previous</a></li>\\n<li class=\"pager-item\"><a title=\"Go to page 1\" href=\"/reports/mass-shooting\">1</a></li>\\n<li class=\"pager-current\">2</li>\\n<li class=\"pager-item\"><a title=\"Go to page 3\" href=\"/reports/mass-shooting?page=2\">3</a></li>\\n<li class=\"pager-item\"><a title=\"Go to page 4\" href=\"/reports/mass-shooting?page=3\">4</a></li>\\n<li class=\"pager-item\"><a title=\"Go to page 5\" href=\"/reports/mass-shooting?page=4\">5</a></li>\\n<li class=\"pager-item\"><a title=\"Go to page 6\" href=\"/reports/mass-shooting?page=5\">6</a></li>\\n<li class=\"pager-item\"><a title=\"Go to page 7\" href=\"/reports/mass-shooting?page=6\">7</a></li>\\n<li class=\"pager-item\"><a title=\"Go to page 8\" href=\"/reports/mass-shooting?page=7\">8</a></li>\\n<li class=\"pager-item\"><a title=\"Go to page 9\" href=\"/reports/mass-shooting?page=8\">9</a></li>\\n<li class=\"pager-next\"><a title=\"Go to next page\" href=\"/reports/mass-shooting?page=2\">next \\u203a</a></li>\\n<li class=\"pager-last last\"><a title=\"Go to last page\" href=\"/reports/mass-shooting?page=9\">last \\xbb</a></li>\\n</ul></div></div>\\n</div>\\n</div>\\n</div>\\n</div>\\n</section>\\n<footer>\\n<div class=\"row\">\\n<div class=\"large-4 medium-4 medium-uncentered small-centered columns\">\\n<a class=\"clearfix display-block\" href=\"/\">\\n<img class=\"branding\" src=\"http://www.gunviolencearchive.org/sites/default/files/logo.png\" alt=\"Gun Violence Archive\"/>\\n</a>\\n<div class=\"region region-footer-left\">\\n<div id=\"block-gva-general-footer-address\" class=\"block block-gva-general\">\\n<div class=\"address-items row\"><div class=\"small-6 columns\"><p>1718 M Street, N.W. PMB #126<br/>\\nWashington, DC 20036-4504<br/>\\n<a href=\"/cdn-cgi/l/email-protection#aac3c4dbdfc3d8d3eacddccb84dfd984c9c5c7\"><span class=\"__cf_email__\" data-cfemail=\"deb7b0afabb7aca79eb9a8bff0abadf0bdb1b3\">[email&#160;protected]</span><script data-cfhash=\"f9e31\" type=\"text/javascript\">/* <![CDATA[ */!function(t,e,r,n,c,a,p){try{t=document.currentScript||function(){for(t=document.getElementsByTagName(\\'script\\'),e=t.length;e--;)if(t[e].getAttribute(\\'data-cfhash\\'))return t[e]}();if(t&&(c=t.previousSibling)){p=t.parentNode;if(a=c.getAttribute(\\'data-cfemail\\')){for(e=\\'\\',r=\\'0x\\'+a.substr(0,2)|0,n=2;a.length-n;n+=2)e+=\\'%\\'+(\\'0\\'+(\\'0x\\'+a.substr(n,2)^r).toString(16)).slice(-2);p.replaceChild(document.createTextNode(decodeURIComponent(e)),c)}p.removeChild(t)}}catch(u){}}()/* ]]> */</script></a></p>\\n</div>\\n<div class=\"small-6 columns\"><p>\\xa9 Copyright 2017<br/>\\nGun Violence Archive<br/>\\nAll rights reserved.</p>\\n</div>\\n</div></div>\\n</div>\\n<div class=\"clearfix\"></div>\\n</div>\\n<div class=\"large-4 medium-5 medium-uncentered small-centered columns center-column\">\\n<div class=\"region region-footer-center\">\\n<div id=\"block-gva-general-footer-navigation\" class=\"block block-gva-general\">\\n<div class=\"columns-container\"><ul class=\"column column-0\"><li class=\"first leaf depth-1\"><a href=\"/\">Home</a></li>\\n<li class=\"leaf depth-1\"><a href=\"/charts-and-maps\" title>Charts and Maps</a></li>\\n<li class=\"leaf depth-1\"><a href=\"/last-72-hours\" title>Last 72 Hours</a></li>\\n<li class=\"leaf depth-1\"><a href=\"/reports\" title>Reports</a></li>\\n<li class=\"leaf depth-1\"><a href=\"/analysis-opinion\" title>Analysis/Opinion</a></li>\\n</ul>\\n<ul class=\"column column-1\"><li class=\"leaf depth-1\"><a href=\"/methodology\" title>Methodology</a></li>\\n<li class=\"leaf depth-1\"><a href=\"/about\" title>About Us</a></li>\\n<li class=\"leaf depth-1\"><a href=\"/past-tolls\" title>Past Years</a></li>\\n<li class=\"leaf depth-1\"><a href=\"/congress\" title>Congressional-Reports</a></li>\\n<li class=\"last leaf depth-1\"><a href=\"/user/login\">Log In</a></li>\\n</ul>\\n</div></div>\\n</div>\\n<div class=\"clearfix\"></div>\\n</div>\\n<div class=\"large-4 medium-3 medium-uncentered small-centered columns\">\\n<div class=\"region region-footer-right\">\\n<div id=\"block-gva-general-footer-social\" class=\"block block-gva-general\">\\n<div class=\"item-list\"><ul class=\"social medium-text-right small-text-left\"><li class=\"first\"><a href=\"http://www.facebook.com/gunviolencearchive\" class=\"facebook\" target=\"_blank\">Facebook</a></li>\\n<li class=\"last\"><a href=\"http://twitter.com/gundeaths\" class=\"twitter\" target=\"_blank\">Twitter</a></li>\\n</ul></div></div>\\n</div>\\n</div>\\n</div>\\n</footer>\\n<div class=\"modal\">\\n<i class=\"map-x\"></i>\\n<img/>\\n</div>\\n<div class=\"overlay\"></div>\\n<script type=\"text/javascript\" src=\"http://www.gunviolencearchive.org/sites/all/themes/gva_theme/compiled/default-foot.js?our0j1\"></script>\\n</body>\\n</html>\\n'"
      ]
     },
     "execution_count": 47,
     "metadata": {},
     "output_type": "execute_result"
    }
   ],
   "source": [
    "page"
   ]
  },
  {
   "cell_type": "code",
   "execution_count": 48,
   "metadata": {
    "collapsed": true
   },
   "outputs": [],
   "source": [
    "document = lxml.html.fromstring(page)"
   ]
  },
  {
   "cell_type": "code",
   "execution_count": 49,
   "metadata": {},
   "outputs": [
    {
     "data": {
      "text/plain": [
       "lxml.html.HtmlElement"
      ]
     },
     "execution_count": 49,
     "metadata": {},
     "output_type": "execute_result"
    }
   ],
   "source": [
    "type(document)"
   ]
  },
  {
   "cell_type": "code",
   "execution_count": 50,
   "metadata": {
    "collapsed": true
   },
   "outputs": [],
   "source": [
    "reviews_class = document.xpath('//tr[@class=\"Odd\"]')"
   ]
  },
  {
   "cell_type": "code",
   "execution_count": 51,
   "metadata": {},
   "outputs": [
    {
     "data": {
      "text/plain": [
       "[]"
      ]
     },
     "execution_count": 51,
     "metadata": {},
     "output_type": "execute_result"
    }
   ],
   "source": [
    "reviews_class"
   ]
  },
  {
   "cell_type": "code",
   "execution_count": 52,
   "metadata": {
    "collapsed": true
   },
   "outputs": [],
   "source": [
    "reviews_row = document.xpath('//tr[@td]')"
   ]
  },
  {
   "cell_type": "raw",
   "metadata": {},
   "source": [
    "review_row"
   ]
  },
  {
   "cell_type": "code",
   "execution_count": 53,
   "metadata": {},
   "outputs": [
    {
     "data": {
      "text/plain": [
       "[]"
      ]
     },
     "execution_count": 53,
     "metadata": {},
     "output_type": "execute_result"
    }
   ],
   "source": [
    "reviews_col = document.xpath('//td[@style]')\n",
    "reviews_col"
   ]
  },
  {
   "cell_type": "code",
   "execution_count": 12,
   "metadata": {
    "collapsed": true
   },
   "outputs": [],
   "source": [
    "reviews_table = document.xpath('//*[@id=\"block-system-main\"]/section/div')"
   ]
  },
  {
   "cell_type": "code",
   "execution_count": 13,
   "metadata": {},
   "outputs": [
    {
     "ename": "SyntaxError",
     "evalue": "invalid syntax (<ipython-input-13-02120bfafded>, line 1)",
     "output_type": "error",
     "traceback": [
      "\u001b[0;36m  File \u001b[0;32m\"<ipython-input-13-02120bfafded>\"\u001b[0;36m, line \u001b[0;32m1\u001b[0m\n\u001b[0;31m    (/*[@id=\"block-system-main\"]/section/div/div/div[1]/table)\u001b[0m\n\u001b[0m     ^\u001b[0m\n\u001b[0;31mSyntaxError\u001b[0m\u001b[0;31m:\u001b[0m invalid syntax\n"
     ]
    }
   ],
   "source": [
    "//*[@id=\"block-system-main\"]/section/div/div/div[1]/table"
   ]
  },
  {
   "cell_type": "code",
   "execution_count": 15,
   "metadata": {
    "collapsed": true
   },
   "outputs": [],
   "source": [
    "reviews_table = document.xpath('//*[@column=\"Base.IncidentDate\"]/div')"
   ]
  },
  {
   "cell_type": "code",
   "execution_count": 16,
   "metadata": {},
   "outputs": [
    {
     "data": {
      "text/plain": [
       "[]"
      ]
     },
     "execution_count": 16,
     "metadata": {},
     "output_type": "execute_result"
    }
   ],
   "source": [
    "reviews_table"
   ]
  },
  {
   "cell_type": "code",
   "execution_count": 20,
   "metadata": {
    "collapsed": true
   },
   "outputs": [],
   "source": [
    "import lxml.html as LH"
   ]
  },
  {
   "cell_type": "code",
   "execution_count": 30,
   "metadata": {
    "collapsed": true
   },
   "outputs": [],
   "source": [
    "root = LH.fromstring(response.content)\n",
    "\n",
    "for table in root.xpath('//table[@class=\"sticky-header\"]'):\n",
    "    header = [text(th) for th in table.xpath('//th')]        # 1\n",
    "    data = [[text(td) for td in tr.xpath('td')]  \n",
    "            for tr in table.xpath('//tr')]                   # 2\n",
    "    data = [row for row in data if len(row)==len(header)]    # 3 \n",
    "    data = pd.DataFrame(data, columns=header)                # 4\n",
    "    print(data)"
   ]
  },
  {
   "cell_type": "markdown",
   "metadata": {},
   "source": [
    "## process scraped data with beautisoup\n",
    "https://chrisalbon.com/python/beautiful_soup_scrape_table.html"
   ]
  },
  {
   "cell_type": "code",
   "execution_count": 57,
   "metadata": {
    "collapsed": true
   },
   "outputs": [],
   "source": [
    "import requests\n",
    "from bs4 import BeautifulSoup\n",
    "import pandas as pd\n"
   ]
  },
  {
   "cell_type": "code",
   "execution_count": 58,
   "metadata": {
    "collapsed": true
   },
   "outputs": [],
   "source": [
    "# Create a variable with the URL\n",
    "url = 'http://www.gunviolencearchive.org/reports/mass-shooting'\n",
    "\n",
    "# Scrape the HTML at the url\n",
    "r = requests.get(url)\n",
    "\n",
    "# Turn the HTML into a Beautiful Soup object\n",
    "soup = BeautifulSoup(r.text, 'lxml')\n"
   ]
  },
  {
   "cell_type": "code",
   "execution_count": 59,
   "metadata": {
    "collapsed": true
   },
   "outputs": [],
   "source": [
    "Date = []\n",
    "State = []\n",
    "City = []\n",
    "Address = []\n",
    "Number_Killed = []\n",
    "Number_Injured = []\n",
    "Operation = []"
   ]
  },
  {
   "cell_type": "code",
   "execution_count": 60,
   "metadata": {},
   "outputs": [
    {
     "ename": "AttributeError",
     "evalue": "'NoneType' object has no attribute 'find_all'",
     "output_type": "error",
     "traceback": [
      "\u001b[0;31m---------------------------------------------------------------------------\u001b[0m",
      "\u001b[0;31mAttributeError\u001b[0m                            Traceback (most recent call last)",
      "\u001b[0;32m<ipython-input-60-768f8dc299dc>\u001b[0m in \u001b[0;36m<module>\u001b[0;34m()\u001b[0m\n\u001b[1;32m      4\u001b[0m \u001b[0;34m\u001b[0m\u001b[0m\n\u001b[1;32m      5\u001b[0m \u001b[0;31m# Find all the <tr> tag pairs, skip the first one, then for each.\u001b[0m\u001b[0;34m\u001b[0m\u001b[0;34m\u001b[0m\u001b[0m\n\u001b[0;32m----> 6\u001b[0;31m \u001b[0;32mfor\u001b[0m \u001b[0mrow\u001b[0m \u001b[0;32min\u001b[0m \u001b[0mtable\u001b[0m\u001b[0;34m.\u001b[0m\u001b[0mfind_all\u001b[0m\u001b[0;34m(\u001b[0m\u001b[0;34m'tr'\u001b[0m\u001b[0;34m)\u001b[0m\u001b[0;34m[\u001b[0m\u001b[0;36m1\u001b[0m\u001b[0;34m:\u001b[0m\u001b[0;34m]\u001b[0m\u001b[0;34m:\u001b[0m\u001b[0;34m\u001b[0m\u001b[0m\n\u001b[0m\u001b[1;32m      7\u001b[0m     \u001b[0;31m# Create a variable of all the <td> tag pairs in each <tr> tag pair,\u001b[0m\u001b[0;34m\u001b[0m\u001b[0;34m\u001b[0m\u001b[0m\n\u001b[1;32m      8\u001b[0m     \u001b[0mcol\u001b[0m \u001b[0;34m=\u001b[0m \u001b[0mrow\u001b[0m\u001b[0;34m.\u001b[0m\u001b[0mfind_all\u001b[0m\u001b[0;34m(\u001b[0m\u001b[0;34m'td'\u001b[0m\u001b[0;34m)\u001b[0m\u001b[0;34m\u001b[0m\u001b[0m\n",
      "\u001b[0;31mAttributeError\u001b[0m: 'NoneType' object has no attribute 'find_all'"
     ]
    }
   ],
   "source": [
    "\n",
    "# Create an object of the first object that is class=dataframe\n",
    "table = soup.find(class_='table-wrapper')\n",
    "\n",
    "# Find all the <tr> tag pairs, skip the first one, then for each.\n",
    "for row in table.find_all('tr')[1:]:\n",
    "    # Create a variable of all the <td> tag pairs in each <tr> tag pair,\n",
    "    col = row.find_all('td')\n",
    "\n",
    "    # Create a variable of the string inside 1st <td> tag pair,\n",
    "    column_1 = col[0].string.strip()\n",
    "    # and append it to first_name variable\n",
    "    Date.append(column_1)\n",
    "\n",
    "    # Create a variable of the string inside 2nd <td> tag pair,\n",
    "    column_2 = col[1].string.strip()\n",
    "    # and append it to last_name variable\n",
    "    Sate.append(column_2)\n",
    "\n",
    "    # Create a variable of the string inside 3rd <td> tag pair,\n",
    "    column_3 = col[2].string.strip()\n",
    "    # and append it to age variable\n",
    "    City.append(column_3)\n",
    "\n",
    "    # Create a variable of the string inside 4th <td> tag pair,\n",
    "    column_4 = col[3].string.strip()\n",
    "    # and append it to preTestScore variable\n",
    "    Address.append(column_4)\n",
    "\n",
    "    # Create a variable of the string inside 5th <td> tag pair,\n",
    "    column_5 = col[4].string.strip()\n",
    "    # and append it to postTestScore variable\n",
    "    Number_Killed.append(column_5)\n",
    "\n",
    "    \n",
    "    # Create a variable of the string inside 6th <td> tag pair,\n",
    "    column_5 = col[4].string.strip()\n",
    "    # and append it to postTestScore variable\n",
    "    Number_Injured.append(column_6)\n",
    "    \n",
    "    \n",
    "    # Create a variable of the string inside 7th <td> tag pair,\n",
    "    column_5 = col[4].string.strip()\n",
    "    # and append it to postTestScore variable\n",
    "    Operations.append(column_7)\n",
    "    \n",
    "    \n",
    "# Create a variable of the value of the columns\n",
    "columns = {'Incident Date': Date, 'State': State, 'City or County': City, 'Address': Address, '# Killed': Number_Killed, '# Injured': Number_Injured, 'Operations': Operation}\n",
    "\n",
    "# Create a dataframe from the columns variable\n",
    "df = pd.DataFrame(columns)"
   ]
  },
  {
   "cell_type": "code",
   "execution_count": null,
   "metadata": {
    "collapsed": true
   },
   "outputs": [],
   "source": []
  }
 ],
 "metadata": {
  "kernelspec": {
   "display_name": "Python 2",
   "language": "python",
   "name": "python2"
  },
  "language_info": {
   "codemirror_mode": {
    "name": "ipython",
    "version": 2
   },
   "file_extension": ".py",
   "mimetype": "text/x-python",
   "name": "python",
   "nbconvert_exporter": "python",
   "pygments_lexer": "ipython2",
   "version": "2.7.13"
  }
 },
 "nbformat": 4,
 "nbformat_minor": 2
}
